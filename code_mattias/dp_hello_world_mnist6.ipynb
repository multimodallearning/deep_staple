{
 "cells": [
  {
   "cell_type": "code",
   "execution_count": 6,
   "id": "9269c04f",
   "metadata": {},
   "outputs": [
    {
     "name": "stdout",
     "output_type": "stream",
     "text": [
      "\n",
      "### Recommended gpus on this machine (descending order) ###\n",
      "  ID  Card name                     Util    Mem free  Cuda             User(s)\n",
      "----  --------------------------  ------  ----------  ---------------  -------------\n",
      "   2  NVIDIA GeForce RTX 2080 Ti     0 %    9937 MiB  11.5(495.29.05)  grossbroehmer\n",
      "   0  NVIDIA GeForce RTX 2080 Ti     0 %    2575 MiB  11.5(495.29.05)  schneider\n",
      "   1  NVIDIA GeForce RTX 2080 Ti    28 %    6739 MiB  11.5(495.29.05)  weihsbach\n",
      "   3  NVIDIA GeForce RTX 2080 Ti    48 %    8751 MiB  11.5(495.29.05)  nicke\n",
      "\n",
      "Will apply following mapping\n",
      "\n",
      "  ID  Card name                       torch\n",
      "----  --------------------------  --  -------\n",
      "   2  NVIDIA GeForce RTX 2080 Ti  ->  cuda:0\n"
     ]
    }
   ],
   "source": [
    "import os\n",
    "from meidic_vtach_utils.run_on_recommended_cuda import get_cuda_environ_vars as get_vars\n",
    "os.environ.update(get_vars(select=\"*\"))\n",
    "import torch\n",
    "import torch.nn as nn\n",
    "import torch.nn.functional as F\n",
    "import matplotlib.pyplot as plt\n",
    "import scipy.io\n",
    "import numpy as np\n",
    "import torchvision\n",
    "from enum import Enum, auto\n",
    "from mdl_seg_class.metrics import dice2d\n",
    "class DataParamMode(Enum):\n",
    "    INSTANCE_PARAMS = auto()\n",
    "    GRIDDED_INSTANCE_PARAMS = auto()\n",
    "    DISABLED = auto()\n",
    "# from curriculum_deeplab.data_parameters import DataParameterManager"
   ]
  },
  {
   "cell_type": "code",
   "execution_count": 2,
   "id": "72629711",
   "metadata": {},
   "outputs": [],
   "source": [
    "# torchvision.datasets.MNIST(root=\"../data\", download=True)"
   ]
  },
  {
   "cell_type": "code",
   "execution_count": 8,
   "id": "515302ac",
   "metadata": {},
   "outputs": [],
   "source": [
    "class dotdict(dict):\n",
    "    \"\"\"dot.notation access to dictionary attributes\"\"\"\n",
    "    __getattr__ = dict.get\n",
    "    __setattr__ = dict.__setitem__\n",
    "    __delattr__ = dict.__delitem__\n",
    "    \n",
    "config = dotdict({\n",
    "    # Data parameter config\n",
    "    'data_param_mode': DataParamMode.INSTANCE_PARAMS,\n",
    "    'init_class_param': 1.0, \n",
    "    'lr_class_param': 0.1,\n",
    "    'init_inst_param': 1.0, \n",
    "    'lr_inst_param': 0.1,\n",
    "    'wd_inst_param': 0.0,\n",
    "    'wd_class_param': 0.0,\n",
    "    \n",
    "    'skip_clamp_data_param': False,\n",
    "    'clamp_sigma_min': np.log(1/20),\n",
    "    'clamp_sigma_max': np.log(20),\n",
    "    # 'optim_algorithm': DataParamOptim.ADAM,\n",
    "    'optim_options': dict(\n",
    "        # momentum=.9\n",
    "        betas=(0.9, 0.999)\n",
    "    )\n",
    "})"
   ]
  },
  {
   "cell_type": "code",
   "execution_count": 9,
   "id": "a040f751",
   "metadata": {},
   "outputs": [
    {
     "name": "stdout",
     "output_type": "stream",
     "text": [
      "torch.Size([958, 28, 28])\n"
     ]
    },
    {
     "data": {
      "image/png": "[encoded data removed]",
      "text/plain": [
       "<Figure size 432x288 with 1 Axes>"
      ]
     },
     "metadata": {
      "needs_background": "light"
     },
     "output_type": "display_data"
    },
    {
     "data": {
      "text/plain": [
       "<matplotlib.image.AxesImage at 0x7fecb28ad0a0>"
      ]
     },
     "execution_count": 9,
     "metadata": {},
     "output_type": "execute_result"
    },
    {
     "data": {
      "image/png": "[encoded data removed]",
      "text/plain": [
       "<Figure size 432x288 with 1 Axes>"
      ]
     },
     "metadata": {
      "needs_background": "light"
     },
     "output_type": "display_data"
    }
   ],
   "source": [
    "data = torch.from_numpy(scipy.io.loadmat('../data/mnist-six.mat')['data']).float()\n",
    "segment_untouched = (data>150).long()\n",
    "segment = (data>150).long()\n",
    "segment2 = (data>5).long()\n",
    "\n",
    "\n",
    "image = (data/255 + torch.randn_like(data)*.1).unsqueeze(1)\n",
    "print(data.shape)\n",
    "plt.imshow(image[152,0].cpu())\n",
    "plt.show()\n",
    "plt.imshow(segment2[152].cpu())"
   ]
  },
  {
   "cell_type": "code",
   "execution_count": 10,
   "id": "49440b44",
   "metadata": {},
   "outputs": [],
   "source": [
    "do_flip = torch.rand(800)>0.7#[::2]\n",
    "# do_flip = torch.rand(800)>0.0#[::2]\n",
    "idx_flip = torch.empty(0).long()\n",
    "idx_clean = torch.empty(0).long()\n",
    "for i in range(800):\n",
    "    if(do_flip[i]):\n",
    "        idx_flip = torch.cat((idx_flip,torch.tensor([i])))\n",
    "        segment[i] = torch.roll(segment2[i].transpose(-2,-1),(int(torch.randn(1)*5),int(torch.randn(1)*5)),(0,1))\n",
    "    else:\n",
    "        idx_clean = torch.cat((idx_clean,torch.tensor([i])))"
   ]
  },
  {
   "cell_type": "code",
   "execution_count": 11,
   "id": "cdf0a978",
   "metadata": {},
   "outputs": [
    {
     "data": {
      "image/png": "[encoded data removed]",
      "text/plain": [
       "<Figure size 432x288 with 1 Axes>"
      ]
     },
     "metadata": {
      "needs_background": "light"
     },
     "output_type": "display_data"
    },
    {
     "name": "stdout",
     "output_type": "stream",
     "text": [
      "tensor([0, 1])\n"
     ]
    },
    {
     "data": {
      "image/png": "[encoded data removed]",
      "text/plain": [
       "<Figure size 432x288 with 1 Axes>"
      ]
     },
     "metadata": {
      "needs_background": "light"
     },
     "output_type": "display_data"
    },
    {
     "data": {
      "image/png": "[encoded data removed]",
      "text/plain": [
       "<Figure size 432x288 with 1 Axes>"
      ]
     },
     "metadata": {
      "needs_background": "light"
     },
     "output_type": "display_data"
    }
   ],
   "source": [
    "plt.imshow(segment[idx_flip[0]].cpu())\n",
    "plt.show()\n",
    "print(segment[0].unique())\n",
    "\n",
    "\n",
    "x_or_intersect = torch.logical_xor(segment, segment_untouched)\n",
    "or_intersect = torch.logical_or(segment, segment_untouched)\n",
    "plt.imshow(x_or_intersect[152].cpu())\n",
    "plt.show()\n",
    "plt.imshow(or_intersect[152].cpu())\n",
    "plt.show()"
   ]
  },
  {
   "cell_type": "code",
   "execution_count": 12,
   "id": "cb0cd1a4",
   "metadata": {},
   "outputs": [
    {
     "name": "stdout",
     "output_type": "stream",
     "text": [
      "0\n",
      "50\n",
      "100\n",
      "150\n",
      "200\n",
      "250\n",
      "300\n",
      "350\n",
      "400\n",
      "450\n"
     ]
    }
   ],
   "source": [
    "net = nn.Sequential(nn.Conv2d(1,32,3,padding=1),nn.BatchNorm2d(32),nn.ReLU(),\\\n",
    "                   nn.Conv2d(32,32,3,padding=1),nn.BatchNorm2d(32),nn.ReLU(),\\\n",
    "                   nn.Conv2d(32,32,3,padding=1),nn.BatchNorm2d(32),nn.ReLU(),\\\n",
    "                   nn.Conv2d(32,2,3,padding=1))\n",
    "\n",
    "\n",
    "embedding = nn.Embedding(800, 1, sparse=True)\n",
    "embedding\n",
    "\n",
    "# torch.nn.init.constant_(embedding.weight, 1.)\n",
    "\n",
    "run_loss_mattias = torch.zeros(500)\n",
    "run_cc_mattias = torch.zeros(500)\n",
    "\n",
    "net = net.cuda()\n",
    "embedding = embedding.cuda()\n",
    "image = image.cuda()\n",
    "segment = segment.cuda()\n",
    "run_loss_mattias = run_loss_mattias.cuda()\n",
    "run_cc_mattias = run_cc_mattias.cuda()\n",
    "do_flip = do_flip.cuda()\n",
    "\n",
    "dices = torch.zeros(500)\n",
    "dices = dices.cuda()\n",
    "\n",
    "\n",
    "optimizer = torch.optim.Adam(net.parameters(), lr=0.0001, betas=(0.9, 0.999), eps=1e-08)\n",
    "optimizer_data = torch.optim.SparseAdam(embedding.parameters(), lr=0.1, betas=(0.9, 0.999), eps=1e-08)\n",
    "\n",
    "for i in range(500):\n",
    "    if i % 50 == 0:\n",
    "        print(i)\n",
    "    idx = torch.randperm(800)[:64]\n",
    "    idx = idx.cuda()\n",
    "    optimizer.zero_grad()\n",
    "    optimizer_data.zero_grad()\n",
    "\n",
    "    input = image[idx]\n",
    "    output = net(input)\n",
    "\n",
    "    loss_mattias = nn.CrossEntropyLoss(reduction='none')(output,segment[idx]).mean(-1).mean(-1)\n",
    "    \n",
    "    # print(loss)\n",
    "    weight = torch.sigmoid(embedding(idx)).squeeze()\n",
    "    weight = weight/weight.mean()\n",
    "    \n",
    "    (loss_mattias*weight).sum().backward()\n",
    "    optimizer.step()\n",
    "    optimizer_data.step()\n",
    "\n",
    "    with torch.inference_mode():\n",
    "        val_img, val_seg = image[800:], segment[800:]\n",
    "        val_logits_for_score = net(val_img)\n",
    "        # Calculate dice score\n",
    "\n",
    "        run_cc_mattias[i] = np.corrcoef(torch.sigmoid(embedding.weight.detach()).cpu().squeeze().numpy(),do_flip.float().cpu().numpy())[0,1]\n",
    "        run_loss_mattias[i] = (loss_mattias*(1-do_flip[idx].float())).mean().item()\n",
    "        # Calculate dice score\n",
    "        b_dice = dice2d(\n",
    "            torch.nn.functional.one_hot(val_logits_for_score.argmax(1).long(), 2),\n",
    "            torch.nn.functional.one_hot(val_seg, 2), # Calculate dice score with original segmentation (no disturbance)\n",
    "            one_hot_torch_style=True\n",
    "        )\n",
    "\n",
    "        dices[i] = b_dice.mean()\n",
    "\n"
   ]
  },
  {
   "cell_type": "code",
   "execution_count": 8,
   "id": "9251b240",
   "metadata": {},
   "outputs": [],
   "source": [
    "# # Setup data parameter manager\n",
    "# CLASSES = ['background', 'six']\n",
    "# dpm = DataParameterManager(instance_keys=range(800), class_keys=CLASSES, config=config, device='cuda')\n",
    "\n",
    "# net2 = nn.Sequential(nn.Conv2d(1,32,3,padding=1),nn.BatchNorm2d(32),nn.ReLU(),\\\n",
    "#                    nn.Conv2d(32,32,3,padding=1),nn.BatchNorm2d(32),nn.ReLU(),\\\n",
    "#                    nn.Conv2d(32,32,3,padding=1),nn.BatchNorm2d(32),nn.ReLU(),\\\n",
    "#                    nn.Conv2d(32,2,3,padding=1))\n",
    "\n",
    "# optimizer2 = torch.optim.Adam(net2.parameters(), lr=0.0001, betas=(0.9, 0.999), eps=1e-08)\n",
    "\n",
    "# run_loss2 = torch.zeros(500)\n",
    "# run_cc2 = torch.zeros(500)\n",
    "\n",
    "# image = image.cuda()\n",
    "# segment = segment.cuda()\n",
    "# net2 = net2.cuda()\n",
    "# run_loss2 = run_loss2.cuda()\n",
    "# run_cc2 = run_cc2.cuda()\n",
    "# do_flip = do_flip.cuda()\n",
    "\n",
    "# for i in range(500):\n",
    "#     if i % 50 == 0:\n",
    "#         print(i)\n",
    "#     idx = torch.randperm(800)[:64]\n",
    "#     idx = idx.cuda()\n",
    "\n",
    "#     optimizer2.zero_grad()\n",
    "\n",
    "#     # Alt impl\n",
    "#     _input = image[idx]\n",
    "#     logits2 = net2(_input)\n",
    "#     logits2 = logits2.permute(0,2,3,1)\n",
    "#     _, loss = dpm.do_basic_train_step(\n",
    "#         nn.BCEWithLogitsLoss(), \n",
    "#         logits2, \n",
    "#         torch.nn.functional.one_hot(segment[idx].long()), \n",
    "#         optimizer2, \n",
    "#         inst_keys=idx.tolist(),\n",
    "#         scaler=None)\n",
    "\n",
    "#     run_cc2[i] = torch.tensor(np.corrcoef(torch.sigmoid(dpm.get_parameter_tensor(inst_keys=range(800))).detach().cpu().numpy(), do_flip.float().cpu().numpy()))[0,1]\n",
    "#     run_loss2[i] = (loss*(1-do_flip[idx].float())).mean().item()"
   ]
  },
  {
   "cell_type": "code",
   "execution_count": 43,
   "id": "88aebddd",
   "metadata": {},
   "outputs": [
    {
     "name": "stdout",
     "output_type": "stream",
     "text": [
      "0.5\n",
      "0\n",
      "0.5039840425814697\n",
      "0.5079363399723574\n",
      "0.5118571451210454\n",
      "0.5157467089604012\n",
      "0.5196052804238385\n",
      "0.5234331064612476\n",
      "0.5272304320548018\n",
      "0.5309975002346352\n",
      "0.5347345520943971\n",
      "0.5384418268066822\n",
      "0.5421195616383372\n",
      "0.5457679919656468\n",
      "0.5493873512893976\n",
      "0.5529778712498215\n",
      "0.5565397816414213\n",
      "0.560073310427678\n",
      "0.5635786837556404\n",
      "0.5670561259703975\n",
      "0.5705058596294383\n",
      "0.5739281055168943\n",
      "0.5773230826576706\n",
      "0.5806910083314629\n",
      "0.5840320980866641\n",
      "0.5873465657541588\n",
      "0.5906346234610091\n",
      "0.5938964816440304\n",
      "0.5971323490632602\n",
      "0.6003424328153175\n",
      "0.6035269383466582\n",
      "0.6066860694667233\n",
      "0.6098200283609829\n",
      "0.6129290156038758\n",
      "0.616013230171647\n",
      "0.6190728694550812\n",
      "0.6221081292721373\n",
      "0.6251192038804794\n",
      "0.6281062859899103\n",
      "0.6310695667747044\n",
      "0.6340092358858437\n",
      "0.6369254814631545\n",
      "0.6398184901473494\n",
      "0.6426884470919714\n",
      "0.6455355359752446\n",
      "0.6483599390118295\n",
      "0.6511618369644845\n",
      "0.6539414091556348\n",
      "0.6566988334788495\n",
      "0.6594342864102265\n",
      "0.662147943019687\n",
      "0.6648399769821803\n",
      "50\n",
      "0.667510560588799\n",
      "0.6701598647578055\n",
      "0.6727880590455707\n",
      "0.6753953116574263\n",
      "0.6779817894584292\n",
      "0.6805476579840419\n",
      "0.6830930814507254\n",
      "0.6856182227664508\n",
      "0.688123243541124\n",
      "0.6906083040969295\n",
      "0.6930735634785914\n",
      "0.6955191794635516\n",
      "0.6979453085720677\n",
      "0.7003521060772309\n",
      "0.7027397260149029\n",
      "0.7051083211935748\n",
      "0.7074580432041466\n",
      "0.7097890424296288\n",
      "0.7121014680547677\n",
      "0.7143954680755926\n",
      "0.7166711893088877\n",
      "0.7189287774015888\n",
      "0.7211683768401044\n",
      "0.7233901309595631\n",
      "0.7255941819529867\n",
      "0.7277806708803914\n",
      "0.7299497376778147\n",
      "0.732101521166272\n",
      "0.734236159060641\n",
      "0.7363537879784757\n",
      "0.7384545434487496\n",
      "0.7405385599205299\n",
      "0.742605970771582\n",
      "0.7446569083169061\n",
      "0.7466915038172053\n",
      "0.7487098874872857\n",
      "0.7507121885043917\n",
      "0.7526985350164714\n",
      "0.75466905415038\n",
      "0.7566238720200141\n",
      "0.7585631137343851\n",
      "0.7604869034056244\n",
      "0.7623953641569278\n",
      "0.7642886181304346\n",
      "0.7661667864950454\n",
      "0.7680299894541767\n",
      "0.7698783462534537\n",
      "0.7717119751883427\n",
      "0.7735309936117212\n",
      "0.7753355179413892\n",
      "100\n",
      "0.7771256636675199\n",
      "0.7789015453600506\n",
      "0.7806632766760161\n",
      "0.7824109703668216\n",
      "0.7841447382854602\n",
      "0.7858646913936702\n",
      "0.7875709397690377\n",
      "0.7892635926120412\n",
      "0.7909427582530404\n",
      "0.7926085441592093\n",
      "0.7942610569414147\n",
      "0.7959004023610387\n",
      "0.7975266853367475\n",
      "0.7991400099512069\n",
      "0.800740479457743\n",
      "0.8023281962869501\n",
      "0.8039032620532476\n",
      "0.8054657775613818\n",
      "0.8070158428128789\n",
      "0.808553557012444\n",
      "0.8100790185743106\n",
      "0.8115923251285395\n",
      "0.8130935735272667\n",
      "0.8145828598509022\n",
      "0.8160602794142788\n",
      "0.8175259267727532\n",
      "0.8189798957282562\n",
      "0.8204222793352978\n",
      "0.8218531699069206\n",
      "0.8232726590206099\n",
      "0.8246808375241536\n",
      "0.8260777955414563\n",
      "0.8274636224783081\n",
      "0.8288384070281061\n",
      "0.8302022371775304\n",
      "0.8315552002121764\n",
      "0.8328973827221401\n",
      "0.8342288706075601\n",
      "0.8355497490841157\n",
      "0.8368601026884803\n",
      "0.8381600152837316\n",
      "0.8394495700647197\n",
      "0.8407288495633904\n",
      "0.8419979356540688\n",
      "0.8432569095586974\n",
      "0.844505851852036\n",
      "0.8457448424668177\n",
      "0.8469739606988647\n",
      "0.8481932852121634\n",
      "0.8494028940438989\n",
      "150\n",
      "0.8506028646094493\n",
      "0.8517932737073405\n",
      "0.8529741975241608\n",
      "0.8541457116394378\n",
      "0.8553078910304747\n",
      "0.8564608100771491\n",
      "0.8576045425666737\n",
      "0.8587391616983182\n",
      "0.8598647400880942\n",
      "0.8609813497734029\n",
      "0.8620890622176454\n",
      "0.863187948314796\n",
      "0.8642780783939401\n",
      "0.865359522223775\n",
      "0.8664323490170749\n",
      "0.8674966274351206\n",
      "0.8685524255920942\n",
      "0.8695998110594382\n",
      "0.87063885087018\n",
      "0.8716696115232221\n",
      "0.8726921589875981\n",
      "0.8737065587066949\n",
      "0.8747128756024406\n",
      "0.8757111740794601\n",
      "0.8767015180291968\n",
      "0.8776839708340012\n",
      "0.8786585953711885\n",
      "0.8796254540170616\n",
      "0.8805846086509037\n",
      "0.8815361206589392\n",
      "0.8824800509382609\n",
      "0.883416459900729\n",
      "0.8843454074768371\n",
      "0.8852669531195467\n",
      "0.8861811558080936\n",
      "0.887088074051762\n",
      "0.8879877658936292\n",
      "0.8888802889142797\n",
      "0.8897657002354921\n",
      "0.8906440565238927\n",
      "0.8915154139945838\n",
      "0.8923798284147413\n",
      "0.8932373551071827\n",
      "0.8940880489539094\n",
      "0.8949319643996176\n",
      "0.8957691554551842\n",
      "0.8965996757011224\n",
      "0.8974235782910114\n",
      "0.8982409159548983\n",
      "0.8990517410026724\n",
      "200\n",
      "0.8998561053274134\n",
      "0.9006540604087131\n",
      "0.9014456573159687\n",
      "0.9022309467116525\n",
      "0.903009978854554\n",
      "0.9037828036029962\n",
      "0.9045494704180268\n",
      "0.9053100283665836\n",
      "0.9060645261246351\n",
      "0.9068130119802951\n",
      "0.9075555338369139\n",
      "0.9082921392161438\n",
      "0.9090228752609806\n",
      "0.9097477887387804\n",
      "0.9104669260442534\n",
      "0.9111803332024325\n",
      "0.9118880558716195\n",
      "0.9125901393463065\n",
      "0.9132866285600758\n",
      "0.9139775680884747\n",
      "0.9146630021518689\n",
      "0.9153429746182724\n",
      "0.9160175290061552\n",
      "0.9166867084872281\n",
      "0.9173505558892068\n",
      "0.9180091136985511\n",
      "0.918662424063186\n",
      "0.9193105287951975\n",
      "0.91995346937351\n",
      "0.9205912869465397\n",
      "0.921224022334829\n",
      "0.921851716033659\n",
      "0.9224744082156403\n",
      "0.9230921387332853\n",
      "0.923704947121558\n",
      "0.9243128726004044\n",
      "0.9249159540772627\n",
      "0.9255142301495531\n",
      "0.9261077391071486\n",
      "0.9266965189348249\n",
      "0.9272806073146922\n",
      "0.9278600416286059\n",
      "0.9284348589605601\n",
      "0.9290050960990601\n",
      "0.9295707895394775\n",
      "0.9301319754863855\n",
      "0.9306886898558764\n",
      "0.9312409682778596\n",
      "0.9317888460983429\n",
      "0.9323323583816936\n",
      "250\n",
      "0.9328715399128835\n",
      "0.9334064251997147\n",
      "0.933937048475028\n",
      "0.9344634436988941\n",
      "0.934985644560787\n",
      "0.9355036844817404\n",
      "0.9360175966164856\n",
      "0.936527413855575\n",
      "0.9370331688274858\n",
      "0.9375348939007088\n",
      "0.93803262118582\n",
      "0.9385263825375355\n",
      "0.9390162095567504\n",
      "0.9395021335925611\n",
      "0.9399841857442717\n",
      "0.9404623968633845\n",
      "0.9409367975555742\n",
      "0.9414074181826474\n",
      "0.9418742888644845\n",
      "0.9423374394809687\n",
      "0.9427968996738976\n",
      "0.9432526988488801\n",
      "0.9437048661772192\n",
      "0.9441534305977781\n",
      "0.944598420818833\n",
      "0.9450398653199099\n",
      "0.9454777923536075\n",
      "0.9459122299474054\n",
      "0.946343205905458\n",
      "0.9467707478103736\n",
      "0.9471948830249801\n",
      "0.9476156386940761\n",
      "0.9480330417461678\n",
      "0.9484471188951933\n",
      "0.9488578966422312\n",
      "0.9492654012771978\n",
      "0.9496696588805287\n",
      "0.9500706953248483\n",
      "0.9504685362766263\n",
      "0.9508632071978192\n",
      "0.9512547333475008\n",
      "0.951643139783478\n",
      "0.9520284513638957\n",
      "0.9524106927488262\n",
      "0.9527898884018489\n",
      "0.9531660625916147\n",
      "0.9535392393934006\n",
      "0.9539094426906489\n",
      "0.9542766961764971\n",
      "0.9546410233552938\n",
      "300\n",
      "0.9550024475441026\n",
      "0.955360991874195\n",
      "0.9557166792925305\n",
      "0.9560695325632254\n",
      "0.9564195742690094\n",
      "0.956766826812671\n",
      "0.9571113124184918\n",
      "0.957453053133668\n",
      "0.957792070829722\n",
      "0.958128387203902\n",
      "0.958462023780571\n",
      "0.9587930019125835\n",
      "0.9591213427826532\n",
      "0.9594470674047075\n",
      "0.9597701966252338\n",
      "0.9600907511246122\n",
      "0.9604087514184403\n",
      "0.9607242178588452\n",
      "0.961037170635787\n",
      "0.9613476297783501\n",
      "0.9616556151560257\n",
      "0.961961146479983\n",
      "0.9622642433043311\n",
      "0.9625649250273701\n",
      "0.962863210892833\n",
      "0.9631591199911171\n",
      "0.9634526712605055\n",
      "0.9637438834883798\n",
      "0.9640327753124218\n",
      "0.964319365221807\n",
      "0.9646036715583873\n",
      "0.9648857125178655\n",
      "0.9651655061509591\n",
      "0.9654430703645561\n",
      "0.965718422922861\n",
      "0.9659915814485316\n",
      "0.9662625634238066\n",
      "0.9665313861916249\n",
      "0.9667980669567355\n",
      "0.9670626227867986\n",
      "0.9673250706134772\n",
      "0.967585427233522\n",
      "0.9678437093098455\n",
      "0.968099933372589\n",
      "0.9683541158201796\n",
      "0.9686062729203809\n",
      "0.9688564208113335\n",
      "0.9691045755025876\n",
      "0.969350752876128\n",
      "0.969594968687391\n",
      "350\n",
      "0.9698372385662717\n",
      "0.9700775780181251\n",
      "0.9703160024247581\n",
      "0.9705525270454141\n",
      "0.9707871670177496\n",
      "0.9710199373588029\n",
      "0.9712508529659553\n",
      "0.9714799286178843\n",
      "0.9717071789755102\n",
      "0.9719326185829331\n",
      "0.972156261868365\n",
      "0.9723781231450525\n",
      "0.9725982166121929\n",
      "0.9728165563558434\n",
      "0.973033156349822\n",
      "0.9732480304566022\n",
      "0.9734611924282004\n",
      "0.9736726559070554\n",
      "0.9738824344269019\n",
      "0.9740905414136372\n",
      "0.9742969901861789\n",
      "0.9745017939573193\n",
      "0.9747049658345694\n",
      "0.9749065188209991\n",
      "0.975106465816068\n",
      "0.9753048196164522\n",
      "0.9755015929168624\n",
      "0.9756967983108572\n",
      "0.9758904482916484\n",
      "0.9760825552529009\n",
      "0.9762731314895257\n",
      "0.976462189198467\n",
      "0.9766497404794827\n",
      "0.976835797335919\n",
      "0.977020371675478\n",
      "0.9772034753109804\n",
      "0.9773851199611215\n",
      "0.977565317251221\n",
      "0.9777440787139668\n",
      "0.9779214157901536\n",
      "0.9780973398294148\n",
      "0.978271862090949\n",
      "0.9784449937442403\n",
      "0.9786167458697739\n",
      "0.9787871294597443\n",
      "0.9789561554187595\n",
      "0.9791238345645384\n",
      "0.9792901776286038\n",
      "0.9794551952569684\n",
      "0.9796188980108169\n",
      "400\n",
      "0.9797812963671813\n",
      "0.9799424007196118\n",
      "0.9801022213788421\n",
      "0.9802607685734488\n",
      "0.9804180524505064\n",
      "0.9805740830762371\n",
      "0.9807288704366537\n",
      "0.9808824244382006\n",
      "0.9810347549083859\n",
      "0.9811858715964119\n",
      "0.9813357841737982\n",
      "0.9814845022350008\n",
      "0.9816320352980266\n",
      "0.9817783928050418\n",
      "0.9819235841229768\n",
      "0.9820676185441256\n",
      "0.9822105052867404\n",
      "0.9823522534956213\n",
      "0.9824928722427021\n",
      "0.9826323705276307\n",
      "0.982770757278345\n",
      "0.982908041351644\n",
      "0.9830442315337555\n",
      "0.9831793365408976\n",
      "0.9833133650198369\n",
      "0.9834463255484418\n",
      "0.9835782266362314\n",
      "0.9837090767249204\n",
      "0.9838388841889592\n",
      "0.9839676573360696\n",
      "0.9840954044077772\n",
      "0.9842221335799382\n",
      "0.9843478529632628\n",
      "0.9844725706038343\n",
      "0.9845962944836244\n",
      "0.9847190325210038\n",
      "0.9848407925712486\n",
      "0.9849615824270435\n",
      "0.9850814098189806\n",
      "0.985200282416054\n",
      "0.9853182078261503\n",
      "0.9854351935965362\n",
      "0.9855512472143406\n",
      "0.985666376107035\n",
      "0.9857805876429078\n",
      "0.9858938891315361\n",
      "0.9860062878242538\n",
      "0.9861177909146158\n",
      "0.9862284055388579\n",
      "0.9863381387763537\n",
      "450\n",
      "0.986446997650068\n",
      "0.9865549891270058\n",
      "0.9866621201186585\n",
      "0.9867683974814461\n",
      "0.9868738280171561\n",
      "0.9869784184733787\n",
      "0.987082175543939\n",
      "0.9871851058693248\n",
      "0.987287216037112\n",
      "0.9873885125823865\n",
      "0.9874890019881613\n",
      "0.9875886906857929\n",
      "0.9876875850553921\n",
      "0.9877856914262322\n",
      "0.9878830160771545\n",
      "0.9879795652369696\n",
      "0.988075345084857\n",
      "0.9881703617507596\n",
      "0.9882646213157762\n",
      "0.9883581298125514\n",
      "0.988450893225661\n",
      "0.9885429174919949\n",
      "0.9886342085011374\n",
      "0.9887247720957446\n",
      "0.9888146140719172\n",
      "0.9889037401795725\n",
      "0.9889921561228118\n",
      "0.9890798675602855\n",
      "0.9891668801055558\n",
      "0.989253199327455\n",
      "0.9893388307504429\n",
      "0.98942377985496\n",
      "0.9895080520777777\n",
      "0.9895916528123471\n",
      "0.9896745874091437\n",
      "0.9897568611760101\n",
      "0.9898384793784956\n",
      "0.9899194472401927\n",
      "0.9899997699430723\n",
      "0.9900794526278149\n",
      "0.9901585003941393\n",
      "0.9902369183011299\n",
      "0.9903147113675592\n",
      "0.9903918845722102\n",
      "0.9904684428541941\n",
      "0.9905443911132674\n",
      "0.9906197342101444\n",
      "0.9906944769668089\n",
      "0.990768624166823\n"
     ]
    }
   ],
   "source": [
    "import torch.cuda.amp as amp\n",
    "\n",
    "net3 = nn.Sequential(nn.Conv2d(1,32,3,padding=1),nn.BatchNorm2d(32),nn.ReLU(),\\\n",
    "                   nn.Conv2d(32,32,3,padding=1),nn.BatchNorm2d(32),nn.ReLU(),\\\n",
    "                   nn.Conv2d(32,32,3,padding=1),nn.BatchNorm2d(32),nn.ReLU(),\\\n",
    "                   nn.Conv2d(32,2,3,padding=1))\n",
    "\n",
    "\n",
    "embedding3 = nn.Embedding(800, 1, sparse=True)\n",
    "torch.nn.init.constant_(embedding3.weight, 0.)\n",
    "# torch.nn.init.normal_(embedding3.weight, mean=1., std=0.01)\n",
    "# embedding3.weight = torch.rand_like(embedding3.weight)*1e-4 +1.\n",
    "\n",
    "run_loss_mattias3 = torch.zeros(500)\n",
    "run_cc_mattias3 = torch.zeros(500)\n",
    "\n",
    "net3 = net3.cuda()\n",
    "embedding3 = embedding3.cuda()\n",
    "image = image.cuda()\n",
    "segment = segment.cuda()\n",
    "run_loss_mattias3 = run_loss_mattias3.cuda()\n",
    "run_cc_mattias3 = run_cc_mattias3.cuda()\n",
    "do_flip = do_flip.cuda()\n",
    "\n",
    "\n",
    "optimizer3 = torch.optim.Adam(net3.parameters(), lr=0.0001, betas=(0.0, 0.0), eps=1e-08)\n",
    "optimizer_data3 = torch.optim.SparseAdam(embedding3.parameters(), lr=0.1, betas=(0.0, 0.0), eps=1e-08)\n",
    "scaler = amp.GradScaler()\n",
    "\n",
    "\n",
    "for i in range(500):\n",
    "    for g, h in zip(optimizer.param_groups, optimizer_data3.param_groups):\n",
    "        mult = .5*(1-np.exp(-i/(10*800/64)))+.5\n",
    "        print(mult)\n",
    "        # mult=0\n",
    "        g['betas'] = (mult*0.9, mult*0.999)\n",
    "        h['betas'] = (1*0.9, 1*0.999)\n",
    "\n",
    "    if i % 50 == 0:\n",
    "        print(i)\n",
    "    idx = torch.randperm(800)[:64]\n",
    "    idx = idx.cuda()\n",
    "    optimizer3.zero_grad()\n",
    "    optimizer_data3.zero_grad()\n",
    "\n",
    "    input = image[idx]\n",
    "    output = net3(input)\n",
    "\n",
    "    # Var 0\n",
    "    # loss_mattias = nn.CrossEntropyLoss(reduction='none')(output,segment[idx]).mean((-1,-2))\n",
    "    # weight = torch.sigmoid(embedding3(idx)).squeeze()\n",
    "    # weight = weight/weight.mean()\n",
    "    # dp_loss = loss_mattias*weight\n",
    "    # dp_loss.sum().backward()\n",
    "\n",
    "    # Var 1 working!\n",
    "    # weight = embedding3(idx).squeeze()\n",
    "    # dp_logits = output*weight.exp().view(-1,1,1,1)\n",
    "    # loss_mattias = nn.CrossEntropyLoss(reduction='sum')(\n",
    "    #     dp_logits,\n",
    "    #     segment[idx]\n",
    "    # )\n",
    "    # dp_loss = loss_mattias\n",
    "    # dp_loss.sum().backward()\n",
    "\n",
    "    # Var 1.5\n",
    "    # weight = embedding3(idx).squeeze()\n",
    "    # dp_logits = output/torch.sigmoid(weight).view(-1,1,1,1)\n",
    "    # loss_mattias = nn.CrossEntropyLoss(reduction='sum')(\n",
    "    #     dp_logits,\n",
    "    #     segment[idx]\n",
    "    # )\n",
    "    # dp_loss = loss_mattias\n",
    "    # dp_loss.sum().backward()\n",
    "\n",
    "    # Var 2, with autocast - setting embedding vector to 0 yields best performance\n",
    "    with amp.autocast(enabled=True):\n",
    "        loss = nn.CrossEntropyLoss(reduction='none')(output,segment[idx]).mean((-1,-2))\n",
    "        weight = embedding3(idx)\n",
    "\n",
    "        weight = torch.sigmoid(weight).squeeze()\n",
    "        dp_loss = (loss*weight/weight.mean()).sum()\n",
    "\n",
    "    scaler.scale(dp_loss).backward()\n",
    "    scaler.step(optimizer3)        \n",
    "    scaler.step(optimizer_data3)\n",
    "    scaler.update()\n",
    "    \n",
    "    run_cc_mattias3[i] = np.corrcoef(torch.sigmoid(embedding3.weight.detach()).cpu().squeeze().numpy(),do_flip.float().cpu().numpy())[0,1]\n",
    "    run_loss_mattias3[i] = (loss*(1-do_flip[idx].float())).mean().item()\n"
   ]
  },
  {
   "cell_type": "code",
   "execution_count": 44,
   "id": "800632d8",
   "metadata": {},
   "outputs": [
    {
     "name": "stdout",
     "output_type": "stream",
     "text": [
      "weights\n"
     ]
    },
    {
     "data": {
      "image/png": "[encoded data removed]",
      "text/plain": [
       "<Figure size 432x288 with 1 Axes>"
      ]
     },
     "metadata": {
      "needs_background": "light"
     },
     "output_type": "display_data"
    },
    {
     "name": "stdout",
     "output_type": "stream",
     "text": [
      "dices\n"
     ]
    },
    {
     "data": {
      "image/png": "[encoded data removed]",
      "text/plain": [
       "<Figure size 432x288 with 1 Axes>"
      ]
     },
     "metadata": {
      "needs_background": "light"
     },
     "output_type": "display_data"
    },
    {
     "name": "stdout",
     "output_type": "stream",
     "text": [
      "0.9824011921882629\n",
      "loss\n"
     ]
    },
    {
     "data": {
      "image/png": "[encoded data removed]",
      "text/plain": [
       "<Figure size 432x288 with 1 Axes>"
      ]
     },
     "metadata": {
      "needs_background": "light"
     },
     "output_type": "display_data"
    },
    {
     "name": "stdout",
     "output_type": "stream",
     "text": [
      "tensor(0.0220)\n",
      "tensor(0.0133)\n",
      "cc\n"
     ]
    },
    {
     "data": {
      "image/png": "[encoded data removed]",
      "text/plain": [
       "<Figure size 432x288 with 1 Axes>"
      ]
     },
     "metadata": {
      "needs_background": "light"
     },
     "output_type": "display_data"
    },
    {
     "name": "stdout",
     "output_type": "stream",
     "text": [
      "corr_coeff\n",
      "-0.999114990234375\n",
      "-0.9999520778656006\n",
      "weight_std\n",
      "4.721183776855469\n",
      "4.838154315948486\n"
     ]
    }
   ],
   "source": [
    "print(\"weights\")\n",
    "plt.plot(embedding.weight.detach().cpu())\n",
    "plt.plot(embedding3.weight.detach().cpu())\n",
    "# plt.plot(dpm.get_parameter_tensor(inst_keys='all').detach().cpu().numpy())\n",
    "# plt.plot(embedding4.weight.detach().mean(-1).cpu())\n",
    "\n",
    "plt.show()\n",
    "\n",
    "print(\"dices\")\n",
    "plt.plot(dices.cpu())\n",
    "plt.plot([])\n",
    "# plt.plot(dices4.cpu())\n",
    "plt.show()\n",
    "print(dices.cpu()[-1].item())\n",
    "# print(dices4.cpu()[-1].item())\n",
    "\n",
    "print(\"loss\")\n",
    "plt.plot(run_loss_mattias.cpu())\n",
    "# plt.plot(run_loss2.cpu())\n",
    "plt.plot(run_loss_mattias3.cpu())\n",
    "# plt.plot(run_loss_mattias4.cpu())\n",
    "plt.show()\n",
    "\n",
    "print(run_loss_mattias.cpu()[-1])\n",
    "# print(run_loss2.cpu()[-1])\n",
    "print(run_loss_mattias3.cpu()[-1])\n",
    "# print(run_loss_mattias4.cpu()[-1])\n",
    "\n",
    "print(\"cc\")\n",
    "plt.plot(run_cc_mattias.cpu())\n",
    "# plt.plot(run_cc2.cpu())\n",
    "plt.plot(run_cc_mattias3.cpu())\n",
    "# plt.plot(run_cc_mattias4.cpu())\n",
    "plt.show()\n",
    "\n",
    "print(\"corr_coeff\")\n",
    "print(run_cc_mattias.cpu()[-1].item())\n",
    "# print(run_cc2.cpu()[-1].item())\n",
    "print(run_cc_mattias3.cpu()[-1].item())\n",
    "# print(run_cc_mattias4.cpu()[-1].item())\n",
    "\n",
    "print(\"weight_std\")\n",
    "print(embedding.weight.detach().cpu().std().item())\n",
    "# print(dpm.get_parameter_tensor(inst_keys='all').detach().cpu().std().item())\n",
    "print(embedding3.weight.detach().cpu().std().item())\n",
    "# print(embedding4.weight.detach().cpu().std().item())\n",
    "\n",
    "# print(\"params\")\n",
    "# print(sum(p.numel() for p in net4.parameters()))\n",
    "# print(sum(p.numel() for p in embedding4.parameters()))"
   ]
  },
  {
   "cell_type": "code",
   "execution_count": 32,
   "id": "cb5068c3",
   "metadata": {},
   "outputs": [
    {
     "data": {
      "image/png": "[encoded data removed]",
      "text/plain": [
       "<Figure size 432x288 with 1 Axes>"
      ]
     },
     "metadata": {
      "needs_background": "light"
     },
     "output_type": "display_data"
    }
   ],
   "source": [
    "plt.hist(embedding(idx_flip.cuda()).cpu().detach().numpy(), bins=90, histtype='step');\n",
    "plt.hist(embedding(idx_clean.cuda()).cpu().detach().numpy(), bins=90, histtype='step');"
   ]
  },
  {
   "cell_type": "code",
   "execution_count": 218,
   "id": "9eff5bd5",
   "metadata": {},
   "outputs": [
    {
     "data": {
      "image/png": "[encoded data removed]",
      "text/plain": [
       "<Figure size 432x288 with 1 Axes>"
      ]
     },
     "metadata": {
      "needs_background": "light"
     },
     "output_type": "display_data"
    }
   ],
   "source": [
    "# plt.hist(embedding3(idx_flip.cuda()).cpu().detach().numpy(), bins=90, histtype='step');\n",
    "# plt.hist(embedding3(idx_clean.cuda()).cpu().detach().numpy(), bins=90, histtype='step');\n",
    "\n",
    "idx_map_flip = map_idxs(idx_flip.cuda(), GRID_SIZE_Y, GRID_SIZE_X)\n",
    "idx_map_clean = map_idxs(idx_clean.cuda(), GRID_SIZE_Y, GRID_SIZE_X)\n",
    "\n",
    "# mask_flip_idxs = torch.nn.functional.interpolate(x_or_intersect[idx_flip].unsqueeze(1).float(), size=(GRID_SIZE_Y, GRID_SIZE_Y)).squeeze(1).bool()\n",
    "# masked_flipped_weights =  embedding4(idx_map_flip).view(-1,GRID_SIZE_Y, GRID_SIZE_X)[mask_flip_idxs]\n",
    "\n",
    "# mask_flip_idxs = torch.nn.functional.interpolate(or_intersect[idx_flip].unsqueeze(1).float(), size=(GRID_SIZE_Y, GRID_SIZE_Y), mode='nearest').squeeze(1).float() # TODO best so far\n",
    "# masked_flipped_weights =  embedding4(idx_map_flip).view(-1,GRID_SIZE_Y, GRID_SIZE_X) * mask_flip_idxs\n",
    "\n",
    "\n",
    "mask_clean_idxs = or_intersect[idx_clean].float()\n",
    "masked_clean_weights =  torch.nn.functional.interpolate(\n",
    "    embedding4(idx_map_clean).view(-1,CLASS_CONTROL,GRID_SIZE_Y, GRID_SIZE_X), size=(mask_clean_idxs.shape[-2:]), mode='bilinear', align_corners=True)* mask_clean_idxs.unsqueeze(1)\n",
    "masked_clean_weights[masked_clean_weights==0.] = float('nan')\n",
    "\n",
    "mask_flip_idxs = or_intersect[idx_flip].float()\n",
    "masked_flipped_weights =  torch.nn.functional.interpolate(\n",
    "    embedding4(idx_map_flip).view(-1,CLASS_CONTROL,GRID_SIZE_Y, GRID_SIZE_X), size=(mask_flip_idxs.shape[-2:]), mode='bilinear', align_corners=True) * mask_flip_idxs.unsqueeze(1)\n",
    "masked_flipped_weights[masked_flipped_weights==0.] = float('nan')\n",
    "    \n",
    "plt.hist(np.nanmean(masked_flipped_weights[:,CLASS_CONTROL-1].detach().cpu(), axis=(-2,-1)), bins=90, histtype='step');  \n",
    "plt.hist(np.nanmean(masked_clean_weights[:,CLASS_CONTROL-1].detach().cpu(), axis=(-2,-1)), bins=90, histtype='step');      \n",
    "# plt.hist((masked_flipped_weights).cpu().detach().numpy(), bins=90, histtype='step');"
   ]
  },
  {
   "cell_type": "code",
   "execution_count": 219,
   "id": "b89e982c",
   "metadata": {},
   "outputs": [
    {
     "name": "stdout",
     "output_type": "stream",
     "text": [
      "Sample\n"
     ]
    },
    {
     "data": {
      "image/png": "[encoded data removed]",
      "text/plain": [
       "<Figure size 432x288 with 1 Axes>"
      ]
     },
     "metadata": {
      "needs_background": "light"
     },
     "output_type": "display_data"
    },
    {
     "name": "stdout",
     "output_type": "stream",
     "text": [
      "Ground-truth\n"
     ]
    },
    {
     "data": {
      "image/png": "[encoded data removed]",
      "text/plain": [
       "<Figure size 432x288 with 1 Axes>"
      ]
     },
     "metadata": {
      "needs_background": "light"
     },
     "output_type": "display_data"
    },
    {
     "data": {
      "image/png": "[encoded data removed]",
      "text/plain": [
       "<Figure size 432x288 with 1 Axes>"
      ]
     },
     "metadata": {
      "needs_background": "light"
     },
     "output_type": "display_data"
    },
    {
     "name": "stdout",
     "output_type": "stream",
     "text": [
      "Show weightmaps\n",
      "True map\n",
      "-1.9563895463943481 7.983436107635498 2.829319477081299\n"
     ]
    },
    {
     "data": {
      "image/png": "[encoded data removed]",
      "text/plain": [
       "<Figure size 432x288 with 2 Axes>"
      ]
     },
     "metadata": {
      "needs_background": "light"
     },
     "output_type": "display_data"
    },
    {
     "name": "stdout",
     "output_type": "stream",
     "text": [
      "Predicted map\n"
     ]
    },
    {
     "data": {
      "image/png": "[encoded data removed]",
      "text/plain": [
       "<Figure size 432x288 with 2 Axes>"
      ]
     },
     "metadata": {
      "needs_background": "light"
     },
     "output_type": "display_data"
    },
    {
     "name": "stdout",
     "output_type": "stream",
     "text": [
      "Orig logits\n"
     ]
    },
    {
     "data": {
      "image/png": "[encoded data removed]",
      "text/plain": [
       "<Figure size 432x288 with 2 Axes>"
      ]
     },
     "metadata": {
      "needs_background": "light"
     },
     "output_type": "display_data"
    },
    {
     "name": "stdout",
     "output_type": "stream",
     "text": [
      "Weighted logits\n"
     ]
    },
    {
     "data": {
      "image/png": "[encoded data removed]",
      "text/plain": [
       "<Figure size 432x288 with 2 Axes>"
      ]
     },
     "metadata": {
      "needs_background": "light"
     },
     "output_type": "display_data"
    }
   ],
   "source": [
    "SHOW_IDX = 1\n",
    "CLASS_NUM = 0\n",
    "\n",
    "print(\"Sample\")\n",
    "plt.imshow(image[idx_flip[SHOW_IDX]].squeeze(0).cpu())\n",
    "plt.show()\n",
    "\n",
    "print(\"Ground-truth\")\n",
    "plt.imshow(segment[idx_flip[SHOW_IDX]].cpu())\n",
    "plt.show()\n",
    "plt.imshow(pred[0,CLASS_NUM].squeeze(0).cpu())\n",
    "plt.show()\n",
    "\n",
    "print('Show weightmaps')\n",
    "print('True map')\n",
    "show_weight = embedding4.weight[map_idxs(idx_flip[SHOW_IDX], GRID_SIZE_Y, GRID_SIZE_X)].view(-1,GRID_SIZE_Y,GRID_SIZE_X).unsqueeze(0)\n",
    "show_weight = show_weight.view(-1, CLASS_CONTROL, GRID_SIZE_Y, GRID_SIZE_X)\n",
    "disturbed_min, disturbed_max, disturbed_mean = show_weight.min().item(), show_weight.max().item(), show_weight.mean().item()\n",
    "print(disturbed_min, disturbed_max, disturbed_mean)\n",
    "plt.imshow(show_weight[0,CLASS_NUM].detach().cpu(), cmap='gray')\n",
    "plt.colorbar()\n",
    "plt.show()\n",
    "\n",
    "print('Predicted map')\n",
    "with amp.autocast(enabled=True):\n",
    "    with torch.inference_mode():\n",
    "        show_logits = net4(image[idx_flip[SHOW_IDX]].unsqueeze(0))\n",
    "        uncertainty_map_inf = net4_uncertainty(torch.cat((image[idx_flip[SHOW_IDX]].unsqueeze(0), show_logits), dim=1))\n",
    "\n",
    "plt.imshow((uncertainty_map_inf[0,CLASS_NUM].detach().view(28,28)).cpu().numpy(), cmap='gray')\n",
    "plt.colorbar()\n",
    "plt.show()\n",
    "\n",
    "print('Orig logits')\n",
    "plt.imshow((show_logits[:,1].detach().view(28,28)).cpu().numpy(), cmap='gray')\n",
    "plt.colorbar()\n",
    "plt.show()\n",
    "print('Weighted logits')\n",
    "plt.imshow(((uncertainty_map_inf[0,CLASS_NUM]*show_logits)[:,1].detach().view(28,28)).cpu().numpy(), cmap='gray')\n",
    "plt.colorbar()\n",
    "plt.show()"
   ]
  },
  {
   "cell_type": "code",
   "execution_count": 208,
   "id": "d867e88d",
   "metadata": {},
   "outputs": [
    {
     "name": "stdout",
     "output_type": "stream",
     "text": [
      "Sample\n"
     ]
    },
    {
     "data": {
      "image/png": "[encoded data removed]",
      "text/plain": [
       "<Figure size 432x288 with 1 Axes>"
      ]
     },
     "metadata": {
      "needs_background": "light"
     },
     "output_type": "display_data"
    },
    {
     "name": "stdout",
     "output_type": "stream",
     "text": [
      "Ground-truth\n"
     ]
    },
    {
     "data": {
      "image/png": "[encoded data removed]",
      "text/plain": [
       "<Figure size 432x288 with 1 Axes>"
      ]
     },
     "metadata": {
      "needs_background": "light"
     },
     "output_type": "display_data"
    },
    {
     "name": "stdout",
     "output_type": "stream",
     "text": [
      "Show weightmaps\n",
      "True map\n",
      "2.3511219024658203 6.444005966186523 4.754271984100342\n"
     ]
    },
    {
     "data": {
      "image/png": "[encoded data removed]",
      "text/plain": [
       "<Figure size 432x288 with 2 Axes>"
      ]
     },
     "metadata": {
      "needs_background": "light"
     },
     "output_type": "display_data"
    },
    {
     "name": "stdout",
     "output_type": "stream",
     "text": [
      "Predicted map\n"
     ]
    },
    {
     "data": {
      "image/png": "[encoded data removed]",
      "text/plain": [
       "<Figure size 432x288 with 2 Axes>"
      ]
     },
     "metadata": {
      "needs_background": "light"
     },
     "output_type": "display_data"
    },
    {
     "name": "stdout",
     "output_type": "stream",
     "text": [
      "Orig logits\n"
     ]
    },
    {
     "data": {
      "image/png": "[encoded data removed]",
      "text/plain": [
       "<Figure size 432x288 with 2 Axes>"
      ]
     },
     "metadata": {
      "needs_background": "light"
     },
     "output_type": "display_data"
    },
    {
     "name": "stdout",
     "output_type": "stream",
     "text": [
      "Weighted logits\n"
     ]
    },
    {
     "data": {
      "image/png": "[encoded data removed]",
      "text/plain": [
       "<Figure size 432x288 with 2 Axes>"
      ]
     },
     "metadata": {
      "needs_background": "light"
     },
     "output_type": "display_data"
    }
   ],
   "source": [
    "SHOW_IDX = 1\n",
    "CLASS_NUM = 0\n",
    "\n",
    "print(\"Sample\")\n",
    "plt.imshow(image[idx_clean[SHOW_IDX]].squeeze(0).cpu())\n",
    "plt.show()\n",
    "\n",
    "print(\"Ground-truth\")\n",
    "plt.imshow(segment[idx_clean[SHOW_IDX]].cpu())\n",
    "plt.show()\n",
    "\n",
    "print('Show weightmaps')\n",
    "print('True map')\n",
    "show_weight = embedding4.weight[map_idxs(idx_clean[SHOW_IDX], GRID_SIZE_Y, GRID_SIZE_X)].view(-1,GRID_SIZE_Y,GRID_SIZE_X).unsqueeze(0)\n",
    "show_weight = show_weight.view(-1, CLASS_CONTROL, GRID_SIZE_Y, GRID_SIZE_X)\n",
    "disturbed_min, disturbed_max, disturbed_mean = show_weight.min().item(), show_weight.max().item(), show_weight.mean().item()\n",
    "print(disturbed_min, disturbed_max, disturbed_mean)\n",
    "plt.imshow(show_weight[0,CLASS_NUM].detach().cpu(), cmap='gray')\n",
    "plt.colorbar()\n",
    "plt.show()\n",
    "\n",
    "print('Predicted map')\n",
    "with amp.autocast(enabled=True):\n",
    "    with torch.inference_mode():\n",
    "        show_logits = net4(image[idx_clean[SHOW_IDX]].unsqueeze(0))\n",
    "        uncertainty_map_inf = net4_uncertainty(torch.cat((image[idx_clean[SHOW_IDX]].unsqueeze(0), show_logits), dim=1))\n",
    "\n",
    "plt.imshow((uncertainty_map_inf[0,CLASS_NUM].detach().view(28,28)).cpu().numpy(), cmap='gray')\n",
    "plt.colorbar()\n",
    "plt.show()\n",
    "\n",
    "print('Orig logits')\n",
    "plt.imshow((show_logits[:,1].detach().view(28,28)).cpu().numpy(), cmap='gray')\n",
    "plt.colorbar()\n",
    "plt.show()\n",
    "print('Weighted logits')\n",
    "plt.imshow(((uncertainty_map_inf[0,CLASS_NUM]*show_logits)[:,1].detach().view(28,28)).cpu().numpy(), cmap='gray')\n",
    "plt.colorbar()\n",
    "plt.show()"
   ]
  },
  {
   "cell_type": "code",
   "execution_count": null,
   "id": "dc660c98",
   "metadata": {},
   "outputs": [],
   "source": []
  }
 ],
 "metadata": {
  "kernelspec": {
   "display_name": "Python 3",
   "language": "python",
   "name": "python3"
  },
  "language_info": {
   "codemirror_mode": {
    "name": "ipython",
    "version": 3
   },
   "file_extension": ".py",
   "mimetype": "text/x-python",
   "name": "python",
   "nbconvert_exporter": "python",
   "pygments_lexer": "ipython3",
   "version": "3.9.5"
  }
 },
 "nbformat": 4,
 "nbformat_minor": 5
}
