{
 "cells": [
  {
   "cell_type": "code",
   "execution_count": null,
   "metadata": {},
   "outputs": [],
   "source": [
    "from pathlib import Path\n",
    "import tarfile\n",
    "import os\n",
    "import stat\n",
    "import subprocess\n",
    "import shlex\n",
    "import json\n",
    "\n",
    "from deep_staple.utils.common_utils import get_script_dir\n",
    "THIS_SCRIPT_DIR = get_script_dir(Path(\"./fetch_dataset.ipynb\"))"
   ]
  },
  {
   "cell_type": "code",
   "execution_count": null,
   "metadata": {},
   "outputs": [],
   "source": [
    "# Constants and preparation\n",
    "TMP_DIR = Path(THIS_SCRIPT_DIR, \"tmp\")\n",
    "TCIA_DATA_DIR = Path(THIS_SCRIPT_DIR, \"tmp/tcia_data\")\n",
    "TCIA_DATA_CONVENIENT_DIR = Path(THIS_SCRIPT_DIR, \"tmp/tcia_data_convenient\")\n",
    "TCIA_DATA_BASIC_PREPROCESSING_DIR = Path(THIS_SCRIPT_DIR, \"tmp/tcia_data_preprocessed\")\n",
    "CROSSMODA_DATALOADER_DIR = Path(THIS_SCRIPT_DIR, \"tmp/crossmoda_data_dataloader\")\n",
    "\n",
    "tcia_file_path = TCIA_DATA_DIR.joinpath(\"VS.tcia\")\n",
    "tcia_contours_path = TCIA_DATA_DIR.joinpath(\"Vestibular-Schwannoma-SEG_contours_Mar_2021.zip\")\n",
    "# tcia_reg_matrices_path = TCIA_DATA_DIR.joinpath(\"Vestibular-Schwannoma-SEG_matrices_Mar_2021.zip\")\n",
    "TCIA_DATA_DIR.mkdir(parents=True, exist_ok=True)\n",
    "TCIA_DATA_CONVENIENT_DIR.mkdir(parents=True, exist_ok=True)\n",
    "TCIA_DATA_BASIC_PREPROCESSING_DIR.mkdir(parents=True, exist_ok=True)\n",
    "CROSSMODA_DATALOADER_DIR.mkdir(parents=True, exist_ok=True)\n",
    "\n",
    "URL_TCIA = '\"https://wiki.cancerimagingarchive.net/download/attachments/70229053/Vestibular-Schwannoma-SEG%20Feb%202021%20manifest.tcia?api=v2\"'\n",
    "URL_TCIA_CONTOURS = '\"https://wiki.cancerimagingarchive.net/download/attachments/70229053/Vestibular-Schwannoma-SEG%20contours%20Mar%202021.zip?api=v2\"'\n",
    "# URL_TCIA_REGISTION_MATRICES = '\"https://wiki.cancerimagingarchive.net/download/attachments/70229053/Vestibular-Schwannoma-SEG_matrices%20Mar%202021.zip?api=v2\"'"
   ]
  },
  {
   "cell_type": "markdown",
   "metadata": {},
   "source": [
    "### Download TCIA data"
   ]
  },
  {
   "cell_type": "code",
   "execution_count": null,
   "metadata": {},
   "outputs": [],
   "source": [
    "URL_NBIA_DEB = \"https://cbiit-download.nci.nih.gov/nbia/releases/ForTCIA/NBIADataRetriever_4.2/nbia-data-retriever-4.2.deb\"\n",
    "nbia_deb_path = Path(THIS_SCRIPT_DIR, \"tools/nbia/nbia-data-retriever-4.2.deb\")\n",
    "nbia_bin_path = Path(nbia_deb_path.parent, \"opt/nbia-data-retriever/nbia-data-retriever\")"
   ]
  },
  {
   "cell_type": "code",
   "execution_count": null,
   "metadata": {},
   "outputs": [],
   "source": [
    "# Download and extract nbia data retriever\n",
    "\n",
    "nbia_deb_path.parent.mkdir(parents=True, exist_ok=True)\n",
    "!curl {URL_NBIA_DEB} -o {nbia_deb_path}\n",
    "\n",
    "os.chdir(nbia_deb_path.parent)\n",
    "!ar -x {nbia_deb_path}\n",
    "!tar -xf data.tar.xz\n",
    "os.chdir(THIS_SCRIPT_DIR)\n"
   ]
  },
  {
   "cell_type": "code",
   "execution_count": null,
   "metadata": {},
   "outputs": [],
   "source": [
    "# Download TCIA manifest file \n",
    "# https://wiki.cancerimagingarchive.net/pages/viewpage.action?pageId=70229053\n",
    "tcia_file_path.parent.mkdir(exist_ok=True, parents=True)\n",
    "!curl -k {URL_TCIA} -o {tcia_file_path}\n",
    "!curl -k {URL_TCIA_CONTOURS} -o {tcia_contours_path}\n",
    "# !curl {URL_TCIA_REGISTION_MATRICES} -o {tcia_reg_matrices_path}"
   ]
  },
  {
   "cell_type": "code",
   "execution_count": null,
   "metadata": {},
   "outputs": [],
   "source": [
    "# Download TCIA VS data \n",
    "# https://wiki.cancerimagingarchive.net/pages/viewpage.action?pageId=70229053\n",
    "nbia_libs_path = Path(nbia_deb_path.parent, \"opt/nbia-data-retriever/runtime/lib\")\n",
    "if str(nbia_libs_path) not in os.environ['LD_LIBRARY_PATH']:\n",
    "    os.environ['LD_LIBRARY_PATH'] = f\"{os.environ['LD_LIBRARY_PATH']}:{nbia_libs_path}\"\n",
    "!echo \"Y\" | {nbia_bin_path} --cli {tcia_file_path} -d {TCIA_DATA_DIR} -u {input(\"username\")} -p {input(\"password\")}"
   ]
  },
  {
   "cell_type": "markdown",
   "metadata": {},
   "source": [
    "### Preprocessing step 1: Run VS_Seg convenient filenames preprocessing"
   ]
  },
  {
   "cell_type": "code",
   "execution_count": null,
   "metadata": {},
   "outputs": [],
   "source": [
    "CONVENIENT_SCRIPT = Path(THIS_SCRIPT_DIR, \"./tools/VS_Seg/preprocessing/TCIA_data_convert_into_convenient_folder_structure.py\")\n",
    "tcia_data_entrypoint = Path(TCIA_DATA_DIR, \"VS/Vestibular-Schwannoma-SEG\")\n",
    "!python {CONVENIENT_SCRIPT} --input {tcia_data_entrypoint} --output {TCIA_DATA_CONVENIENT_DIR}"
   ]
  },
  {
   "cell_type": "code",
   "execution_count": null,
   "metadata": {},
   "outputs": [],
   "source": [
    "import zipfile\n",
    "\n",
    "# Extract contours\n",
    "with zipfile.ZipFile(tcia_contours_path, 'r') as contours_file:\n",
    "    contours_file.extractall(tcia_contours_path.parent)\n",
    "\n",
    "# Merge data and contours directories\n",
    "contours_trailing_path = str(Path(tcia_contours_path.parent, \"contours\")) + \"/\"\n",
    "tcia_convenient_data_trailing_path = str(Path(TCIA_DATA_CONVENIENT_DIR)) + \"/\"\n",
    "!rsync -a {contours_trailing_path} {tcia_convenient_data_trailing_path}"
   ]
  },
  {
   "cell_type": "markdown",
   "metadata": {},
   "source": [
    "### Preprocessing step 2: Run VS_Seg Slicer.org preprocessing"
   ]
  },
  {
   "cell_type": "code",
   "execution_count": null,
   "metadata": {},
   "outputs": [],
   "source": [
    "# Build Slicer.org docker\n",
    "build_dir = Path(THIS_SCRIPT_DIR, \"tools/SlicerDockers\")\n",
    "build_file = build_dir.joinpath(\"build.sh\")\n",
    "# Add +x permission\n",
    "st = os.stat(build_file)\n",
    "os.chmod(build_file, st.st_mode | stat.S_IEXEC)\n",
    "\n",
    "subprocess.call(build_file, cwd=build_dir)"
   ]
  },
  {
   "cell_type": "code",
   "execution_count": 89,
   "metadata": {},
   "outputs": [],
   "source": [
    "SHARED_DIR = Path(THIS_SCRIPT_DIR, \"tools/docker_shared\")\n",
    "SHARED_INPUT_DIR = TCIA_DATA_CONVENIENT_DIR\n",
    "SHARED_OUTPUT_DIR = TCIA_DATA_BASIC_PREPROCESSING_DIR\n",
    "\n",
    "SLICER_PREPROCESSING_SCRIPT_PATH = Path(THIS_SCRIPT_DIR, \"./tools/VS_Seg/preprocessing/data_conversion.py\")\n",
    "!cp {SLICER_PREPROCESSING_SCRIPT_PATH} {SHARED_DIR}\n",
    "\n",
    "# Run docker container and script. \n",
    "# Running this script will take time. Connect to http://localhost:8080/ to see process\n",
    "# Run built docker file\n",
    "\n",
    "docker_cmd = f'docker run --platform linux/x86_64 -v {SHARED_DIR}:/tmp/shared -v {SHARED_INPUT_DIR}:/tmp/shared_input -v {SHARED_OUTPUT_DIR}:/tmp/shared_output -p 8080:8080 --env SLICER_ARGUMENTS=\"--python-script /tmp/shared/data_conversion.py --input-folder /tmp/shared_input --output-folder /tmp/shared_output --export_all_structures\" --rm -it deep_staple/slicer'\n",
    "!{docker_cmd}"
   ]
  },
  {
   "cell_type": "markdown",
   "metadata": {},
   "source": [
    "### Preprocessing step 3: Prepare dataloader file structure"
   ]
  },
  {
   "cell_type": "code",
   "execution_count": null,
   "metadata": {},
   "outputs": [],
   "source": [
    "TCIA_TO_CROSSMODA_SCRIPT = Path(THIS_SCRIPT_DIR, \"./tools/dataloader_preparation/tcia_to_crossmoda.py\")\n",
    "\n",
    "run_cmd = f\"{TCIA_TO_CROSSMODA_SCRIPT} --input {TCIA_DATA_BASIC_PREPROCESSING_DIR} --output {CROSSMODA_DATALOADER_DIR}\"\n",
    "!python {run_cmd}"
   ]
  },
  {
   "cell_type": "markdown",
   "metadata": {},
   "source": [
    "### Preprocessing step 4: Add dataloader data levels L2 to L4"
   ]
  },
  {
   "cell_type": "code",
   "execution_count": null,
   "metadata": {},
   "outputs": [],
   "source": [
    "BUILD_LEVELS_SCRIPT = Path(THIS_SCRIPT_DIR, \"tools/dataloader_preparation/build_levels.py\")\n",
    "COCHLEA_CENTERS_PATH = Path(THIS_SCRIPT_DIR, \"tools/dataloader_preparation/l3_cochlea_centers.pth\")\n",
    "\n",
    "!python {BUILD_LEVELS_SCRIPT} --input {CROSSMODA_DATALOADER_DIR} --cochlea-centers {COCHLEA_CENTERS_PATH} --device cpu"
   ]
  },
  {
   "cell_type": "markdown",
   "metadata": {},
   "source": [
    "### Step 5: Copy and clean"
   ]
  },
  {
   "cell_type": "code",
   "execution_count": null,
   "metadata": {},
   "outputs": [],
   "source": [
    "DATASET_TARGET = Path(THIS_SCRIPT_DIR, \"../../data/crossmoda_dataset/\").resolve()\n",
    "DATASET_TARGET.mkdir(exist_ok=True, parents=True)\n",
    "!cp -r {CROSSMODA_DATALOADER_DIR}/* {DATASET_TARGET}"
   ]
  },
  {
   "cell_type": "code",
   "execution_count": null,
   "metadata": {},
   "outputs": [],
   "source": [
    "TMP_DIR\n",
    "# Do you really want to clean the temp dir?\n",
    "# !rm -r {TMP_DIR}"
   ]
  }
 ],
 "metadata": {
  "interpreter": {
   "hash": "c920e44c9c545f1faee744fbdd2ab86e61842e6f9a49c5fe41dbcb137a4410b9"
  },
  "kernelspec": {
   "display_name": "Python 3.9.13 ('.venv': poetry)",
   "language": "python",
   "name": "python3"
  },
  "language_info": {
   "codemirror_mode": {
    "name": "ipython",
    "version": 3
   },
   "file_extension": ".py",
   "mimetype": "text/x-python",
   "name": "python",
   "nbconvert_exporter": "python",
   "pygments_lexer": "ipython3",
   "version": "3.9.13"
  },
  "orig_nbformat": 4
 },
 "nbformat": 4,
 "nbformat_minor": 2
}
