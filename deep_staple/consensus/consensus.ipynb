{
 "cells": [
  {
   "cell_type": "code",
   "execution_count": 2,
   "metadata": {},
   "outputs": [],
   "source": [
    "import os\n",
    "from pathlib import Path\n",
    "from collections import OrderedDict\n",
    "\n",
    "os.environ[\"CUDA_VISIBLE_DEVICES\"] = '0'\n",
    "os.environ[\"CUDA_DEVICE_ORDER\"] = 'PCI_BUS_ID'\n",
    "os.environ['MKL_THREADING_LAYER'] = 'GNU'\n",
    "\n",
    "\n",
    "import torch\n",
    "import nibabel as nib # https://nipy.org/nibabel/\n",
    "import SimpleITK as sitk # https://simpleitk.org/\n",
    "from matplotlib import pyplot as plt\n",
    "import numpy as np\n",
    "from tqdm.notebook import trange, tqdm\n",
    "import pandas as pd\n",
    "from deep_staple.metrics import dice3d\n",
    "\n",
    "from deep_staple.utils.common_utils import get_script_dir\n",
    "\n",
    "THIS_SCRIPT_DIR = get_script_dir(\"\")\n",
    "DEVICE = 'cpu'"
   ]
  },
  {
   "cell_type": "markdown",
   "metadata": {},
   "source": [
    "# View initial quality of atlas dices (after registration) for deeds and convex adam"
   ]
  },
  {
   "cell_type": "code",
   "execution_count": 3,
   "metadata": {},
   "outputs": [
    {
     "data": {
      "image/png": "[encoded data removed]",
      "text/plain": [
       "<Figure size 432x288 with 1 Axes>"
      ]
     },
     "metadata": {
      "needs_background": "light"
     },
     "output_type": "display_data"
    }
   ],
   "source": [
    "convex_atlases = torch.load(Path(THIS_SCRIPT_DIR, \"../../data_artifacts/20220318_crossmoda_convex_adam_lr/crossmoda_convex_registered_new_convex.pth\").resolve(), map_location=DEVICE)\n",
    "deeds_atlases = torch.load(Path(THIS_SCRIPT_DIR, \"../../data_artifacts/20220114_crossmoda_multiple_registrations/crossmoda_deeds_registered.pth\").resolve(), map_location=DEVICE)\n",
    "\n",
    "dcs_convex = []\n",
    "for fixed_item in convex_atlases.values():\n",
    "    for moving_item in fixed_item.values():\n",
    "        dcs_convex.append(moving_item['dice'][0][1].item())\n",
    "dcs_convex.sort()\n",
    "\n",
    "dcs_deeds = []\n",
    "for fixed_item in deeds_atlases.values():\n",
    "    for moving_item in fixed_item.values():\n",
    "        dcs_deeds.append(moving_item['dice'][0][1].item())\n",
    "dcs_deeds.sort()\n",
    "\n",
    "plt.plot(dcs_deeds, label='deeds')\n",
    "plt.plot(dcs_convex, label='convex')\n",
    "plt.legend()\n",
    "plt.show()"
   ]
  },
  {
   "cell_type": "markdown",
   "metadata": {},
   "source": [
    "# Create consensi (take training data directly and calculate consensi as well as dice values. Store data in a consistent dict)"
   ]
  },
  {
   "cell_type": "markdown",
   "metadata": {},
   "source": [
    "### Pull out data of network training and put into fixed-moving dict"
   ]
  },
  {
   "cell_type": "code",
   "execution_count": 16,
   "metadata": {},
   "outputs": [],
   "source": [
    "def calc_dp_consensus(lbl_list, weighting_list):\n",
    "    LIMIT = .5\n",
    "    label_stack = torch.stack(lbl_list)\n",
    "    weightings = torch.tensor(weighting_list)\n",
    "    weightings = torch.softmax(weightings, 0)\n",
    "    weighted_stack = label_stack.to_dense()*weightings.view(-1,1,1,1)\n",
    "    weighted_stack = weighted_stack.sum((0))\n",
    "    consensus = (weighted_stack > LIMIT).long()\n",
    "\n",
    "    return consensus\n",
    "\n",
    "\n",
    "def calc_staple_consensus(lbl_list):\n",
    "    staple_filter = sitk.STAPLEImageFilter()\n",
    "    # sitk.ProcessObject.SetGlobalDefaultDebugOff()\n",
    "    FOREGROUND = 1.0\n",
    "    staple_filter.SetForegroundValue(FOREGROUND)\n",
    "    staple_filter.SetMaximumIterations(200)\n",
    "    sitk_moving_data = [sitk.GetImageFromArray(lbl.to_dense().numpy().astype(np.int16)) for lbl in lbl_list]\n",
    "    \n",
    "    staple_out = staple_filter.Execute(sitk_moving_data)\n",
    "    consensus = (torch.tensor(sitk.GetArrayFromImage(staple_out)) > .5).long()\n",
    "    sensitivities = staple_filter.GetSensitivity()\n",
    "    specificities = staple_filter.GetSpecificity()\n",
    "\n",
    "    return consensus, sensitivities, specificities"
   ]
  },
  {
   "cell_type": "code",
   "execution_count": 17,
   "metadata": {},
   "outputs": [
    {
     "name": "stdout",
     "output_type": "stream",
     "text": [
      "Creating consensus for 400_convex_adam\n",
      "Reading labels\n",
      "Getting consensus scores\n",
      "dict_keys(['179r', '141l', '188l', '205r', '146l', '178l', '185r', '187l', '200l', '202l', '162l', '136l', '115l', '126l', '180r', '190l', '195r', '175l', '158l', '210r', '164l', '181r', '204r', '140l', '177l', '189l', '143l', '117l', '133l', '149l', '192l', '183l', '198r', '152l', '199l', '147l', '111l', '209r', '145l', '125l'])\n"
     ]
    },
    {
     "data": {
      "application/vnd.jupyter.widget-view+json": {
       "model_id": "2722ae1f133242d397f54b3a412e368a",
       "version_major": 2,
       "version_minor": 0
      },
      "text/plain": [
       "  0%|          | 0/40 [00:00<?, ?it/s]"
      ]
     },
     "metadata": {},
     "output_type": "display_data"
    },
    {
     "name": "stdout",
     "output_type": "stream",
     "text": [
      "f_id:  179r\n",
      "DP consensus dice: tensor([[0.9920, 0.7316]])\n",
      "STAPLE consensus dice: tensor([[0.9916, 0.7351]])\n",
      "\n",
      "f_id:  141l\n",
      "DP consensus dice: tensor([[0.9975, 0.1882]])\n",
      "STAPLE consensus dice: tensor([[0.9949, 0.1107]])\n",
      "\n",
      "f_id:  188l\n",
      "DP consensus dice: tensor([[0.9889, 0.5648]])\n",
      "STAPLE consensus dice: tensor([[0.9904, 0.6724]])\n",
      "\n",
      "f_id:  205r\n",
      "DP consensus dice: tensor([[0.9876, 0.6230]])\n",
      "STAPLE consensus dice: tensor([[0.9890, 0.7208]])\n",
      "\n",
      "f_id:  146l\n",
      "DP consensus dice: tensor([[0.9925, 0.7195]])\n",
      "STAPLE consensus dice: tensor([[0.9930, 0.7708]])\n",
      "\n",
      "f_id:  178l\n",
      "DP consensus dice: tensor([[0.9907, 0.4788]])\n",
      "STAPLE consensus dice: tensor([[0.9919, 0.6293]])\n",
      "\n",
      "f_id:  185r\n",
      "DP consensus dice: tensor([[0.9864, 0.4991]])\n",
      "STAPLE consensus dice: tensor([[0.9881, 0.6618]])\n",
      "\n",
      "f_id:  187l\n",
      "DP consensus dice: tensor([[0.9860, 0.5422]])\n",
      "STAPLE consensus dice: tensor([[0.9879, 0.6331]])\n",
      "\n",
      "f_id:  200l\n",
      "DP consensus dice: tensor([[0.9992, 0.5828]])\n",
      "STAPLE consensus dice: tensor([[0.9944, 0.1757]])\n",
      "\n",
      "f_id:  202l\n",
      "DP consensus dice: tensor([[0.9960, 0.7759]])\n",
      "STAPLE consensus dice: tensor([[0.9960, 0.8079]])\n",
      "\n",
      "f_id:  162l\n",
      "DP consensus dice: tensor([[0.9899, 0.5633]])\n",
      "STAPLE consensus dice: tensor([[0.9887, 0.5758]])\n",
      "\n",
      "f_id:  136l\n",
      "DP consensus dice: tensor([[0.9982, 0.8533]])\n",
      "STAPLE consensus dice: tensor([[0.9972, 0.8020]])\n",
      "\n",
      "f_id:  115l\n",
      "DP consensus dice: tensor([[0.9912, 0.7227]])\n",
      "STAPLE consensus dice: tensor([[0.9912, 0.7433]])\n",
      "\n",
      "f_id:  126l\n",
      "DP consensus dice: tensor([[0.9988, 0.8247]])\n",
      "STAPLE consensus dice: tensor([[0.9975, 0.7150]])\n",
      "\n",
      "f_id:  180r\n",
      "DP consensus dice: tensor([[0.9981, 0.7462]])\n",
      "STAPLE consensus dice: tensor([[0.9935, 0.4746]])\n",
      "\n",
      "f_id:  190l\n",
      "DP consensus dice: tensor([[0.9976, 0.6072]])\n",
      "STAPLE consensus dice: tensor([[0.9964, 0.5394]])\n",
      "\n",
      "f_id:  195r\n",
      "DP consensus dice: tensor([[0.9980, 0.6721]])\n",
      "STAPLE consensus dice: tensor([[0.9923, 0.3784]])\n",
      "\n",
      "f_id:  175l\n",
      "DP consensus dice: tensor([[0.9956, 0.6267]])\n",
      "STAPLE consensus dice: tensor([[0.9973, 0.8313]])\n",
      "\n",
      "f_id:  158l\n",
      "DP consensus dice: tensor([[0.9841, 0.5143]])\n",
      "STAPLE consensus dice: tensor([[0.9821, 0.4139]])\n",
      "\n",
      "f_id:  210r\n",
      "DP consensus dice: tensor([[0.9986, 0.7421]])\n",
      "STAPLE consensus dice: tensor([[0.9940, 0.4290]])\n",
      "\n",
      "f_id:  164l\n",
      "DP consensus dice: tensor([[0.9970, 0.8216]])\n",
      "STAPLE consensus dice: tensor([[0.9964, 0.8164]])\n",
      "\n",
      "f_id:  181r\n",
      "DP consensus dice: tensor([[0.9949, 0.6947]])\n",
      "STAPLE consensus dice: tensor([[0.9936, 0.7189]])\n",
      "\n",
      "f_id:  204r\n",
      "DP consensus dice: tensor([[0.9984, 0.6391]])\n",
      "STAPLE consensus dice: tensor([[0.9919, 0.2894]])\n",
      "\n",
      "f_id:  140l\n",
      "DP consensus dice: tensor([[0.9963, 0.1581]])\n",
      "STAPLE consensus dice: tensor([[0.9958, 0.6192]])\n",
      "\n",
      "f_id:  177l\n",
      "DP consensus dice: tensor([[0.9982, 0.8068]])\n",
      "STAPLE consensus dice: tensor([[0.9975, 0.7803]])\n",
      "\n",
      "f_id:  189l\n",
      "DP consensus dice: tensor([[0.9972, 0.2488]])\n",
      "STAPLE consensus dice: tensor([[0.9945, 0.1610]])\n",
      "\n",
      "f_id:  143l\n",
      "DP consensus dice: tensor([[0.9941, 0.7080]])\n",
      "STAPLE consensus dice: tensor([[0.9938, 0.7310]])\n",
      "\n",
      "f_id:  117l\n",
      "DP consensus dice: tensor([[0.9663, 0.1870]])\n",
      "STAPLE consensus dice: tensor([[0.9714, 0.4200]])\n",
      "\n",
      "f_id:  133l\n",
      "DP consensus dice: tensor([[0.9942, 0.6789]])\n",
      "STAPLE consensus dice: tensor([[0.9951, 0.7581]])\n",
      "\n",
      "f_id:  149l\n",
      "DP consensus dice: tensor([[0.9958, 0.7101]])\n",
      "STAPLE consensus dice: tensor([[0.9940, 0.6272]])\n",
      "\n",
      "f_id:  192l\n",
      "DP consensus dice: tensor([[0.9984, 0.7433]])\n",
      "STAPLE consensus dice: tensor([[0.9954, 0.5525]])\n",
      "\n",
      "f_id:  183l\n",
      "DP consensus dice: tensor([[0.9978, 0.8329]])\n",
      "STAPLE consensus dice: tensor([[0.9972, 0.8239]])\n",
      "\n",
      "f_id:  198r\n",
      "DP consensus dice: tensor([[0.9985, 0.5032]])\n",
      "STAPLE consensus dice: tensor([[0.9901, 0.1828]])\n",
      "\n",
      "f_id:  152l\n",
      "DP consensus dice: tensor([[0.9982, 0.6711]])\n",
      "STAPLE consensus dice: tensor([[0.9947, 0.4252]])\n",
      "\n",
      "f_id:  199l\n",
      "DP consensus dice: tensor([[0.9966, 0.4580]])\n",
      "STAPLE consensus dice: tensor([[0.9932, 0.3518]])\n",
      "\n",
      "f_id:  147l\n",
      "DP consensus dice: tensor([[0.9979, 0.6776]])\n",
      "STAPLE consensus dice: tensor([[0.9952, 0.5183]])\n",
      "\n",
      "f_id:  111l\n",
      "DP consensus dice: tensor([[0.9983, 0.7968]])\n",
      "STAPLE consensus dice: tensor([[0.9973, 0.7609]])\n",
      "\n",
      "f_id:  209r\n",
      "DP consensus dice: tensor([[0.9971, 0.5489]])\n",
      "STAPLE consensus dice: tensor([[0.9918, 0.3298]])\n",
      "\n",
      "f_id:  145l\n",
      "DP consensus dice: tensor([[0.9979, 0.7119]])\n",
      "STAPLE consensus dice: tensor([[0.9971, 0.7281]])\n",
      "\n",
      "f_id:  125l\n",
      "DP consensus dice: tensor([[0.9973, 0.4729]])\n",
      "STAPLE consensus dice: tensor([[0.9940, 0.3107]])\n",
      "\n"
     ]
    }
   ],
   "source": [
    "cases = ['400_deeds', '1200_deeds', '1800_deeds', '400_convex_adam', 'debug_case']\n",
    "current_case = '400_convex_adam'\n",
    "\n",
    "print(f\"Creating consensus for {current_case}\")\n",
    "\n",
    "if current_case == '400_deeds':\n",
    "    # Training with 400 labels (deeds)\n",
    "    network_scores = torch.load(Path(THIS_SCRIPT_DIR, \"../../data/output/dashing-surf-1206_fold0_epx39/train_label_snapshot.pth\").resolve())\n",
    "\n",
    "elif current_case == '400_convex_adam':\n",
    "    # Training with 400 labels (convex adam)\n",
    "    network_scores = torch.load(Path(THIS_SCRIPT_DIR, \"../../data/output/winter-frost-32_fold0_epx39/train_label_snapshot.pth\").resolve())\n",
    "\n",
    "elif current_case == '1200_deeds':\n",
    "    network_scores = torch.load(Path(THIS_SCRIPT_DIR, \"../../data/output/classic-sunset-1245_fold0_epx39/train_label_snapshot.pth\").resolve())\n",
    "\n",
    "elif current_case == '1800_deeds':\n",
    "    network_scores = torch.load(Path(THIS_SCRIPT_DIR, \"../../data/output/comic-sponge-1268_fold0_epx29/train_label_snapshot.pth\").resolve())\n",
    "\n",
    "elif current_case == 'debug_case':\n",
    "    network_scores = torch.load(Path(THIS_SCRIPT_DIR, \"../../data/output/dummy-LeXV4SXKQYmnoP4ayx8P3B_fold0_epx0/train_label_snapshot.pth\"))\n",
    "    # Put new training data here\n",
    "\n",
    "elif current_case == 'any_additional_case':\n",
    "    network_scores = torch.load(Path(THIS_SCRIPT_DIR, \"../../data/output/<training snapshot>/train_label_snapshot.pth\"))\n",
    "    # Put new training data here\n",
    "\n",
    "consensus_dicts = {}\n",
    "d_ids = network_scores['d_ids']\n",
    "\n",
    "print(\"Reading labels\")\n",
    "for _id in d_ids:\n",
    "    network_data_lookup_idx = d_ids.index(_id)\n",
    "    f_id = _id[:4]\n",
    "    m_id = _id[6:]\n",
    "    if f_id in consensus_dicts:\n",
    "        fixed_dict = consensus_dicts.get(f_id)\n",
    "    else:\n",
    "        fixed_dict = {}\n",
    "        #Only add expert label in first hit of fixed_dict\n",
    "        fixed_dict['expert_label'] = network_scores['labels'][network_data_lookup_idx]\n",
    "        # fixed_dict['image_path'] = network_scores['image_paths'][network_data_lookup_idx]\n",
    "        fixed_dict['prediction'] = network_scores['train_predictions'][network_data_lookup_idx]\n",
    "\n",
    "    moving_dict = fixed_dict.get(m_id, {})\n",
    "    moving_dict['warped_label'] = network_scores['modified_labels'][network_data_lookup_idx]\n",
    "    moving_dict['data_parameter'] = network_scores['data_parameters'][network_data_lookup_idx]\n",
    "    \n",
    "    fixed_dict[m_id] = moving_dict\n",
    "    \n",
    "    consensus_dicts[f_id] = fixed_dict\n",
    "\n",
    "print(\"Getting consensus scores\")\n",
    "dp_consensus_dices = []\n",
    "staple_consensus_dices = []\n",
    "\n",
    "print(consensus_dicts.keys())\n",
    "for f_id, fixed_dict in tqdm(consensus_dicts.items()):\n",
    "\n",
    "    lbls = []\n",
    "    lbls = [elem['warped_label'] for elem in fixed_dict.values() if isinstance(elem, dict)]\n",
    "    all_warped_ids = [warped_id for warped_id, elem in fixed_dict.items() if isinstance(elem, dict)]\n",
    "\n",
    "    data_parameters = []\n",
    "    data_parameters = [elem['data_parameter'] for elem in fixed_dict.values() if isinstance(elem, dict)]\n",
    "    expert_label = fixed_dict['expert_label'].to_dense()\n",
    "\n",
    "    dp_consensus = calc_dp_consensus(lbls, data_parameters)\n",
    "    staaple_consensus, staple_sensitivities, _ = calc_staple_consensus(lbls)\n",
    "    \n",
    "    for warped_id, stp_sens in zip(all_warped_ids, staple_sensitivities):\n",
    "        fixed_dict[warped_id]['staple_sensitivity'] = stp_sens\n",
    "\n",
    "    dp_dsc = dice3d(\n",
    "        torch.nn.functional.one_hot(dp_consensus.unsqueeze(0), 2),\n",
    "        torch.nn.functional.one_hot(expert_label.unsqueeze(0), 2),\n",
    "        one_hot_torch_style=True, nan_for_unlabeled_target=False\n",
    "    )\n",
    "    staple_dsc = dice3d(\n",
    "        torch.nn.functional.one_hot(staaple_consensus.unsqueeze(0), 2),\n",
    "        torch.nn.functional.one_hot(expert_label.unsqueeze(0), 2),\n",
    "        one_hot_torch_style=True, nan_for_unlabeled_target=False\n",
    "    )\n",
    "    print('f_id: ', f_id)\n",
    "    print(f\"DP consensus dice:\", dp_dsc)\n",
    "    print(f\"STAPLE consensus dice:\", staple_dsc)\n",
    "    print()\n",
    "    \n",
    "    fixed_dict['dp_consensus'] = dp_consensus.to_sparse()\n",
    "    fixed_dict['staple_consensus'] = staaple_consensus.to_sparse()\n",
    "    \n",
    "    fixed_dict['dp_consensus_oracle_dice'] = dp_dsc\n",
    "    fixed_dict['staple_consensus_oracle_dice'] = staple_dsc\n",
    "\n",
    "    consensus_dicts[f_id] = fixed_dict\n",
    "consensus_path = Path(THIS_SCRIPT_DIR, f\"../../data/consensus/consensus_dict_{current_case}.pth\").resolve()\n",
    "consensus_path.parent.mkdir(parents=True, exist_ok=True)\n",
    "torch.save(consensus_dicts, consensus_path)"
   ]
  },
  {
   "cell_type": "code",
   "execution_count": null,
   "metadata": {},
   "outputs": [],
   "source": [
    "def extract_consensus_dices(consensus_path):\n",
    "    print(f\"Extracting data from '{consensus_path}'\")\n",
    "    consensus_dicts = torch.load(consensus_path)\n",
    "    dp_consensus_dices = []\n",
    "    staple_consensus_dices = []\n",
    "\n",
    "    for f_id, fixed_dict in consensus_dicts.items():\n",
    "        dp_consensus_dices.append(fixed_dict['dp_consensus_oracle_dice'])\n",
    "        staple_consensus_dices.append(fixed_dict['staple_consensus_oracle_dice']) \n",
    "\n",
    "    dp_tumour_dices = torch.cat(dp_consensus_dices)[:,1]\n",
    "    staple_tumour_dices = torch.cat(staple_consensus_dices)[:,1]\n",
    "\n",
    "    print(f\"DP consensus mean dice: {dp_tumour_dices.mean().item():.3f}\")\n",
    "    print(f\"STAPLE consensus mean dice: {staple_tumour_dices.mean().item():.3f}\")\n",
    "    print()\n",
    "    return dp_tumour_dices, staple_tumour_dices\n",
    "\n",
    "# Load consensus dices\n",
    "\n",
    "consensus_dicts_convex_adam_path = Path(THIS_SCRIPT_DIR, f\"../../data/consensus/consensus_dict_400_convex_adam.pth\").resolve()\n",
    "consensus_dicts_deeds_path = Path(THIS_SCRIPT_DIR, f\"../../data/consensus/consensus_dict_400_deeds.pth\").resolve()\n",
    "\n",
    "dp_consensus_dices_deeds, staple_consensus_dices_deeds = extract_consensus_dices(consensus_dicts_deeds_path)\n",
    "dp_consensus_dices_convex_adam, staple_consensus_dices_convex_adam = extract_consensus_dices(consensus_dicts_convex_adam_path)"
   ]
  },
  {
   "cell_type": "markdown",
   "metadata": {},
   "source": [
    "### Compare generated consensi for two training runs: deeds @ 400 registrations and Convex Adam @ 400 registrations (training output not published, but can be generated when training on the registered data)"
   ]
  },
  {
   "cell_type": "code",
   "execution_count": null,
   "metadata": {},
   "outputs": [],
   "source": [
    "boxplot_data_deeds = [(staple_consensus_dices_deeds*100).tolist(), (dp_consensus_dices_deeds*100).tolist()]\n",
    "boxplot_data_convex_adam = [(staple_consensus_dices_convex_adam*100).tolist(), (dp_consensus_dices_convex_adam*100).tolist()]\n",
    "# df_deeds = pd.DataFrame(boxplot_data_deeds, index=['STAPLE consensus', 'DP consensus'])\n",
    "import matplotlib.ticker as mtick\n",
    "hues = {\n",
    "    'purple': (125/255, 84/255, 178/255),\n",
    "    'red': (218/255, 76/255, 76/255),\n",
    "    'yellow': (237/255, 183/255, 50/255),\n",
    "    'green': (135/255, 206/255, 191/255),\n",
    "    'gray': (161/255, 169/255, 173/255),\n",
    "    'darkgray': (80/255, 85/255, 90/255),\n",
    "\n",
    "}\n",
    "LINE_WIDTH = 1\n",
    "fig, ax = plt.subplots(nrows=1, ncols=1, figsize=(5.05, 4.5))\n",
    "lineprops = dict(color=hues['darkgray'], linewidth=LINE_WIDTH)\n",
    "boxprops=dict(color=hues['darkgray'], linewidth=LINE_WIDTH)\n",
    "flierprops = dict(marker='o', markerfacecolor=hues['darkgray'], markersize=4,\n",
    "                  linestyle='none', markeredgecolor='none')\n",
    "# rectangular box plot\n",
    "HEIGHT = .45\n",
    "HALF_HEIGHT = HEIGHT/2\n",
    "bplot_deeds = ax.boxplot(boxplot_data_deeds,\n",
    "                    widths = 0.25,\n",
    "                    positions=[3.5-HALF_HEIGHT, 4.5-HALF_HEIGHT],\n",
    "                    vert=False,  # vertical box alignment\n",
    "                    patch_artist=True,  # fill with color\n",
    "                    #  labels=['DP', 'STAPLE'], \n",
    "                     showmeans=True,\n",
    "                     flierprops=flierprops, boxprops=boxprops,\n",
    "                     whiskerprops=lineprops, capprops=lineprops,\n",
    "                     meanline=True, medianprops=lineprops, meanprops=lineprops, \n",
    "                    #  showfliers=False\n",
    "                     )\n",
    "\n",
    "bplot_convex_adam = ax.boxplot(boxplot_data_convex_adam,\n",
    "                    widths = 0.25,\n",
    "                    positions=[3.5+HALF_HEIGHT, 4.5+HALF_HEIGHT],\n",
    "                    vert=False,  # vertical box alignment\n",
    "                    patch_artist=True,  # fill with color\n",
    "                    #  labels=['DP', 'STAPLE'], \n",
    "                    showmeans=True,\n",
    "                    flierprops=flierprops, boxprops=boxprops,\n",
    "                    whiskerprops=lineprops, capprops=lineprops,\n",
    "                    meanline=True, medianprops=lineprops, meanprops=lineprops, \n",
    "                    #  showfliers=False\n",
    "                    )\n",
    "\n",
    "plt.rcParams.update({'font.size': 10})\n",
    "ax.set_xlim([0.0,100.0])\n",
    "# ax.set_xlim([-.1,0.3])\n",
    "\n",
    "for box_patch, flier_patch, color in zip(bplot_deeds['boxes'], bplot_deeds['fliers'], [hues['yellow'], hues['yellow']]):\n",
    "     box_patch.set_facecolor(color)\n",
    "     flier_patch.set_markerfacecolor(color)\n",
    "     flier_patch.set_markeredgecolor(hues['darkgray'])\n",
    "\n",
    "for box_patch, flier_patch, color in zip(bplot_convex_adam['boxes'], bplot_convex_adam['fliers'], [hues['green'], hues['green']]):\n",
    "     box_patch.set_facecolor(color)\n",
    "     flier_patch.set_markerfacecolor(color)\n",
    "     flier_patch.set_markeredgecolor(hues['darkgray'])\n",
    "\n",
    "ax.xaxis.set_tick_params(width=LINE_WIDTH)\n",
    "ax.yaxis.set_tick_params(width=LINE_WIDTH, color=hues['darkgray'])\n",
    "[x.set_linewidth(LINE_WIDTH) for x in ax.spines.values()]\n",
    "[x.set_color(hues['darkgray']) for x in ax.spines.values()]\n",
    "ax.tick_params(axis='x', colors=hues['darkgray'])\n",
    "deeds_pos, convex_adam_pos = [0-HALF_HEIGHT, 1.5-HALF_HEIGHT, 2.5-HALF_HEIGHT, 3.5-HALF_HEIGHT, 4.5-HALF_HEIGHT, 6-HALF_HEIGHT], [0+HALF_HEIGHT, 1.5+HALF_HEIGHT, 2.5+HALF_HEIGHT, 3.5+HALF_HEIGHT, 4.5+HALF_HEIGHT, 6+HALF_HEIGHT]\n",
    "deeds_val, convex_adam_val = [28.91, 48.0, 56.928, 63.6, 67.8, 84.4], [20.75, 49.47, 59.98, 62.8, 65.7, 83.75]\n",
    "bar_deeds = plt.barh(deeds_pos, deeds_val, color=hues['yellow'], height=HEIGHT)\n",
    "bar_convex = plt.barh(convex_adam_pos, convex_adam_val, color=hues['green'], height=HEIGHT) # Convex Adam\n",
    "\n",
    "ax.set_yticks([0,1.5,2.5,3.5,4.5, 6])\n",
    "ax.set_yticklabels(['GAP', 'RND', 'ALL', 'STAPLE', 'DP', 'ORACLE'])\n",
    "\n",
    "for ax_pos, val in zip(deeds_pos, deeds_val):\n",
    "    ax.text(1, ax_pos+.075, f\"{val:.1f}\", color='white')\n",
    "for ax_pos, val in zip(convex_adam_pos, convex_adam_val):\n",
    "    ax.text(1, ax_pos+.075, f\"{val:.1f}\", color='white')\n",
    "\n",
    "bp_mean_val = [staple_consensus_dices_deeds.mean(), staple_consensus_dices_convex_adam.mean(), dp_consensus_dices_deeds.mean(), dp_consensus_dices_convex_adam.mean()]\n",
    "bp_mean_val = [val*100 for val in bp_mean_val]\n",
    "bp_mean_pos = [3.5-HALF_HEIGHT, 3.5+HALF_HEIGHT, 4.5-HALF_HEIGHT, 4.5+HALF_HEIGHT]\n",
    "\n",
    "for ax_pos, val in zip(bp_mean_pos, bp_mean_val):\n",
    "    ax.text(90, ax_pos+.075, f\"{val:.1f}\", color=hues['darkgray'])#, bbox=dict(facecolor='none', edgecolor=hues['darkgray'], pad=1.5))\n",
    "\n",
    "import matplotlib.patches as patches\n",
    "style = \"Simple, tail_width=0.5, head_width=4, head_length=8\"\n",
    "kw = dict(arrowstyle=style, color=hues['darkgray'], linewidth=LINE_WIDTH//2)\n",
    "\n",
    "a1 = patches.FancyArrowPatch((90, 3), (58.1, 3.2), connectionstyle=\"arc3,rad=.5\", **kw)\n",
    "plt.gca().add_patch(a1)\n",
    "plt.gca().invert_yaxis()\n",
    "ax.xaxis.set_major_formatter(mtick.PercentFormatter())\n",
    "\n",
    "plt.savefig(\"deeds-convex-adam.svg\")"
   ]
  },
  {
   "cell_type": "code",
   "execution_count": 8,
   "metadata": {},
   "outputs": [
    {
     "data": {
      "text/plain": [
       "dict_keys(['expert_label', 'prediction', '102l', '056l', '049l', '062l', '026l', '105l', '020l', '031l', '014l', '041l', 'dp_consensus', 'staple_consensus', 'dp_consensus_oracle_dice', 'staple_consensus_oracle_dice'])"
      ]
     },
     "execution_count": 8,
     "metadata": {},
     "output_type": "execute_result"
    }
   ],
   "source": [
    "consensus_dicts['126l'].keys()"
   ]
  },
  {
   "cell_type": "code",
   "execution_count": 20,
   "metadata": {},
   "outputs": [
    {
     "data": {
      "text/plain": [
       "dict_keys(['expert_label', 'prediction', '102l', '056l', '049l', '062l', '026l', '105l', '020l', '031l', '014l', '041l', 'dp_consensus', 'staple_consensus', 'dp_consensus_oracle_dice', 'staple_consensus_oracle_dice'])"
      ]
     },
     "execution_count": 20,
     "metadata": {},
     "output_type": "execute_result"
    }
   ],
   "source": [
    "consensus_dicts['126l'].keys()"
   ]
  },
  {
   "cell_type": "markdown",
   "metadata": {},
   "source": [
    "# Visualize one specific multi-atlas weighting"
   ]
  },
  {
   "cell_type": "code",
   "execution_count": 29,
   "metadata": {},
   "outputs": [],
   "source": [
    "dp_overlay = torch.zeros([256,256])\n",
    "staple_overlay = torch.zeros([256,256])\n",
    "\n",
    "fixed_id = '126l'\n",
    "fixed_dict = consensus_dicts[fixed_id]\n",
    "\n",
    "expert_label = fixed_dict['expert_label'].to_dense()[:,:,50]\n",
    "staple_consensus = fixed_dict['staple_consensus'].to_dense()[:,:,50]\n",
    "dp_consensus = fixed_dict['dp_consensus'].to_dense()[:,:,50]\n",
    "prediction = fixed_dict['prediction'].to_dense()[0,:,:,50]\n",
    "\n",
    "all_warped_ids = [warped_id for warped_id, elem in fixed_dict.items() if isinstance(elem, dict)]\n",
    "\n",
    "for mov_id in ['102l', '056l', '049l', '062l', '026l', '105l', '020l', '031l', '014l', '041l']:\n",
    "    warped_seg = fixed_dict[mov_id]['warped_label'].to_dense()\n",
    "    dp = fixed_dict[mov_id]['data_parameter']\n",
    "    sens = fixed_dict[mov_id]['staple_sensitivity']\n",
    "    dp_overlay += warped_seg[:,:,50] * torch.sigmoid(dp).item()\n",
    "    staple_overlay += warped_seg[:,:,50] * sens"
   ]
  },
  {
   "cell_type": "code",
   "execution_count": 30,
   "metadata": {},
   "outputs": [
    {
     "data": {
      "image/png": "[encoded data removed]",
      "text/plain": [
       "<Figure size 432x288 with 1 Axes>"
      ]
     },
     "metadata": {
      "needs_background": "light"
     },
     "output_type": "display_data"
    },
    {
     "data": {
      "image/png": "[encoded data removed]",
      "text/plain": [
       "<Figure size 432x288 with 1 Axes>"
      ]
     },
     "metadata": {
      "needs_background": "light"
     },
     "output_type": "display_data"
    },
    {
     "data": {
      "image/png": "[encoded data removed]",
      "text/plain": [
       "<Figure size 432x288 with 1 Axes>"
      ]
     },
     "metadata": {
      "needs_background": "light"
     },
     "output_type": "display_data"
    },
    {
     "data": {
      "image/png": "[encoded data removed]",
      "text/plain": [
       "<Figure size 432x288 with 1 Axes>"
      ]
     },
     "metadata": {
      "needs_background": "light"
     },
     "output_type": "display_data"
    },
    {
     "data": {
      "image/png": "[encoded data removed]",
      "text/plain": [
       "<Figure size 432x288 with 1 Axes>"
      ]
     },
     "metadata": {
      "needs_background": "light"
     },
     "output_type": "display_data"
    },
    {
     "data": {
      "image/png": "[encoded data removed]",
      "text/plain": [
       "<Figure size 432x288 with 1 Axes>"
      ]
     },
     "metadata": {
      "needs_background": "light"
     },
     "output_type": "display_data"
    }
   ],
   "source": [
    "plt.imshow(dp_overlay)\n",
    "plt.show()\n",
    "plt.imshow(staple_overlay)\n",
    "plt.show()\n",
    "plt.imshow(expert_label)\n",
    "plt.show()\n",
    "plt.imshow(staple_consensus)\n",
    "plt.show()\n",
    "plt.imshow(dp_consensus)\n",
    "plt.show()\n",
    "plt.imshow(prediction)\n",
    "plt.show()\n"
   ]
  },
  {
   "cell_type": "code",
   "execution_count": null,
   "metadata": {},
   "outputs": [],
   "source": []
  }
 ],
 "metadata": {
  "jupytext": {
   "formats": "ipynb,py:percent"
  },
  "kernelspec": {
   "display_name": "Python 3.9.5 ('.venv': poetry)",
   "language": "python",
   "name": "python3"
  },
  "language_info": {
   "codemirror_mode": {
    "name": "ipython",
    "version": 3
   },
   "file_extension": ".py",
   "mimetype": "text/x-python",
   "name": "python",
   "nbconvert_exporter": "python",
   "pygments_lexer": "ipython3",
   "version": "3.9.5"
  },
  "vscode": {
   "interpreter": {
    "hash": "57efacd574748ae279834cd27f90be6c8a6d8520281e41a67bd3c4b4a08a9f76"
   }
  }
 },
 "nbformat": 4,
 "nbformat_minor": 4
}
