{
 "cells": [
  {
   "cell_type": "code",
   "execution_count": 10,
   "id": "9269c04f",
   "metadata": {},
   "outputs": [],
   "source": [
    "import torch\n",
    "import torch.nn as nn\n",
    "import torch.nn.functional as F\n",
    "import matplotlib.pyplot as plt\n",
    "import scipy.io\n",
    "import numpy as np\n",
    "import torchvision\n",
    "\n",
    "from curriculum_deeplab.data_parameters import DataParamMode, DataParamOptim\n",
    "from curriculum_deeplab.data_parameters import DataParameterManager"
   ]
  },
  {
   "cell_type": "code",
   "execution_count": 12,
   "id": "72629711",
   "metadata": {},
   "outputs": [
    {
     "name": "stdout",
     "output_type": "stream",
     "text": [
      "Downloading http://yann.lecun.com/exdb/mnist/train-images-idx3-ubyte.gz\n",
      "Downloading http://yann.lecun.com/exdb/mnist/train-images-idx3-ubyte.gz to ../data/MNIST/raw/train-images-idx3-ubyte.gz\n"
     ]
    },
    {
     "data": {
      "application/vnd.jupyter.widget-view+json": {
       "model_id": "4cfb199c6b214cc295783faf963bd279",
       "version_major": 2,
       "version_minor": 0
      },
      "text/plain": [
       "  0%|          | 0/9912422 [00:00<?, ?it/s]"
      ]
     },
     "metadata": {},
     "output_type": "display_data"
    },
    {
     "name": "stdout",
     "output_type": "stream",
     "text": [
      "Extracting ../data/MNIST/raw/train-images-idx3-ubyte.gz to ../data/MNIST/raw\n",
      "\n",
      "Downloading http://yann.lecun.com/exdb/mnist/train-labels-idx1-ubyte.gz\n",
      "Downloading http://yann.lecun.com/exdb/mnist/train-labels-idx1-ubyte.gz to ../data/MNIST/raw/train-labels-idx1-ubyte.gz\n"
     ]
    },
    {
     "data": {
      "application/vnd.jupyter.widget-view+json": {
       "model_id": "d2f5b7cf23c442449b03183dd61ee6a6",
       "version_major": 2,
       "version_minor": 0
      },
      "text/plain": [
       "  0%|          | 0/28881 [00:00<?, ?it/s]"
      ]
     },
     "metadata": {},
     "output_type": "display_data"
    },
    {
     "name": "stdout",
     "output_type": "stream",
     "text": [
      "Extracting ../data/MNIST/raw/train-labels-idx1-ubyte.gz to ../data/MNIST/raw\n",
      "\n",
      "Downloading http://yann.lecun.com/exdb/mnist/t10k-images-idx3-ubyte.gz\n",
      "Downloading http://yann.lecun.com/exdb/mnist/t10k-images-idx3-ubyte.gz to ../data/MNIST/raw/t10k-images-idx3-ubyte.gz\n"
     ]
    },
    {
     "data": {
      "application/vnd.jupyter.widget-view+json": {
       "model_id": "8cc4c3c4152c44efb714c54066fffd5f",
       "version_major": 2,
       "version_minor": 0
      },
      "text/plain": [
       "  0%|          | 0/1648877 [00:00<?, ?it/s]"
      ]
     },
     "metadata": {},
     "output_type": "display_data"
    },
    {
     "name": "stdout",
     "output_type": "stream",
     "text": [
      "Extracting ../data/MNIST/raw/t10k-images-idx3-ubyte.gz to ../data/MNIST/raw\n",
      "\n",
      "Downloading http://yann.lecun.com/exdb/mnist/t10k-labels-idx1-ubyte.gz\n",
      "Downloading http://yann.lecun.com/exdb/mnist/t10k-labels-idx1-ubyte.gz to ../data/MNIST/raw/t10k-labels-idx1-ubyte.gz\n"
     ]
    },
    {
     "data": {
      "application/vnd.jupyter.widget-view+json": {
       "model_id": "e8ca8df751f64aef834391908a7c36e8",
       "version_major": 2,
       "version_minor": 0
      },
      "text/plain": [
       "  0%|          | 0/4542 [00:00<?, ?it/s]"
      ]
     },
     "metadata": {},
     "output_type": "display_data"
    },
    {
     "name": "stdout",
     "output_type": "stream",
     "text": [
      "Extracting ../data/MNIST/raw/t10k-labels-idx1-ubyte.gz to ../data/MNIST/raw\n",
      "\n"
     ]
    },
    {
     "data": {
      "text/plain": [
       "Dataset MNIST\n",
       "    Number of datapoints: 60000\n",
       "    Root location: ../data\n",
       "    Split: Train"
      ]
     },
     "execution_count": 12,
     "metadata": {},
     "output_type": "execute_result"
    }
   ],
   "source": [
    "torchvision.datasets.MNIST(root=\"../data\", download=True)"
   ]
  },
  {
   "cell_type": "code",
   "execution_count": 13,
   "id": "515302ac",
   "metadata": {},
   "outputs": [],
   "source": [
    "class dotdict(dict):\n",
    "    \"\"\"dot.notation access to dictionary attributes\"\"\"\n",
    "    __getattr__ = dict.get\n",
    "    __setattr__ = dict.__setitem__\n",
    "    __delattr__ = dict.__delitem__\n",
    "    \n",
    "config = dotdict({\n",
    "    # Data parameter config\n",
    "    'data_param_mode': DataParamMode.ONLY_INSTANCE_PARAMS,\n",
    "    'init_class_param': 1.0, \n",
    "    'lr_class_param': 0.1,\n",
    "    'init_inst_param': 1.0, \n",
    "    'lr_inst_param': 0.1,\n",
    "    'wd_inst_param': 0.0,\n",
    "    'wd_class_param': 0.0,\n",
    "    \n",
    "    'skip_clamp_data_param': False,\n",
    "    'clamp_sigma_min': np.log(1/20),\n",
    "    'clamp_sigma_max': np.log(20),\n",
    "    'optim_algorithm': DataParamOptim.ADAM,\n",
    "    'optim_options': dict(\n",
    "        # momentum=.9\n",
    "        betas=(0.9, 0.999)\n",
    "    )\n",
    "})"
   ]
  },
  {
   "cell_type": "code",
   "execution_count": 14,
   "id": "a040f751",
   "metadata": {},
   "outputs": [
    {
     "name": "stdout",
     "output_type": "stream",
     "text": [
      "torch.Size([958, 28, 28])\n"
     ]
    },
    {
     "data": {
      "image/png": "[encoded data removed]",
      "text/plain": [
       "<Figure size 432x288 with 1 Axes>"
      ]
     },
     "metadata": {
      "needs_background": "light"
     },
     "output_type": "display_data"
    },
    {
     "data": {
      "text/plain": [
       "<matplotlib.image.AxesImage at 0x7f044cd05820>"
      ]
     },
     "execution_count": 14,
     "metadata": {},
     "output_type": "execute_result"
    },
    {
     "data": {
      "image/png": "[encoded data removed]",
      "text/plain": [
       "<Figure size 432x288 with 1 Axes>"
      ]
     },
     "metadata": {
      "needs_background": "light"
     },
     "output_type": "display_data"
    }
   ],
   "source": [
    "data = torch.from_numpy(scipy.io.loadmat('../data/mnist-six.mat')['data']).float()\n",
    "segment = (data>150).long()\n",
    "segment2 = (data>5).long()\n",
    "\n",
    "\n",
    "image = (data/255 + torch.randn_like(data)*.1).unsqueeze(1)\n",
    "print(data.shape)\n",
    "plt.imshow(image[152,0].data.cpu())\n",
    "plt.show()\n",
    "plt.imshow(segment2[152].cpu())"
   ]
  },
  {
   "cell_type": "code",
   "execution_count": 15,
   "id": "49440b44",
   "metadata": {},
   "outputs": [],
   "source": [
    "do_flip = torch.rand(800)>0.7#[::2]\n",
    "# do_flip = torch.rand(800)>0.0#[::2]\n",
    "idx_flip = torch.empty(0).long()\n",
    "for i in range(800):\n",
    "    if(do_flip[i]):\n",
    "        idx_flip = torch.cat((idx_flip,torch.tensor([i])))\n",
    "        segment[i] = torch.roll(segment2[i].transpose(-2,-1),(int(torch.randn(1)*5),int(torch.randn(1)*5)),(0,1))"
   ]
  },
  {
   "cell_type": "code",
   "execution_count": 16,
   "id": "cdf0a978",
   "metadata": {},
   "outputs": [
    {
     "name": "stdout",
     "output_type": "stream",
     "text": [
      "tensor([0, 1])\n"
     ]
    },
    {
     "data": {
      "image/png": "[encoded data removed]",
      "text/plain": [
       "<Figure size 432x288 with 1 Axes>"
      ]
     },
     "metadata": {
      "needs_background": "light"
     },
     "output_type": "display_data"
    }
   ],
   "source": [
    "plt.imshow(segment[idx_flip[0]].cpu())\n",
    "print(segment[0].unique())"
   ]
  },
  {
   "cell_type": "code",
   "execution_count": 37,
   "id": "cb0cd1a4",
   "metadata": {},
   "outputs": [
    {
     "name": "stdout",
     "output_type": "stream",
     "text": [
      "0\n",
      "50\n",
      "100\n",
      "150\n",
      "200\n",
      "250\n",
      "300\n",
      "350\n",
      "400\n",
      "450\n"
     ]
    }
   ],
   "source": [
    "net = nn.Sequential(nn.Conv2d(1,32,3,padding=1),nn.BatchNorm2d(32),nn.ReLU(),\\\n",
    "                   nn.Conv2d(32,32,3,padding=1),nn.BatchNorm2d(32),nn.ReLU(),\\\n",
    "                   nn.Conv2d(32,32,3,padding=1),nn.BatchNorm2d(32),nn.ReLU(),\\\n",
    "                   nn.Conv2d(32,2,3,padding=1))\n",
    "\n",
    "\n",
    "embedding = nn.Embedding(800, 1, sparse=True)\n",
    "embedding\n",
    "run_loss_mattias = torch.zeros(500)\n",
    "run_cc_mattias = torch.zeros(500)\n",
    "\n",
    "net = net.cuda()\n",
    "embedding = embedding.cuda()\n",
    "image = image.cuda()\n",
    "segment = segment.cuda()\n",
    "run_loss_mattias = run_loss_mattias.cuda()\n",
    "run_cc_mattias = run_cc_mattias.cuda()\n",
    "do_flip = do_flip.cuda()\n",
    "\n",
    "\n",
    "optimizer = torch.optim.Adam(net.parameters(), lr=0.0001, betas=(0.9, 0.999), eps=1e-08)\n",
    "optimizer_data = torch.optim.SparseAdam(embedding.parameters(), lr=0.1, betas=(0.9, 0.999), eps=1e-08)\n",
    "\n",
    "for i in range(500):\n",
    "    if i % 50 == 0:\n",
    "        print(i)\n",
    "    idx = torch.randperm(800)[:64]\n",
    "    idx = idx.cuda()\n",
    "    optimizer.zero_grad()\n",
    "    optimizer_data.zero_grad()\n",
    "\n",
    "    input = image[idx]\n",
    "    output = net(input)\n",
    "\n",
    "    loss_mattias = nn.CrossEntropyLoss(reduction='none')(output,segment[idx]).mean(-1).mean(-1)\n",
    "    \n",
    "    run_cc_mattias[i] = np.corrcoef(torch.sigmoid(embedding.weight).cpu().data.squeeze().numpy(),do_flip.float().cpu().numpy())[0,1]\n",
    "    run_loss_mattias[i] = (loss_mattias*(1-do_flip[idx].float())).mean().item()\n",
    "\n",
    "    # print(loss)\n",
    "    weight = torch.sigmoid(embedding(idx)).squeeze()\n",
    "    weight = weight/weight.mean()\n",
    "    \n",
    "    (loss_mattias*weight).sum().backward()\n",
    "    optimizer.step()\n",
    "    optimizer_data.step()"
   ]
  },
  {
   "cell_type": "code",
   "execution_count": 38,
   "id": "88aebddd",
   "metadata": {},
   "outputs": [
    {
     "name": "stdout",
     "output_type": "stream",
     "text": [
      "Initialized instance data parameters with: 1.0\n",
      "0\n",
      "50\n",
      "100\n",
      "150\n",
      "200\n",
      "250\n",
      "300\n",
      "350\n",
      "400\n",
      "450\n"
     ]
    }
   ],
   "source": [
    "# Setup data parameter manager\n",
    "CLASSES = ['background', 'six']\n",
    "dpm = DataParameterManager(instance_keys=range(800), class_keys=CLASSES, config=config, device='cuda')\n",
    "\n",
    "net2 = nn.Sequential(nn.Conv2d(1,32,3,padding=1),nn.BatchNorm2d(32),nn.ReLU(),\\\n",
    "                   nn.Conv2d(32,32,3,padding=1),nn.BatchNorm2d(32),nn.ReLU(),\\\n",
    "                   nn.Conv2d(32,32,3,padding=1),nn.BatchNorm2d(32),nn.ReLU(),\\\n",
    "                   nn.Conv2d(32,2,3,padding=1))\n",
    "\n",
    "optimizer2 = torch.optim.Adam(net2.parameters(), lr=0.0001, betas=(0.9, 0.999), eps=1e-08)\n",
    "\n",
    "run_loss2 = torch.zeros(500)\n",
    "run_cc2 = torch.zeros(500)\n",
    "\n",
    "image = image.cuda()\n",
    "segment = segment.cuda()\n",
    "net2 = net2.cuda()\n",
    "run_loss2 = run_loss2.cuda()\n",
    "run_cc2 = run_cc2.cuda()\n",
    "do_flip = do_flip.cuda()\n",
    "\n",
    "for i in range(500):\n",
    "    if i % 50 == 0:\n",
    "        print(i)\n",
    "    idx = torch.randperm(800)[:64]\n",
    "    idx = idx.cuda()\n",
    "\n",
    "    optimizer2.zero_grad()\n",
    "\n",
    "    # Alt impl\n",
    "    _input = image[idx]\n",
    "    logits2 = net2(_input)\n",
    "    logits2 = logits2.permute(0,2,3,1)\n",
    "    _, loss = dpm.do_basic_train_step(\n",
    "        nn.BCEWithLogitsLoss(), \n",
    "        logits2, \n",
    "        torch.nn.functional.one_hot(segment[idx].long()), \n",
    "        optimizer2, \n",
    "        inst_keys=idx.tolist(),\n",
    "        scaler=None)\n",
    "\n",
    "    run_cc2[i] = torch.tensor(np.corrcoef(torch.sigmoid(dpm.get_parameter_tensor(inst_keys=range(800))).detach().cpu().numpy(), do_flip.float().cpu().numpy()))[0,1]\n",
    "    run_loss2[i] = (loss*(1-do_flip[idx].float())).mean().item()"
   ]
  },
  {
   "cell_type": "code",
   "execution_count": 39,
   "id": "800632d8",
   "metadata": {},
   "outputs": [
    {
     "data": {
      "image/png": "[encoded data removed]",
      "text/plain": [
       "<Figure size 432x288 with 1 Axes>"
      ]
     },
     "metadata": {
      "needs_background": "light"
     },
     "output_type": "display_data"
    },
    {
     "data": {
      "image/png": "[encoded data removed]",
      "text/plain": [
       "<Figure size 432x288 with 1 Axes>"
      ]
     },
     "metadata": {
      "needs_background": "light"
     },
     "output_type": "display_data"
    },
    {
     "data": {
      "image/png": "[encoded data removed]",
      "text/plain": [
       "<Figure size 432x288 with 1 Axes>"
      ]
     },
     "metadata": {
      "needs_background": "light"
     },
     "output_type": "display_data"
    }
   ],
   "source": [
    "plt.plot(torch.sigmoid(embedding.weight.data.cpu()))\n",
    "plt.plot(torch.sigmoid(dpm.get_parameter_tensor(inst_keys='all')).detach().cpu().numpy())\n",
    "plt.show()\n",
    "\n",
    "plt.plot(run_loss_mattias.cpu())\n",
    "plt.plot(run_loss2.cpu())\n",
    "plt.show()\n",
    "\n",
    "plt.plot(run_cc_mattias.cpu())\n",
    "plt.plot(run_cc2.cpu())\n",
    "plt.show()"
   ]
  },
  {
   "cell_type": "code",
   "execution_count": null,
   "id": "0a25acec",
   "metadata": {},
   "outputs": [],
   "source": [
    "#plt.plot(torch.sigmoid(embedding.weight).cpu().data.squeeze().numpy(),do_flip.float().numpy(),'.')"
   ]
  }
 ],
 "metadata": {
  "kernelspec": {
   "display_name": "Python 3",
   "language": "python",
   "name": "python3"
  },
  "language_info": {
   "codemirror_mode": {
    "name": "ipython",
    "version": 3
   },
   "file_extension": ".py",
   "mimetype": "text/x-python",
   "name": "python",
   "nbconvert_exporter": "python",
   "pygments_lexer": "ipython3",
   "version": "3.9.7"
  }
 },
 "nbformat": 4,
 "nbformat_minor": 5
}
