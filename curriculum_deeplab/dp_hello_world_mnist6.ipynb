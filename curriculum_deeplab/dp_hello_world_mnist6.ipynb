{
 "cells": [
  {
   "cell_type": "code",
   "execution_count": 26,
   "id": "9269c04f",
   "metadata": {},
   "outputs": [],
   "source": [
    "import torch\n",
    "import torch.nn as nn\n",
    "import torch.nn.functional as F\n",
    "import matplotlib.pyplot as plt\n",
    "import scipy.io\n",
    "import numpy as np\n",
    "import torchvision\n",
    "\n",
    "from curriculum_deeplab.data_parameters import DataParamMode, DataParamOptim\n",
    "from curriculum_deeplab.data_parameters import DataParameterManager"
   ]
  },
  {
   "cell_type": "code",
   "execution_count": 27,
   "id": "72629711",
   "metadata": {},
   "outputs": [
    {
     "data": {
      "text/plain": [
       "Dataset MNIST\n",
       "    Number of datapoints: 60000\n",
       "    Root location: ../data\n",
       "    Split: Train"
      ]
     },
     "execution_count": 27,
     "metadata": {},
     "output_type": "execute_result"
    }
   ],
   "source": [
    "torchvision.datasets.MNIST(root=\"../data\", download=True)"
   ]
  },
  {
   "cell_type": "code",
   "execution_count": 28,
   "id": "515302ac",
   "metadata": {},
   "outputs": [],
   "source": [
    "class dotdict(dict):\n",
    "    \"\"\"dot.notation access to dictionary attributes\"\"\"\n",
    "    __getattr__ = dict.get\n",
    "    __setattr__ = dict.__setitem__\n",
    "    __delattr__ = dict.__delitem__\n",
    "    \n",
    "config = dotdict({\n",
    "    # Data parameter config\n",
    "    'data_param_mode': DataParamMode.ONLY_INSTANCE_PARAMS,\n",
    "    'init_class_param': 1.0, \n",
    "    'lr_class_param': 0.1,\n",
    "    'init_inst_param': 1.0, \n",
    "    'lr_inst_param': 0.1,\n",
    "    'wd_inst_param': 0.0,\n",
    "    'wd_class_param': 0.0,\n",
    "    \n",
    "    'skip_clamp_data_param': False,\n",
    "    'clamp_sigma_min': np.log(1/20),\n",
    "    'clamp_sigma_max': np.log(20),\n",
    "    'optim_algorithm': DataParamOptim.ADAM,\n",
    "    'optim_options': dict(\n",
    "        # momentum=.9\n",
    "        betas=(0.9, 0.999)\n",
    "    )\n",
    "})"
   ]
  },
  {
   "cell_type": "code",
   "execution_count": 29,
   "id": "a040f751",
   "metadata": {},
   "outputs": [
    {
     "name": "stdout",
     "output_type": "stream",
     "text": [
      "torch.Size([958, 28, 28])\n"
     ]
    },
    {
     "data": {
      "image/png": "[encoded data removed]",
      "text/plain": [
       "<Figure size 432x288 with 1 Axes>"
      ]
     },
     "metadata": {
      "needs_background": "light"
     },
     "output_type": "display_data"
    },
    {
     "data": {
      "text/plain": [
       "<matplotlib.image.AxesImage at 0x7f243ca6c1f0>"
      ]
     },
     "execution_count": 29,
     "metadata": {},
     "output_type": "execute_result"
    },
    {
     "data": {
      "image/png": "[encoded data removed]",
      "text/plain": [
       "<Figure size 432x288 with 1 Axes>"
      ]
     },
     "metadata": {
      "needs_background": "light"
     },
     "output_type": "display_data"
    }
   ],
   "source": [
    "data = torch.from_numpy(scipy.io.loadmat('../data/mnist-six.mat')['data']).float()\n",
    "segment_untouched = (data>150).long()\n",
    "segment = (data>150).long()\n",
    "segment2 = (data>5).long()\n",
    "\n",
    "\n",
    "image = (data/255 + torch.randn_like(data)*.1).unsqueeze(1)\n",
    "print(data.shape)\n",
    "plt.imshow(image[152,0].data.cpu())\n",
    "plt.show()\n",
    "plt.imshow(segment2[152].cpu())"
   ]
  },
  {
   "cell_type": "code",
   "execution_count": 30,
   "id": "49440b44",
   "metadata": {},
   "outputs": [],
   "source": [
    "do_flip = torch.rand(800)>0.7#[::2]\n",
    "# do_flip = torch.rand(800)>0.0#[::2]\n",
    "idx_flip = torch.empty(0).long()\n",
    "idx_clean = torch.empty(0).long()\n",
    "for i in range(800):\n",
    "    if(do_flip[i]):\n",
    "        idx_flip = torch.cat((idx_flip,torch.tensor([i])))\n",
    "        segment[i] = torch.roll(segment2[i].transpose(-2,-1),(int(torch.randn(1)*5),int(torch.randn(1)*5)),(0,1))\n",
    "    else:\n",
    "        idx_clean = torch.cat((idx_clean,torch.tensor([i])))"
   ]
  },
  {
   "cell_type": "code",
   "execution_count": 31,
   "id": "cdf0a978",
   "metadata": {},
   "outputs": [
    {
     "data": {
      "image/png": "[encoded data removed]",
      "text/plain": [
       "<Figure size 432x288 with 1 Axes>"
      ]
     },
     "metadata": {
      "needs_background": "light"
     },
     "output_type": "display_data"
    },
    {
     "name": "stdout",
     "output_type": "stream",
     "text": [
      "tensor([0, 1])\n"
     ]
    },
    {
     "data": {
      "image/png": "[encoded data removed]",
      "text/plain": [
       "<Figure size 432x288 with 1 Axes>"
      ]
     },
     "metadata": {
      "needs_background": "light"
     },
     "output_type": "display_data"
    },
    {
     "data": {
      "image/png": "[encoded data removed]",
      "text/plain": [
       "<Figure size 432x288 with 1 Axes>"
      ]
     },
     "metadata": {
      "needs_background": "light"
     },
     "output_type": "display_data"
    }
   ],
   "source": [
    "plt.imshow(segment[idx_flip[0]].cpu())\n",
    "plt.show()\n",
    "print(segment[0].unique())\n",
    "\n",
    "\n",
    "x_or_intersect = torch.logical_xor(segment, segment_untouched)\n",
    "or_intersect = torch.logical_or(segment, segment_untouched)\n",
    "plt.imshow(x_or_intersect[152].cpu())\n",
    "plt.show()\n",
    "plt.imshow(or_intersect[152].cpu())\n",
    "plt.show()"
   ]
  },
  {
   "cell_type": "code",
   "execution_count": 32,
   "id": "cb0cd1a4",
   "metadata": {},
   "outputs": [
    {
     "name": "stdout",
     "output_type": "stream",
     "text": [
      "0\n",
      "50\n",
      "100\n",
      "150\n",
      "200\n",
      "250\n",
      "300\n",
      "350\n",
      "400\n",
      "450\n"
     ]
    }
   ],
   "source": [
    "net = nn.Sequential(nn.Conv2d(1,32,3,padding=1),nn.BatchNorm2d(32),nn.ReLU(),\\\n",
    "                   nn.Conv2d(32,32,3,padding=1),nn.BatchNorm2d(32),nn.ReLU(),\\\n",
    "                   nn.Conv2d(32,32,3,padding=1),nn.BatchNorm2d(32),nn.ReLU(),\\\n",
    "                   nn.Conv2d(32,2,3,padding=1))\n",
    "\n",
    "\n",
    "embedding = nn.Embedding(800, 1, sparse=True)\n",
    "embedding\n",
    "\n",
    "# torch.nn.init.constant_(embedding.weight.data, 1.)\n",
    "\n",
    "run_loss_mattias = torch.zeros(500)\n",
    "run_cc_mattias = torch.zeros(500)\n",
    "\n",
    "net = net.cuda()\n",
    "embedding = embedding.cuda()\n",
    "image = image.cuda()\n",
    "segment = segment.cuda()\n",
    "run_loss_mattias = run_loss_mattias.cuda()\n",
    "run_cc_mattias = run_cc_mattias.cuda()\n",
    "do_flip = do_flip.cuda()\n",
    "\n",
    "\n",
    "optimizer = torch.optim.Adam(net.parameters(), lr=0.0001, betas=(0.9, 0.999), eps=1e-08)\n",
    "optimizer_data = torch.optim.SparseAdam(embedding.parameters(), lr=0.1, betas=(0.9, 0.999), eps=1e-08)\n",
    "\n",
    "for i in range(500):\n",
    "    if i % 50 == 0:\n",
    "        print(i)\n",
    "    idx = torch.randperm(800)[:64]\n",
    "    idx = idx.cuda()\n",
    "    optimizer.zero_grad()\n",
    "    optimizer_data.zero_grad()\n",
    "\n",
    "    input = image[idx]\n",
    "    output = net(input)\n",
    "\n",
    "    loss_mattias = nn.CrossEntropyLoss(reduction='none')(output,segment[idx]).mean(-1).mean(-1)\n",
    "    \n",
    "    run_cc_mattias[i] = np.corrcoef(torch.sigmoid(embedding.weight).cpu().data.squeeze().numpy(),do_flip.float().cpu().numpy())[0,1]\n",
    "    run_loss_mattias[i] = (loss_mattias*(1-do_flip[idx].float())).mean().item()\n",
    "\n",
    "    # print(loss)\n",
    "    weight = torch.sigmoid(embedding(idx)).squeeze()\n",
    "    weight = weight/weight.mean()\n",
    "    \n",
    "    (loss_mattias*weight).sum().backward()\n",
    "    optimizer.step()\n",
    "    optimizer_data.step()"
   ]
  },
  {
   "cell_type": "code",
   "execution_count": 33,
   "id": "9251b240",
   "metadata": {},
   "outputs": [
    {
     "name": "stdout",
     "output_type": "stream",
     "text": [
      "Initialized instance data parameters with: 1.0\n",
      "0\n",
      "50\n",
      "100\n",
      "150\n",
      "200\n",
      "250\n",
      "300\n",
      "350\n",
      "400\n",
      "450\n"
     ]
    }
   ],
   "source": [
    "# Setup data parameter manager\n",
    "CLASSES = ['background', 'six']\n",
    "dpm = DataParameterManager(instance_keys=range(800), class_keys=CLASSES, config=config, device='cuda')\n",
    "\n",
    "net2 = nn.Sequential(nn.Conv2d(1,32,3,padding=1),nn.BatchNorm2d(32),nn.ReLU(),\\\n",
    "                   nn.Conv2d(32,32,3,padding=1),nn.BatchNorm2d(32),nn.ReLU(),\\\n",
    "                   nn.Conv2d(32,32,3,padding=1),nn.BatchNorm2d(32),nn.ReLU(),\\\n",
    "                   nn.Conv2d(32,2,3,padding=1))\n",
    "\n",
    "optimizer2 = torch.optim.Adam(net2.parameters(), lr=0.0001, betas=(0.9, 0.999), eps=1e-08)\n",
    "\n",
    "run_loss2 = torch.zeros(500)\n",
    "run_cc2 = torch.zeros(500)\n",
    "\n",
    "image = image.cuda()\n",
    "segment = segment.cuda()\n",
    "net2 = net2.cuda()\n",
    "run_loss2 = run_loss2.cuda()\n",
    "run_cc2 = run_cc2.cuda()\n",
    "do_flip = do_flip.cuda()\n",
    "\n",
    "for i in range(500):\n",
    "    if i % 50 == 0:\n",
    "        print(i)\n",
    "    idx = torch.randperm(800)[:64]\n",
    "    idx = idx.cuda()\n",
    "\n",
    "    optimizer2.zero_grad()\n",
    "\n",
    "    # Alt impl\n",
    "    _input = image[idx]\n",
    "    logits2 = net2(_input)\n",
    "    logits2 = logits2.permute(0,2,3,1)\n",
    "    _, loss = dpm.do_basic_train_step(\n",
    "        nn.BCEWithLogitsLoss(), \n",
    "        logits2, \n",
    "        torch.nn.functional.one_hot(segment[idx].long()), \n",
    "        optimizer2, \n",
    "        inst_keys=idx.tolist(),\n",
    "        scaler=None)\n",
    "\n",
    "    run_cc2[i] = torch.tensor(np.corrcoef(torch.sigmoid(dpm.get_parameter_tensor(inst_keys=range(800))).detach().cpu().numpy(), do_flip.float().cpu().numpy()))[0,1]\n",
    "    run_loss2[i] = (loss*(1-do_flip[idx].float())).mean().item()"
   ]
  },
  {
   "cell_type": "code",
   "execution_count": 34,
   "id": "88aebddd",
   "metadata": {},
   "outputs": [
    {
     "name": "stdout",
     "output_type": "stream",
     "text": [
      "0\n",
      "50\n",
      "100\n",
      "150\n",
      "200\n",
      "250\n",
      "300\n",
      "350\n",
      "400\n",
      "450\n"
     ]
    }
   ],
   "source": [
    "import torch.cuda.amp as amp\n",
    "\n",
    "net3 = nn.Sequential(nn.Conv2d(1,32,3,padding=1),nn.BatchNorm2d(32),nn.ReLU(),\\\n",
    "                   nn.Conv2d(32,32,3,padding=1),nn.BatchNorm2d(32),nn.ReLU(),\\\n",
    "                   nn.Conv2d(32,32,3,padding=1),nn.BatchNorm2d(32),nn.ReLU(),\\\n",
    "                   nn.Conv2d(32,2,3,padding=1))\n",
    "\n",
    "\n",
    "embedding3 = nn.Embedding(800, 1, sparse=True)\n",
    "torch.nn.init.constant_(embedding3.weight.data, +1.)\n",
    "# embedding3.weight.data = torch.rand_like(embedding3.weight.data)*1e-4 +1.\n",
    "\n",
    "run_loss_mattias3 = torch.zeros(500)\n",
    "run_cc_mattias3 = torch.zeros(500)\n",
    "\n",
    "net3 = net3.cuda()\n",
    "embedding3 = embedding3.cuda()\n",
    "image = image.cuda()\n",
    "segment = segment.cuda()\n",
    "run_loss_mattias3 = run_loss_mattias3.cuda()\n",
    "run_cc_mattias3 = run_cc_mattias3.cuda()\n",
    "do_flip = do_flip.cuda()\n",
    "\n",
    "\n",
    "optimizer3 = torch.optim.Adam(net3.parameters(), lr=0.0001, betas=(0.9, 0.999), eps=1e-08)\n",
    "optimizer_data3 = torch.optim.SparseAdam(embedding3.parameters(), lr=0.1, betas=(0.9, 0.999), eps=1e-08)\n",
    "scaler = amp.GradScaler()\n",
    "\n",
    "\n",
    "for i in range(500):\n",
    "    if i % 50 == 0:\n",
    "        print(i)\n",
    "    idx = torch.randperm(800)[:64]\n",
    "    idx = idx.cuda()\n",
    "    optimizer3.zero_grad()\n",
    "    optimizer_data3.zero_grad()\n",
    "\n",
    "    input = image[idx]\n",
    "    output = net3(input)\n",
    "\n",
    "    # Var 0\n",
    "    # loss_mattias = nn.CrossEntropyLoss(reduction='none')(output,segment[idx]).mean((-1,-2))\n",
    "    # weight = torch.sigmoid(embedding3(idx)).squeeze()\n",
    "    # weight = weight/weight.mean()\n",
    "    # dp_loss = loss_mattias*weight\n",
    "    # dp_loss.sum().backward()\n",
    "\n",
    "    # Var 1 working!\n",
    "    # weight = embedding3(idx).squeeze()\n",
    "    # dp_logits = output*weight.exp().view(-1,1,1,1)\n",
    "    # loss_mattias = nn.CrossEntropyLoss(reduction='sum')(\n",
    "    #     dp_logits,\n",
    "    #     segment[idx]\n",
    "    # )\n",
    "    # dp_loss = loss_mattias\n",
    "    # dp_loss.sum().backward()\n",
    "\n",
    "    # Var 1.5\n",
    "    # weight = embedding3(idx).squeeze()\n",
    "    # dp_logits = output/torch.sigmoid(weight).view(-1,1,1,1)\n",
    "    # loss_mattias = nn.CrossEntropyLoss(reduction='sum')(\n",
    "    #     dp_logits,\n",
    "    #     segment[idx]\n",
    "    # )\n",
    "    # dp_loss = loss_mattias\n",
    "    # dp_loss.sum().backward()\n",
    "\n",
    "    # Var 2, with autocast - setting embedding vector to 0 yields best performance\n",
    "    with amp.autocast(enabled=True):\n",
    "        loss = nn.CrossEntropyLoss(reduction='none')(output,segment[idx]).mean((-1,-2))\n",
    "        weight = embedding3(idx)\n",
    "\n",
    "        weight = torch.sigmoid(weight).squeeze()\n",
    "        dp_loss = (loss*weight/weight.mean()).sum()\n",
    "\n",
    "    scaler.scale(dp_loss).backward()\n",
    "    scaler.step(optimizer3)        \n",
    "    scaler.step(optimizer_data3)\n",
    "    scaler.update()\n",
    "    \n",
    "    run_cc_mattias3[i] = np.corrcoef(torch.sigmoid(embedding3.weight).cpu().data.squeeze().numpy(),do_flip.float().cpu().numpy())[0,1]\n",
    "    run_loss_mattias3[i] = (loss*(1-do_flip[idx].float())).mean().item()\n"
   ]
  },
  {
   "cell_type": "markdown",
   "id": "df104c4e",
   "metadata": {},
   "source": [
    "# Embedding 4"
   ]
  },
  {
   "cell_type": "code",
   "execution_count": 79,
   "id": "6c126746",
   "metadata": {},
   "outputs": [
    {
     "name": "stdout",
     "output_type": "stream",
     "text": [
      "0\n",
      "50\n",
      "100\n",
      "150\n",
      "200\n",
      "250\n",
      "300\n",
      "350\n",
      "400\n",
      "450\n"
     ]
    }
   ],
   "source": [
    "import torch.cuda.amp as amp\n",
    "\n",
    "net4 = nn.Sequential(nn.Conv2d(1,32,3,padding=1),nn.BatchNorm2d(32),nn.ReLU(),\\\n",
    "                   nn.Conv2d(32,32,3,padding=1),nn.BatchNorm2d(32),nn.ReLU(),\\\n",
    "                   nn.Conv2d(32,32,3,padding=1),nn.BatchNorm2d(32),nn.ReLU(),\\\n",
    "                   nn.Conv2d(32,2,3,padding=1))\n",
    "\n",
    "GRID_SIZE_Y, GRID_SIZE_X = torch.Size((28,28))\n",
    "\n",
    "\n",
    "\n",
    "# embedding4 = nn.Embedding(800, GRID_SIZE_Y*GRID_SIZE_X, sparse=True) # works TODO\n",
    "embedding4 = nn.Embedding(800*GRID_SIZE_Y*GRID_SIZE_X, 1, sparse=True)\n",
    "torch.nn.init.constant_(embedding4.weight.data, +1.)\n",
    "\n",
    "run_loss_mattias4 = torch.zeros(500)\n",
    "run_cc_mattias4 = torch.zeros(500)\n",
    "\n",
    "net4 = net4.cuda()\n",
    "embedding4 = embedding4.cuda()\n",
    "image = image.cuda()\n",
    "segment = segment.cuda()\n",
    "x_or_intersect = x_or_intersect.cuda()\n",
    "or_intersect = or_intersect.cuda()\n",
    "run_loss_mattias4 = run_loss_mattias4.cuda()\n",
    "run_cc_mattias4 = run_cc_mattias4.cuda()\n",
    "do_flip = do_flip.cuda()\n",
    "\n",
    "optimizer4 = torch.optim.Adam(net4.parameters(), lr=0.0001, betas=(0.9, 0.999), eps=1e-08)\n",
    "optimizer_data4 = torch.optim.SparseAdam(embedding4.parameters(), lr=0.1, betas=(0.9, 0.999), eps=1e-08)\n",
    "scaler = amp.GradScaler()\n",
    "\n",
    "def map_idxs(idxs, grid_size_y, grid_size_x):\n",
    "    with torch.no_grad():\n",
    "        t_sz = grid_size_y * grid_size_x\n",
    "        return ((idxs*t_sz).long().repeat(t_sz).view(t_sz, idxs.numel())+torch.tensor(range(t_sz)).to(idxs).view(t_sz,1)).permute(1,0).reshape(-1)\n",
    "\n",
    "for i in range(500):\n",
    "    if i % 50 == 0:\n",
    "        print(i)\n",
    "    idx = torch.randperm(800)[:64]\n",
    "    idx = idx.cuda()\n",
    "    optimizer4.zero_grad()\n",
    "    optimizer_data4.zero_grad()\n",
    "\n",
    "    input = image[idx]\n",
    "    output = net4(input)\n",
    "\n",
    "   \n",
    "    # Var 4, with autocast - setting embedding vector to 0 yields best performance\n",
    "    with amp.autocast(enabled=True):\n",
    "        # loss = nn.CrossEntropyLoss(reduction='none')(output,segment[idx]).mean((-1,-2)) #works TODO\n",
    "        loss = nn.CrossEntropyLoss(reduction='none')(output,segment[idx])\n",
    "        # weight = embedding4(idx).reshape(-1, GRID_SIZE_Y, GRID_SIZE_X) #works TODO\n",
    "        # all_idxs = (idx.repeat(4).view(4,64)+torch.tensor(range(4), device='cuda').view(4,1)).permute(1,0).reshape(-1)\n",
    "        all_idxs = map_idxs(idx, GRID_SIZE_Y, GRID_SIZE_X)\n",
    "        weight = embedding4(all_idxs)\n",
    "        weight = weight.reshape(-1, GRID_SIZE_Y, GRID_SIZE_X)\n",
    "        weight = weight.unsqueeze(1)\n",
    "        # Corners need to be aligned\n",
    "        weight = torch.nn.functional.interpolate(weight, size=(segment.shape[-2:]), mode='bilinear', align_corners=True).squeeze(1)\n",
    "        # weight = torch.sigmoid(weight).sum((-1,-2)) # WORKS TODO\n",
    "        weight = torch.sigmoid(weight)\n",
    "        weight = weight/weight.mean()\n",
    "        # with torch.no_grad():\n",
    "        dp_loss = (loss*weight).sum()\n",
    "\n",
    "    scaler.scale(dp_loss).backward()\n",
    "    scaler.step(optimizer4)        \n",
    "    scaler.step(optimizer_data4)\n",
    "    scaler.update()\n",
    "    # run_cc_mattias4[i] = np.corrcoef(torch.sigmoid(embedding4.weight.sum(dim=-1)).cpu().data.squeeze().numpy(),do_flip.float().cpu().numpy())[0,1] # works TODO\n",
    "\n",
    "    all_idxs = torch.tensor(list(range(800))).cuda()\n",
    "    emb_map_idxs = map_idxs(all_idxs, GRID_SIZE_Y, GRID_SIZE_X)\n",
    "\n",
    "    masks = or_intersect[all_idxs].float()\n",
    "    masked_weights =  torch.nn.functional.interpolate(embedding4(emb_map_idxs).view(-1,1,GRID_SIZE_Y, GRID_SIZE_X), size=(masks.shape[-2:]), mode='nearest').squeeze(1) * masks\n",
    "\n",
    "    # masked_weights = torch.nn.functional.interpolate(or_intersect[:800].unsqueeze(1).float(), size=(GRID_SIZE_Y, GRID_SIZE_Y)).squeeze(1) * embedding4(emb_map_idxs).view(-1,GRID_SIZE_Y, GRID_SIZE_X)\n",
    "    # masked_weights = masked_weights.view(-1, GRID_SIZE_Y*GRID_SIZE_X)\n",
    "    run_cc_mattias4[i] = np.corrcoef(\n",
    "        # torch.sigmoid(embedding4.weight[map_idxs(torch.tensor(list(range(800))), GRID_SIZE_Y, GRID_SIZE_X)].view(-1,GRID_SIZE_Y*GRID_SIZE_X).sum(dim=-1)).cpu().data.squeeze().numpy(),\n",
    "        masked_weights.mean(dim=(-2, -1)).cpu().data.squeeze().numpy(),\n",
    "        do_flip.float().cpu().numpy())[0,1]\n",
    "    run_loss_mattias4[i] = (dp_loss*(1-do_flip[idx].float())).mean().item()\n"
   ]
  },
  {
   "cell_type": "code",
   "execution_count": 80,
   "id": "800632d8",
   "metadata": {},
   "outputs": [
    {
     "name": "stdout",
     "output_type": "stream",
     "text": [
      "weights\n"
     ]
    },
    {
     "data": {
      "image/png": "[encoded data removed]",
      "text/plain": [
       "<Figure size 432x288 with 1 Axes>"
      ]
     },
     "metadata": {
      "needs_background": "light"
     },
     "output_type": "display_data"
    },
    {
     "name": "stdout",
     "output_type": "stream",
     "text": [
      "loss\n"
     ]
    },
    {
     "data": {
      "image/png": "[encoded data removed]",
      "text/plain": [
       "<Figure size 432x288 with 1 Axes>"
      ]
     },
     "metadata": {
      "needs_background": "light"
     },
     "output_type": "display_data"
    },
    {
     "name": "stdout",
     "output_type": "stream",
     "text": [
      "tensor(0.0227)\n",
      "tensor(0.0244)\n",
      "tensor(0.0955)\n",
      "tensor(335.5394)\n",
      "cc\n"
     ]
    },
    {
     "data": {
      "image/png": "[encoded data removed]",
      "text/plain": [
       "<Figure size 432x288 with 1 Axes>"
      ]
     },
     "metadata": {
      "needs_background": "light"
     },
     "output_type": "display_data"
    },
    {
     "name": "stdout",
     "output_type": "stream",
     "text": [
      "corr_coeff\n",
      "-0.9988327026367188\n",
      "-0.9999966025352478\n",
      "0.9783851504325867\n",
      "-0.9470632076263428\n",
      "weight_std\n",
      "5.054473876953125\n",
      "5.296931266784668\n",
      "1.2251346111297607\n",
      "4.145602226257324\n",
      "params\n",
      "19586\n",
      "627200\n"
     ]
    }
   ],
   "source": [
    "print(\"weights\")\n",
    "plt.plot(embedding.weight.data.cpu())\n",
    "plt.plot(embedding3.weight.data.cpu())\n",
    "plt.plot(dpm.get_parameter_tensor(inst_keys='all').detach().cpu().numpy())\n",
    "plt.plot(embedding4.weight.mean(-1).data.cpu())\n",
    "\n",
    "plt.show()\n",
    "print(\"loss\")\n",
    "plt.plot(run_loss_mattias.cpu())\n",
    "plt.plot(run_loss_mattias3.cpu())\n",
    "plt.plot(run_loss2.cpu())\n",
    "plt.plot(run_loss_mattias4.cpu())\n",
    "plt.show()\n",
    "\n",
    "print(run_loss_mattias.cpu()[-1])\n",
    "print(run_loss_mattias3.cpu()[-1])\n",
    "print(run_loss2.cpu()[-1])\n",
    "print(run_loss_mattias4.cpu()[-1])\n",
    "\n",
    "\n",
    "print(\"cc\")\n",
    "plt.plot(run_cc_mattias.cpu())\n",
    "plt.plot(run_cc_mattias3.cpu())\n",
    "plt.plot(run_cc2.cpu())\n",
    "plt.plot(run_cc_mattias4.cpu())\n",
    "plt.show()\n",
    "\n",
    "print(\"corr_coeff\")\n",
    "print(run_cc_mattias.cpu()[-1].item())\n",
    "print(run_cc_mattias3.cpu()[-1].item())\n",
    "print(run_cc2.cpu()[-1].item())\n",
    "print(run_cc_mattias4.cpu()[-1].item())\n",
    "\n",
    "print(\"weight_std\")\n",
    "print(embedding.weight.data.cpu().std().item())\n",
    "print(embedding3.weight.data.cpu().std().item())\n",
    "print(dpm.get_parameter_tensor(inst_keys='all').detach().cpu().std().item())\n",
    "print(embedding4.weight.data.cpu().std().item())\n",
    "\n",
    "print(\"params\")\n",
    "print(sum(p.numel() for p in net4.parameters()))\n",
    "print(sum(p.numel() for p in embedding4.parameters()))"
   ]
  },
  {
   "cell_type": "code",
   "execution_count": 81,
   "id": "cb5068c3",
   "metadata": {},
   "outputs": [
    {
     "data": {
      "image/png": "[encoded data removed]",
      "text/plain": [
       "<Figure size 432x288 with 1 Axes>"
      ]
     },
     "metadata": {
      "needs_background": "light"
     },
     "output_type": "display_data"
    }
   ],
   "source": [
    "plt.hist(embedding(idx_flip.cuda()).cpu().detach().numpy(), bins=90, histtype='step');\n",
    "plt.hist(embedding(idx_clean.cuda()).cpu().detach().numpy(), bins=90, histtype='step');"
   ]
  },
  {
   "cell_type": "code",
   "execution_count": 82,
   "id": "9eff5bd5",
   "metadata": {},
   "outputs": [
    {
     "data": {
      "image/png": "[encoded data removed]",
      "text/plain": [
       "<Figure size 432x288 with 1 Axes>"
      ]
     },
     "metadata": {
      "needs_background": "light"
     },
     "output_type": "display_data"
    }
   ],
   "source": [
    "# plt.hist(embedding3(idx_flip.cuda()).cpu().detach().numpy(), bins=90, histtype='step');\n",
    "# plt.hist(embedding3(idx_clean.cuda()).cpu().detach().numpy(), bins=90, histtype='step');\n",
    "\n",
    "idx_map_flip = map_idxs(idx_flip.cuda(), GRID_SIZE_Y, GRID_SIZE_X)\n",
    "idx_map_clean = map_idxs(idx_clean.cuda(), GRID_SIZE_Y, GRID_SIZE_X)\n",
    "\n",
    "# mask_flip_idxs = torch.nn.functional.interpolate(x_or_intersect[idx_flip].unsqueeze(1).float(), size=(GRID_SIZE_Y, GRID_SIZE_Y)).squeeze(1).bool()\n",
    "# masked_flipped_weights =  embedding4(idx_map_flip).view(-1,GRID_SIZE_Y, GRID_SIZE_X)[mask_flip_idxs]\n",
    "\n",
    "# mask_flip_idxs = torch.nn.functional.interpolate(or_intersect[idx_flip].unsqueeze(1).float(), size=(GRID_SIZE_Y, GRID_SIZE_Y), mode='nearest').squeeze(1).float() # TODO best so far\n",
    "# masked_flipped_weights =  embedding4(idx_map_flip).view(-1,GRID_SIZE_Y, GRID_SIZE_X) * mask_flip_idxs\n",
    "\n",
    "\n",
    "mask_clean_idxs = or_intersect[idx_clean].float()\n",
    "masked_clean_weights =  torch.nn.functional.interpolate(embedding4(idx_map_clean).view(-1,1,GRID_SIZE_Y, GRID_SIZE_X), size=(mask_clean_idxs.shape[-2:]), mode='nearest').squeeze(1) * mask_clean_idxs\n",
    "\n",
    "mask_flip_idxs = or_intersect[idx_flip].float()\n",
    "masked_flipped_weights =  torch.nn.functional.interpolate(embedding4(idx_map_flip).view(-1,1,GRID_SIZE_Y, GRID_SIZE_X), size=(mask_flip_idxs.shape[-2:]), mode='nearest').squeeze(1) * mask_flip_idxs\n",
    "    \n",
    "plt.hist((masked_clean_weights.mean((-2,-1))).cpu().detach().numpy(), bins=90, histtype='step');    \n",
    "plt.hist((masked_flipped_weights.mean((-2,-1))).cpu().detach().numpy(), bins=90, histtype='step');    \n",
    "# plt.hist((masked_flipped_weights).cpu().detach().numpy(), bins=90, histtype='step');"
   ]
  },
  {
   "cell_type": "code",
   "execution_count": 87,
   "id": "b89e982c",
   "metadata": {},
   "outputs": [
    {
     "data": {
      "image/png": "[encoded data removed]",
      "text/plain": [
       "<Figure size 432x288 with 1 Axes>"
      ]
     },
     "metadata": {
      "needs_background": "light"
     },
     "output_type": "display_data"
    },
    {
     "data": {
      "image/png": "[encoded data removed]",
      "text/plain": [
       "<Figure size 432x288 with 1 Axes>"
      ]
     },
     "metadata": {
      "needs_background": "light"
     },
     "output_type": "display_data"
    },
    {
     "name": "stdout",
     "output_type": "stream",
     "text": [
      "-6.380576133728027 5.777935028076172\n"
     ]
    },
    {
     "data": {
      "image/png": "[encoded data removed]",
      "text/plain": [
       "<Figure size 432x288 with 2 Axes>"
      ]
     },
     "metadata": {
      "needs_background": "light"
     },
     "output_type": "display_data"
    }
   ],
   "source": [
    "SHOW_IDX = 9\n",
    "# plt.imshow(x_or_intersect[idx_flip[SHOW_IDX]].squeeze(0).cpu())\n",
    "# plt.show()\n",
    "plt.imshow(image[idx_flip[SHOW_IDX]].squeeze(0).cpu())\n",
    "plt.show()\n",
    "plt.imshow(segment[idx_flip[SHOW_IDX]].cpu())\n",
    "plt.show()\n",
    "show_weight = embedding4.weight[map_idxs(idx_flip[SHOW_IDX], GRID_SIZE_Y, GRID_SIZE_X)].view(-1,GRID_SIZE_Y,GRID_SIZE_X).unsqueeze(0)\n",
    "show_weight = show_weight.squeeze(0).squeeze(0)\n",
    "print(show_weight.min().item(), show_weight.max().item())\n",
    "plt.imshow(show_weight.detach().cpu(), cmap='gray')\n",
    "plt.colorbar()\n",
    "plt.show()"
   ]
  },
  {
   "cell_type": "code",
   "execution_count": 61,
   "id": "d867e88d",
   "metadata": {},
   "outputs": [
    {
     "data": {
      "image/png": "[encoded data removed]",
      "text/plain": [
       "<Figure size 432x288 with 1 Axes>"
      ]
     },
     "metadata": {
      "needs_background": "light"
     },
     "output_type": "display_data"
    },
    {
     "data": {
      "image/png": "[encoded data removed]",
      "text/plain": [
       "<Figure size 432x288 with 1 Axes>"
      ]
     },
     "metadata": {
      "needs_background": "light"
     },
     "output_type": "display_data"
    },
    {
     "name": "stdout",
     "output_type": "stream",
     "text": [
      "-5.441719055175781 6.49637508392334\n"
     ]
    },
    {
     "data": {
      "image/png": "[encoded data removed]",
      "text/plain": [
       "<Figure size 432x288 with 1 Axes>"
      ]
     },
     "metadata": {
      "needs_background": "light"
     },
     "output_type": "display_data"
    }
   ],
   "source": [
    "SHOW_IDX = 9\n",
    "plt.imshow(image[idx_clean[SHOW_IDX]].squeeze(0).cpu())\n",
    "plt.show()\n",
    "plt.imshow(segment[idx_clean[SHOW_IDX]].cpu())\n",
    "plt.show()\n",
    "show_weight = embedding4.weight[map_idxs(idx_clean[SHOW_IDX], GRID_SIZE_Y, GRID_SIZE_X)].view(-1,GRID_SIZE_Y,GRID_SIZE_X).unsqueeze(0)\n",
    "show_weight = show_weight.squeeze(0).squeeze(0)\n",
    "print(show_weight.min().item(), show_weight.max().item())\n",
    "plt.imshow(show_weight.detach().cpu())\n",
    "plt.show()"
   ]
  },
  {
   "cell_type": "code",
   "execution_count": null,
   "id": "dc660c98",
   "metadata": {},
   "outputs": [],
   "source": []
  }
 ],
 "metadata": {
  "kernelspec": {
   "display_name": "Python 3",
   "language": "python",
   "name": "python3"
  },
  "language_info": {
   "codemirror_mode": {
    "name": "ipython",
    "version": 3
   },
   "file_extension": ".py",
   "mimetype": "text/x-python",
   "name": "python",
   "nbconvert_exporter": "python",
   "pygments_lexer": "ipython3",
   "version": "3.9.5"
  }
 },
 "nbformat": 4,
 "nbformat_minor": 5
}
