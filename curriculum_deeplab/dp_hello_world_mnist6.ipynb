{
 "cells": [
  {
   "cell_type": "code",
   "execution_count": 1,
   "id": "9269c04f",
   "metadata": {},
   "outputs": [
    {
     "name": "stdout",
     "output_type": "stream",
     "text": [
      "\n",
      "### Recommended gpus on this machine (descending order) ###\n",
      "  ID  Card name                      Util    Mem free  Cuda             User(s)\n",
      "----  --------------------------  -------  ----------  ---------------  ---------\n",
      "   1  NVIDIA GeForce RTX 2080 Ti      0 %   11018 MiB  11.5(495.29.05)\n",
      "   2  NVIDIA GeForce RTX 2080 Ti      0 %   11018 MiB  11.5(495.29.05)\n",
      "   3  NVIDIA GeForce RTX 2080 Ti      0 %   11018 MiB  11.5(495.29.05)\n",
      "   0  NVIDIA GeForce RTX 2080 Ti  ! 100 %    2565 MiB  11.5(495.29.05)  schneider\n",
      "\n",
      "Will apply following mapping\n",
      "\n",
      "  ID  Card name                       torch\n",
      "----  --------------------------  --  -------\n",
      "   1  NVIDIA GeForce RTX 2080 Ti  ->  cuda:0\n"
     ]
    }
   ],
   "source": [
    "import os\n",
    "from meidic_vtach_utils.run_on_recommended_cuda import get_cuda_environ_vars as get_vars\n",
    "os.environ.update(get_vars(select=\"* -3 -4\"))\n",
    "import torch\n",
    "import torch.nn as nn\n",
    "import torch.nn.functional as F\n",
    "import matplotlib.pyplot as plt\n",
    "import scipy.io\n",
    "import numpy as np\n",
    "import torchvision\n",
    "from mdl_seg_class.metrics import dice2d\n",
    "from curriculum_deeplab.data_parameters import DataParamMode, DataParamOptim\n",
    "from curriculum_deeplab.data_parameters import DataParameterManager"
   ]
  },
  {
   "cell_type": "code",
   "execution_count": 2,
   "id": "72629711",
   "metadata": {},
   "outputs": [],
   "source": [
    "# torchvision.datasets.MNIST(root=\"../data\", download=True)"
   ]
  },
  {
   "cell_type": "code",
   "execution_count": 3,
   "id": "515302ac",
   "metadata": {},
   "outputs": [],
   "source": [
    "class dotdict(dict):\n",
    "    \"\"\"dot.notation access to dictionary attributes\"\"\"\n",
    "    __getattr__ = dict.get\n",
    "    __setattr__ = dict.__setitem__\n",
    "    __delattr__ = dict.__delitem__\n",
    "    \n",
    "config = dotdict({\n",
    "    # Data parameter config\n",
    "    'data_param_mode': DataParamMode.INSTANCE_PARAMS,\n",
    "    'init_class_param': 1.0, \n",
    "    'lr_class_param': 0.1,\n",
    "    'init_inst_param': 1.0, \n",
    "    'lr_inst_param': 0.1,\n",
    "    'wd_inst_param': 0.0,\n",
    "    'wd_class_param': 0.0,\n",
    "    \n",
    "    'skip_clamp_data_param': False,\n",
    "    'clamp_sigma_min': np.log(1/20),\n",
    "    'clamp_sigma_max': np.log(20),\n",
    "    'optim_algorithm': DataParamOptim.ADAM,\n",
    "    'optim_options': dict(\n",
    "        # momentum=.9\n",
    "        betas=(0.9, 0.999)\n",
    "    )\n",
    "})"
   ]
  },
  {
   "cell_type": "code",
   "execution_count": 4,
   "id": "a040f751",
   "metadata": {},
   "outputs": [
    {
     "name": "stdout",
     "output_type": "stream",
     "text": [
      "torch.Size([958, 28, 28])\n"
     ]
    },
    {
     "data": {
      "image/png": "[encoded data removed]",
      "text/plain": [
       "<Figure size 432x288 with 1 Axes>"
      ]
     },
     "metadata": {
      "needs_background": "light"
     },
     "output_type": "display_data"
    },
    {
     "data": {
      "text/plain": [
       "<matplotlib.image.AxesImage at 0x7f86ed0d42e0>"
      ]
     },
     "execution_count": 4,
     "metadata": {},
     "output_type": "execute_result"
    },
    {
     "data": {
      "image/png": "[encoded data removed]",
      "text/plain": [
       "<Figure size 432x288 with 1 Axes>"
      ]
     },
     "metadata": {
      "needs_background": "light"
     },
     "output_type": "display_data"
    }
   ],
   "source": [
    "data = torch.from_numpy(scipy.io.loadmat('../data/mnist-six.mat')['data']).float()\n",
    "segment_untouched = (data>150).long()\n",
    "segment = (data>150).long()\n",
    "segment2 = (data>5).long()\n",
    "\n",
    "\n",
    "image = (data/255 + torch.randn_like(data)*.1).unsqueeze(1)\n",
    "print(data.shape)\n",
    "plt.imshow(image[152,0].cpu())\n",
    "plt.show()\n",
    "plt.imshow(segment2[152].cpu())"
   ]
  },
  {
   "cell_type": "code",
   "execution_count": 5,
   "id": "49440b44",
   "metadata": {},
   "outputs": [],
   "source": [
    "do_flip = torch.rand(800)>0.7#[::2]\n",
    "# do_flip = torch.rand(800)>0.0#[::2]\n",
    "idx_flip = torch.empty(0).long()\n",
    "idx_clean = torch.empty(0).long()\n",
    "for i in range(800):\n",
    "    if(do_flip[i]):\n",
    "        idx_flip = torch.cat((idx_flip,torch.tensor([i])))\n",
    "        segment[i] = torch.roll(segment2[i].transpose(-2,-1),(int(torch.randn(1)*5),int(torch.randn(1)*5)),(0,1))\n",
    "    else:\n",
    "        idx_clean = torch.cat((idx_clean,torch.tensor([i])))"
   ]
  },
  {
   "cell_type": "code",
   "execution_count": 6,
   "id": "cdf0a978",
   "metadata": {},
   "outputs": [
    {
     "data": {
      "image/png": "[encoded data removed]",
      "text/plain": [
       "<Figure size 432x288 with 1 Axes>"
      ]
     },
     "metadata": {
      "needs_background": "light"
     },
     "output_type": "display_data"
    },
    {
     "name": "stdout",
     "output_type": "stream",
     "text": [
      "tensor([0, 1])\n"
     ]
    },
    {
     "data": {
      "image/png": "[encoded data removed]",
      "text/plain": [
       "<Figure size 432x288 with 1 Axes>"
      ]
     },
     "metadata": {
      "needs_background": "light"
     },
     "output_type": "display_data"
    },
    {
     "data": {
      "image/png": "[encoded data removed]",
      "text/plain": [
       "<Figure size 432x288 with 1 Axes>"
      ]
     },
     "metadata": {
      "needs_background": "light"
     },
     "output_type": "display_data"
    }
   ],
   "source": [
    "plt.imshow(segment[idx_flip[0]].cpu())\n",
    "plt.show()\n",
    "print(segment[0].unique())\n",
    "\n",
    "\n",
    "x_or_intersect = torch.logical_xor(segment, segment_untouched)\n",
    "or_intersect = torch.logical_or(segment, segment_untouched)\n",
    "plt.imshow(x_or_intersect[152].cpu())\n",
    "plt.show()\n",
    "plt.imshow(or_intersect[152].cpu())\n",
    "plt.show()"
   ]
  },
  {
   "cell_type": "code",
   "execution_count": 7,
   "id": "cb0cd1a4",
   "metadata": {},
   "outputs": [
    {
     "name": "stdout",
     "output_type": "stream",
     "text": [
      "0\n",
      "50\n",
      "100\n",
      "150\n",
      "200\n",
      "250\n",
      "300\n",
      "350\n",
      "400\n",
      "450\n"
     ]
    }
   ],
   "source": [
    "net = nn.Sequential(nn.Conv2d(1,32,3,padding=1),nn.BatchNorm2d(32),nn.ReLU(),\\\n",
    "                   nn.Conv2d(32,32,3,padding=1),nn.BatchNorm2d(32),nn.ReLU(),\\\n",
    "                   nn.Conv2d(32,32,3,padding=1),nn.BatchNorm2d(32),nn.ReLU(),\\\n",
    "                   nn.Conv2d(32,2,3,padding=1))\n",
    "\n",
    "\n",
    "embedding = nn.Embedding(800, 1, sparse=True)\n",
    "embedding\n",
    "\n",
    "# torch.nn.init.constant_(embedding.weight, 1.)\n",
    "\n",
    "run_loss_mattias = torch.zeros(500)\n",
    "run_cc_mattias = torch.zeros(500)\n",
    "\n",
    "net = net.cuda()\n",
    "embedding = embedding.cuda()\n",
    "image = image.cuda()\n",
    "segment = segment.cuda()\n",
    "run_loss_mattias = run_loss_mattias.cuda()\n",
    "run_cc_mattias = run_cc_mattias.cuda()\n",
    "do_flip = do_flip.cuda()\n",
    "\n",
    "dices = torch.zeros(500)\n",
    "dices = dices.cuda()\n",
    "\n",
    "\n",
    "optimizer = torch.optim.Adam(net.parameters(), lr=0.0001, betas=(0.9, 0.999), eps=1e-08)\n",
    "optimizer_data = torch.optim.SparseAdam(embedding.parameters(), lr=0.1, betas=(0.9, 0.999), eps=1e-08)\n",
    "\n",
    "for i in range(500):\n",
    "    if i % 50 == 0:\n",
    "        print(i)\n",
    "    idx = torch.randperm(800)[:64]\n",
    "    idx = idx.cuda()\n",
    "    optimizer.zero_grad()\n",
    "    optimizer_data.zero_grad()\n",
    "\n",
    "    input = image[idx]\n",
    "    output = net(input)\n",
    "\n",
    "    loss_mattias = nn.CrossEntropyLoss(reduction='none')(output,segment[idx]).mean(-1).mean(-1)\n",
    "    \n",
    "    # print(loss)\n",
    "    weight = torch.sigmoid(embedding(idx)).squeeze()\n",
    "    weight = weight/weight.mean()\n",
    "    \n",
    "    (loss_mattias*weight).sum().backward()\n",
    "    optimizer.step()\n",
    "    optimizer_data.step()\n",
    "\n",
    "    with torch.inference_mode():\n",
    "        val_img, val_seg = image[800:], segment[800:]\n",
    "        val_logits_for_score = net(val_img)\n",
    "        # Calculate dice score\n",
    "\n",
    "        run_cc_mattias[i] = np.corrcoef(torch.sigmoid(embedding.weight.detach()).cpu().squeeze().numpy(),do_flip.float().cpu().numpy())[0,1]\n",
    "        run_loss_mattias[i] = (loss_mattias*(1-do_flip[idx].float())).mean().item()\n",
    "        # Calculate dice score\n",
    "        b_dice = dice2d(\n",
    "            torch.nn.functional.one_hot(val_logits_for_score.argmax(1).long(), 2),\n",
    "            torch.nn.functional.one_hot(val_seg, 2), # Calculate dice score with original segmentation (no disturbance)\n",
    "            one_hot_torch_style=True\n",
    "        )\n",
    "\n",
    "        dices[i] = b_dice.mean()\n",
    "\n"
   ]
  },
  {
   "cell_type": "code",
   "execution_count": 8,
   "id": "9251b240",
   "metadata": {},
   "outputs": [],
   "source": [
    "# # Setup data parameter manager\n",
    "# CLASSES = ['background', 'six']\n",
    "# dpm = DataParameterManager(instance_keys=range(800), class_keys=CLASSES, config=config, device='cuda')\n",
    "\n",
    "# net2 = nn.Sequential(nn.Conv2d(1,32,3,padding=1),nn.BatchNorm2d(32),nn.ReLU(),\\\n",
    "#                    nn.Conv2d(32,32,3,padding=1),nn.BatchNorm2d(32),nn.ReLU(),\\\n",
    "#                    nn.Conv2d(32,32,3,padding=1),nn.BatchNorm2d(32),nn.ReLU(),\\\n",
    "#                    nn.Conv2d(32,2,3,padding=1))\n",
    "\n",
    "# optimizer2 = torch.optim.Adam(net2.parameters(), lr=0.0001, betas=(0.9, 0.999), eps=1e-08)\n",
    "\n",
    "# run_loss2 = torch.zeros(500)\n",
    "# run_cc2 = torch.zeros(500)\n",
    "\n",
    "# image = image.cuda()\n",
    "# segment = segment.cuda()\n",
    "# net2 = net2.cuda()\n",
    "# run_loss2 = run_loss2.cuda()\n",
    "# run_cc2 = run_cc2.cuda()\n",
    "# do_flip = do_flip.cuda()\n",
    "\n",
    "# for i in range(500):\n",
    "#     if i % 50 == 0:\n",
    "#         print(i)\n",
    "#     idx = torch.randperm(800)[:64]\n",
    "#     idx = idx.cuda()\n",
    "\n",
    "#     optimizer2.zero_grad()\n",
    "\n",
    "#     # Alt impl\n",
    "#     _input = image[idx]\n",
    "#     logits2 = net2(_input)\n",
    "#     logits2 = logits2.permute(0,2,3,1)\n",
    "#     _, loss = dpm.do_basic_train_step(\n",
    "#         nn.BCEWithLogitsLoss(), \n",
    "#         logits2, \n",
    "#         torch.nn.functional.one_hot(segment[idx].long()), \n",
    "#         optimizer2, \n",
    "#         inst_keys=idx.tolist(),\n",
    "#         scaler=None)\n",
    "\n",
    "#     run_cc2[i] = torch.tensor(np.corrcoef(torch.sigmoid(dpm.get_parameter_tensor(inst_keys=range(800))).detach().cpu().numpy(), do_flip.float().cpu().numpy()))[0,1]\n",
    "#     run_loss2[i] = (loss*(1-do_flip[idx].float())).mean().item()"
   ]
  },
  {
   "cell_type": "code",
   "execution_count": 9,
   "id": "88aebddd",
   "metadata": {},
   "outputs": [
    {
     "name": "stdout",
     "output_type": "stream",
     "text": [
      "0\n",
      "50\n",
      "100\n",
      "150\n",
      "200\n",
      "250\n",
      "300\n",
      "350\n",
      "400\n",
      "450\n"
     ]
    }
   ],
   "source": [
    "import torch.cuda.amp as amp\n",
    "\n",
    "net3 = nn.Sequential(nn.Conv2d(1,32,3,padding=1),nn.BatchNorm2d(32),nn.ReLU(),\\\n",
    "                   nn.Conv2d(32,32,3,padding=1),nn.BatchNorm2d(32),nn.ReLU(),\\\n",
    "                   nn.Conv2d(32,32,3,padding=1),nn.BatchNorm2d(32),nn.ReLU(),\\\n",
    "                   nn.Conv2d(32,2,3,padding=1))\n",
    "\n",
    "\n",
    "embedding3 = nn.Embedding(800, 1, sparse=True)\n",
    "# torch.nn.init.constant_(embedding3.weight, +1.)\n",
    "# torch.nn.init.normal_(embedding3.weight, mean=1., std=0.01)\n",
    "# embedding3.weight = torch.rand_like(embedding3.weight)*1e-4 +1.\n",
    "\n",
    "run_loss_mattias3 = torch.zeros(500)\n",
    "run_cc_mattias3 = torch.zeros(500)\n",
    "\n",
    "net3 = net3.cuda()\n",
    "embedding3 = embedding3.cuda()\n",
    "image = image.cuda()\n",
    "segment = segment.cuda()\n",
    "run_loss_mattias3 = run_loss_mattias3.cuda()\n",
    "run_cc_mattias3 = run_cc_mattias3.cuda()\n",
    "do_flip = do_flip.cuda()\n",
    "\n",
    "\n",
    "optimizer3 = torch.optim.Adam(net3.parameters(), lr=0.0001, betas=(0.9, 0.999), eps=1e-08)\n",
    "optimizer_data3 = torch.optim.SparseAdam(embedding3.parameters(), lr=0.1, betas=(0.9, 0.999), eps=1e-08)\n",
    "scaler = amp.GradScaler()\n",
    "\n",
    "\n",
    "for i in range(500):\n",
    "    if i % 50 == 0:\n",
    "        print(i)\n",
    "    idx = torch.randperm(800)[:64]\n",
    "    idx = idx.cuda()\n",
    "    optimizer3.zero_grad()\n",
    "    optimizer_data3.zero_grad()\n",
    "\n",
    "    input = image[idx]\n",
    "    output = net3(input)\n",
    "\n",
    "    # Var 0\n",
    "    # loss_mattias = nn.CrossEntropyLoss(reduction='none')(output,segment[idx]).mean((-1,-2))\n",
    "    # weight = torch.sigmoid(embedding3(idx)).squeeze()\n",
    "    # weight = weight/weight.mean()\n",
    "    # dp_loss = loss_mattias*weight\n",
    "    # dp_loss.sum().backward()\n",
    "\n",
    "    # Var 1 working!\n",
    "    # weight = embedding3(idx).squeeze()\n",
    "    # dp_logits = output*weight.exp().view(-1,1,1,1)\n",
    "    # loss_mattias = nn.CrossEntropyLoss(reduction='sum')(\n",
    "    #     dp_logits,\n",
    "    #     segment[idx]\n",
    "    # )\n",
    "    # dp_loss = loss_mattias\n",
    "    # dp_loss.sum().backward()\n",
    "\n",
    "    # Var 1.5\n",
    "    # weight = embedding3(idx).squeeze()\n",
    "    # dp_logits = output/torch.sigmoid(weight).view(-1,1,1,1)\n",
    "    # loss_mattias = nn.CrossEntropyLoss(reduction='sum')(\n",
    "    #     dp_logits,\n",
    "    #     segment[idx]\n",
    "    # )\n",
    "    # dp_loss = loss_mattias\n",
    "    # dp_loss.sum().backward()\n",
    "\n",
    "    # Var 2, with autocast - setting embedding vector to 0 yields best performance\n",
    "    with amp.autocast(enabled=True):\n",
    "        loss = nn.CrossEntropyLoss(reduction='none')(output,segment[idx]).mean((-1,-2))\n",
    "        weight = embedding3(idx)\n",
    "\n",
    "        weight = torch.sigmoid(weight).squeeze()\n",
    "        dp_loss = (loss*weight/weight.mean()).sum()\n",
    "\n",
    "    scaler.scale(dp_loss).backward()\n",
    "    scaler.step(optimizer3)        \n",
    "    scaler.step(optimizer_data3)\n",
    "    scaler.update()\n",
    "    \n",
    "    run_cc_mattias3[i] = np.corrcoef(torch.sigmoid(embedding3.weight.detach()).cpu().squeeze().numpy(),do_flip.float().cpu().numpy())[0,1]\n",
    "    run_loss_mattias3[i] = (loss*(1-do_flip[idx].float())).mean().item()\n"
   ]
  },
  {
   "cell_type": "markdown",
   "id": "efcd201c",
   "metadata": {},
   "source": [
    "# Gridded data parameters"
   ]
  },
  {
   "cell_type": "code",
   "execution_count": 216,
   "id": "6c126746",
   "metadata": {},
   "outputs": [
    {
     "name": "stdout",
     "output_type": "stream",
     "text": [
      "0\n"
     ]
    },
    {
     "name": "stderr",
     "output_type": "stream",
     "text": [
      "/share/data_supergrover1/weihsbach/shared_data/tmp/curriculum_deeplab/.venv/lib/python3.9/site-packages/numpy/lib/function_base.py:2691: RuntimeWarning: invalid value encountered in true_divide\n",
      "  c /= stddev[:, None]\n",
      "/share/data_supergrover1/weihsbach/shared_data/tmp/curriculum_deeplab/.venv/lib/python3.9/site-packages/numpy/lib/function_base.py:2692: RuntimeWarning: invalid value encountered in true_divide\n",
      "  c /= stddev[None, :]\n"
     ]
    },
    {
     "name": "stdout",
     "output_type": "stream",
     "text": [
      "50\n",
      "100\n",
      "150\n",
      "200\n",
      "250\n",
      "300\n",
      "350\n",
      "400\n",
      "450\n"
     ]
    }
   ],
   "source": [
    "import torch.cuda.amp as amp\n",
    "CLASS_CONTROL = 1\n",
    "\n",
    "net4 = nn.Sequential(nn.Conv2d(1,32,3,padding=1),nn.BatchNorm2d(32),nn.ReLU(),\\\n",
    "                   nn.Conv2d(32,32,3,padding=1),nn.BatchNorm2d(32),nn.ReLU(),\\\n",
    "                   nn.Conv2d(32,32,3,padding=1),nn.BatchNorm2d(32),nn.ReLU(),\\\n",
    "                   nn.Conv2d(32,2,3,padding=1))\n",
    "\n",
    "net4_uncertainty = nn.Sequential(nn.Conv2d(3,32,3,padding=1),nn.BatchNorm2d(32),nn.ReLU(),\\\n",
    "                   nn.Conv2d(32,32,3,padding=1),nn.BatchNorm2d(32),nn.ReLU(),\\\n",
    "                   nn.Conv2d(32,32,3,padding=1),nn.BatchNorm2d(32),nn.ReLU(),\\\n",
    "                   nn.Conv2d(32,CLASS_CONTROL,3,padding=1))\n",
    "\n",
    "# class CombinedNet(nn.Module):\n",
    "\n",
    "#     def __init__(self):\n",
    "#         super().__init__()\n",
    "#         self.backbone_seg = nn.Sequential(\n",
    "#             nn.Conv2d(1,32,3,padding=1),nn.BatchNorm2d(32),nn.ReLU()\n",
    "#         )\n",
    "#         self.backbone_uncertainty = nn.Sequential(\n",
    "#             nn.Conv2d(2,32,3,padding=1),nn.BatchNorm2d(32),nn.ReLU()\n",
    "#         )\n",
    "#         self.trunk = nn.Sequential(\n",
    "#             nn.Conv2d(32,32,3,padding=1),nn.BatchNorm2d(32),nn.ReLU(),\\\n",
    "#             nn.Conv2d(32,32,3,padding=1),nn.BatchNorm2d(32),nn.ReLU(),\\\n",
    "#             nn.Conv2d(32,2,3,padding=1)\n",
    "#         )\n",
    "\n",
    "#     def forward(self, _input, _seg_input=None):\n",
    "#         if _seg_input is not None:\n",
    "#             backboned = self.backbone_uncertainty(\n",
    "#                 torch.cat((_input, _seg_input.unsqueeze(1)), dim=1)\n",
    "#             )\n",
    "#         else:\n",
    "#             backboned = self.backbone_seg(_input)\n",
    "#         return self.trunk(backboned)\n",
    "\n",
    "# net4 = CombinedNet()\n",
    "\n",
    "\n",
    "GRID_SIZE_Y, GRID_SIZE_X = torch.Size((5,5))\n",
    "\n",
    "# embedding4 = nn.Embedding(800, GRID_SIZE_Y*GRID_SIZE_X, sparse=True) # works TODO\n",
    "embedding4 = nn.Embedding(800*GRID_SIZE_Y*GRID_SIZE_X*CLASS_CONTROL, 1, sparse=True)\n",
    "# torch.nn.init.normal_(embedding4.weight, +1., std=0.001)\n",
    "torch.nn.init.constant_(embedding4.weight, +1.)\n",
    "run_loss_mattias4 = torch.zeros(500)\n",
    "run_cc_mattias4 = torch.zeros(500)\n",
    "dices4 = torch.zeros(500)\n",
    "\n",
    "net4 = net4.cuda()\n",
    "net4_uncertainty = net4_uncertainty.cuda()\n",
    "\n",
    "embedding4 = embedding4.cuda()\n",
    "image = image.cuda()\n",
    "segment = segment.cuda()\n",
    "x_or_intersect = x_or_intersect.cuda()\n",
    "or_intersect = or_intersect.cuda()\n",
    "run_loss_mattias4 = run_loss_mattias4.cuda()\n",
    "run_cc_mattias4 = run_cc_mattias4.cuda()\n",
    "do_flip = do_flip.cuda()\n",
    "dices4 = dices4.cuda()\n",
    "\n",
    "optimizer4 = torch.optim.Adam(net4.parameters(), lr=0.0001, betas=(0.9, 0.999), eps=1e-08)\n",
    "optimizer_uncertainty = torch.optim.Adam(net4_uncertainty.parameters(), lr=0.0001, betas=(0.9, 0.999), eps=1e-08)\n",
    "\n",
    "optimizer_data4 = torch.optim.SparseAdam(embedding4.parameters(), lr=0.1, betas=(0.9, 0.999), eps=1e-08)\n",
    "\n",
    "scaler = amp.GradScaler()\n",
    "scaler_uncertainty = amp.GradScaler()\n",
    "\n",
    "# dp_scheduler = torch.optim.lr_scheduler.ExponentialLR(optimizer_data4, gamma=0.99)\n",
    "\n",
    "def map_idxs(idxs, grid_size_y, grid_size_x):\n",
    "    with torch.no_grad():\n",
    "        t_sz = grid_size_y * grid_size_x * CLASS_CONTROL\n",
    "        return ((idxs*t_sz).long().repeat(t_sz).view(t_sz, idxs.numel())+torch.tensor(range(t_sz)).to(idxs).view(t_sz,1)).permute(1,0).reshape(-1)\n",
    "\n",
    "for i in range(500):\n",
    "    if i % 50 == 0:\n",
    "        print(i)\n",
    "    idx = torch.randperm(800)[:64]\n",
    "    idx = idx.cuda()\n",
    "    optimizer4.zero_grad()\n",
    "    optimizer_data4.zero_grad()\n",
    "    optimizer_uncertainty.zero_grad()\n",
    "   \n",
    "    # Var 4, with autocast - setting embedding vector to 0 yields best performance\n",
    "    with amp.autocast(enabled=True):\n",
    "        # loss = nn.CrossEntropyLoss(reduction='none')(output,segment[idx]).mean((-1,-2)) #works TODO\n",
    "        # loss = nn.CrossEntropyLoss(reduction='none')(output*weight,segment[idx])\n",
    "        # weight = embedding4(idx).reshape(-1, GRID_SIZE_Y, GRID_SIZE_X) #works TODO\n",
    "        # all_idxs = (idx.repeat(4).view(4,64)+torch.tensor(range(4), device='cuda').view(4,1)).permute(1,0).reshape(-1)\n",
    "        all_idxs = map_idxs(idx, GRID_SIZE_Y, GRID_SIZE_X)\n",
    "        weight = embedding4(all_idxs)\n",
    "        weight = weight.reshape(-1, CLASS_CONTROL, GRID_SIZE_Y, GRID_SIZE_X)\n",
    "        # weight = weight.unsqueeze(1)\n",
    "        # Corners need to be aligned\n",
    "\n",
    "        weight = torch.nn.functional.interpolate(weight, size=(segment.shape[-2:]), mode='bilinear', \n",
    "            align_corners=True\n",
    "        )\n",
    "        # weight = torch.sigmoid(weight).sum((-1,-2)) # WORKS TODO\n",
    "        # weight = torch.sigmoid(weight)\n",
    "        # weight = weight/weight.mean((-1,-2)).view(-1,2,1,1)\n",
    "\n",
    "        input = image[idx]\n",
    "        logits = net4(input)\n",
    "        dp_loss = nn.BCEWithLogitsLoss(reduction='mean')(\n",
    "            (logits*weight).permute(0,2,3,1),\n",
    "            torch.nn.functional.one_hot(segment[idx], 2).float()\n",
    "        )\n",
    "\n",
    "        ######\n",
    "        ######\n",
    "\n",
    "        scaler.scale(dp_loss).backward()\n",
    "        scaler.step(optimizer4)\n",
    "        if i > 5:\n",
    "            scaler.step(optimizer_data4)\n",
    "        \n",
    "            uncertainty_map_out = net4_uncertainty(torch.cat((input, logits.detach()), dim=1))\n",
    "            uncertainty_loss = nn.MSELoss()(uncertainty_map_out, weight.detach())\n",
    "            scaler_uncertainty.scale(uncertainty_loss).backward()\n",
    "            \n",
    "            scaler_uncertainty.step(optimizer_uncertainty)  \n",
    "            scaler_uncertainty.update()\n",
    "            \n",
    "        scaler.update()     \n",
    "\n",
    "    \n",
    "    # run_cc_mattias4[i] = np.corrcoef(torch.sigmoid(embedding4.weight.sum(dim=-1)).cpu().squeeze().numpy(),do_flip.float().cpu().numpy())[0,1] # works TODO\n",
    "    with torch.inference_mode():\n",
    "        val_img, val_seg = image[800:], segment[800:]\n",
    "        val_logits = net4(val_img)\n",
    "        uncertainty_map_val = net4_uncertainty(torch.cat((val_img, val_logits), dim=1))\n",
    "        # Calculate dice score\n",
    "        val_logits_for_score = val_logits * uncertainty_map_val\n",
    "        b_dice = dice2d(\n",
    "            torch.nn.functional.one_hot(val_logits_for_score.argmax(1).long(), 2),\n",
    "            torch.nn.functional.one_hot(val_seg, 2), # Calculate dice score with original segmentation (no disturbance)\n",
    "            one_hot_torch_style=True\n",
    "        )\n",
    "\n",
    "        dices4[i] = b_dice.mean()\n",
    "\n",
    "        all_idxs = torch.tensor(list(range(800))).cuda()\n",
    "        emb_map_idxs = map_idxs(all_idxs, GRID_SIZE_Y, GRID_SIZE_X)\n",
    "\n",
    "        masks = or_intersect[all_idxs].float()\n",
    "        masked_weights = torch.nn.functional.interpolate(\n",
    "            embedding4(emb_map_idxs).view(-1,CLASS_CONTROL,GRID_SIZE_Y, GRID_SIZE_X), \n",
    "            size=(masks.shape[-2:]), mode='bilinear', align_corners=True\n",
    "        ) * masks.unsqueeze(1)\n",
    "        masked_weights[masked_weights==0] = float('nan')\n",
    "        \n",
    "        # masked_weights = torch.nn.functional.interpolate(or_intersect[:800].unsqueeze(1).float(), size=(GRID_SIZE_Y, GRID_SIZE_Y)).squeeze(1) * embedding4(emb_map_idxs).view(-1,GRID_SIZE_Y, GRID_SIZE_X)\n",
    "        # masked_weights = masked_weights.view(-1, GRID_SIZE_Y*GRID_SIZE_X)\n",
    "        run_cc_mattias4[i] = np.corrcoef(\n",
    "            np.nanmean(masked_weights[:,CLASS_CONTROL-1].detach().cpu(), axis=(-2,-1)),\n",
    "            do_flip.float().cpu().numpy())[0,1]\n",
    "        # run_loss_mattias4[i] = (loss.mean((-2,-1))*(1-do_flip[idx].float())).mean().item()\n",
    "        run_loss_mattias4[i] = (dp_loss.mean()*(1-do_flip[idx].float())).mean().item()\n"
   ]
  },
  {
   "cell_type": "code",
   "execution_count": 217,
   "id": "800632d8",
   "metadata": {},
   "outputs": [
    {
     "name": "stdout",
     "output_type": "stream",
     "text": [
      "weights\n"
     ]
    },
    {
     "data": {
      "image/png": "[encoded data removed]",
      "text/plain": [
       "<Figure size 432x288 with 1 Axes>"
      ]
     },
     "metadata": {
      "needs_background": "light"
     },
     "output_type": "display_data"
    },
    {
     "name": "stdout",
     "output_type": "stream",
     "text": [
      "dices\n"
     ]
    },
    {
     "data": {
      "image/png": "[encoded data removed]",
      "text/plain": [
       "<Figure size 432x288 with 1 Axes>"
      ]
     },
     "metadata": {
      "needs_background": "light"
     },
     "output_type": "display_data"
    },
    {
     "name": "stdout",
     "output_type": "stream",
     "text": [
      "0.9811594486236572\n",
      "0.9807796478271484\n",
      "loss\n"
     ]
    },
    {
     "data": {
      "image/png": "[encoded data removed]",
      "text/plain": [
       "<Figure size 432x288 with 1 Axes>"
      ]
     },
     "metadata": {
      "needs_background": "light"
     },
     "output_type": "display_data"
    },
    {
     "name": "stdout",
     "output_type": "stream",
     "text": [
      "tensor(0.0244)\n",
      "tensor(0.0216)\n",
      "tensor(0.0685)\n",
      "cc\n"
     ]
    },
    {
     "data": {
      "image/png": "[encoded data removed]",
      "text/plain": [
       "<Figure size 432x288 with 1 Axes>"
      ]
     },
     "metadata": {
      "needs_background": "light"
     },
     "output_type": "display_data"
    },
    {
     "name": "stdout",
     "output_type": "stream",
     "text": [
      "corr_coeff\n",
      "-0.998228907585144\n",
      "-0.9997878670692444\n",
      "-0.995470404624939\n",
      "weight_std\n",
      "5.087744235992432\n",
      "5.1351165771484375\n",
      "2.084639310836792\n",
      "params\n",
      "19586\n",
      "20000\n"
     ]
    }
   ],
   "source": [
    "print(\"weights\")\n",
    "plt.plot(embedding.weight.detach().cpu())\n",
    "plt.plot(embedding3.weight.detach().cpu())\n",
    "# plt.plot(dpm.get_parameter_tensor(inst_keys='all').detach().cpu().numpy())\n",
    "plt.plot(embedding4.weight.detach().mean(-1).cpu())\n",
    "\n",
    "plt.show()\n",
    "\n",
    "print(\"dices\")\n",
    "plt.plot(dices.cpu())\n",
    "plt.plot([])\n",
    "plt.plot(dices4.cpu())\n",
    "plt.show()\n",
    "print(dices.cpu()[-1].item())\n",
    "print(dices4.cpu()[-1].item())\n",
    "\n",
    "print(\"loss\")\n",
    "plt.plot(run_loss_mattias.cpu())\n",
    "# plt.plot(run_loss2.cpu())\n",
    "plt.plot(run_loss_mattias3.cpu())\n",
    "plt.plot(run_loss_mattias4.cpu())\n",
    "plt.show()\n",
    "\n",
    "print(run_loss_mattias.cpu()[-1])\n",
    "# print(run_loss2.cpu()[-1])\n",
    "print(run_loss_mattias3.cpu()[-1])\n",
    "print(run_loss_mattias4.cpu()[-1])\n",
    "\n",
    "print(\"cc\")\n",
    "plt.plot(run_cc_mattias.cpu())\n",
    "# plt.plot(run_cc2.cpu())\n",
    "plt.plot(run_cc_mattias3.cpu())\n",
    "plt.plot(run_cc_mattias4.cpu())\n",
    "plt.show()\n",
    "\n",
    "print(\"corr_coeff\")\n",
    "print(run_cc_mattias.cpu()[-1].item())\n",
    "# print(run_cc2.cpu()[-1].item())\n",
    "print(run_cc_mattias3.cpu()[-1].item())\n",
    "print(run_cc_mattias4.cpu()[-1].item())\n",
    "\n",
    "print(\"weight_std\")\n",
    "print(embedding.weight.detach().cpu().std().item())\n",
    "# print(dpm.get_parameter_tensor(inst_keys='all').detach().cpu().std().item())\n",
    "print(embedding3.weight.detach().cpu().std().item())\n",
    "print(embedding4.weight.detach().cpu().std().item())\n",
    "\n",
    "print(\"params\")\n",
    "print(sum(p.numel() for p in net4.parameters()))\n",
    "print(sum(p.numel() for p in embedding4.parameters()))"
   ]
  },
  {
   "cell_type": "code",
   "execution_count": 205,
   "id": "cb5068c3",
   "metadata": {},
   "outputs": [
    {
     "data": {
      "image/png": "[encoded data removed]",
      "text/plain": [
       "<Figure size 432x288 with 1 Axes>"
      ]
     },
     "metadata": {
      "needs_background": "light"
     },
     "output_type": "display_data"
    }
   ],
   "source": [
    "plt.hist(embedding(idx_flip.cuda()).cpu().detach().numpy(), bins=90, histtype='step');\n",
    "plt.hist(embedding(idx_clean.cuda()).cpu().detach().numpy(), bins=90, histtype='step');"
   ]
  },
  {
   "cell_type": "code",
   "execution_count": 218,
   "id": "9eff5bd5",
   "metadata": {},
   "outputs": [
    {
     "data": {
      "image/png": "[encoded data removed]",
      "text/plain": [
       "<Figure size 432x288 with 1 Axes>"
      ]
     },
     "metadata": {
      "needs_background": "light"
     },
     "output_type": "display_data"
    }
   ],
   "source": [
    "# plt.hist(embedding3(idx_flip.cuda()).cpu().detach().numpy(), bins=90, histtype='step');\n",
    "# plt.hist(embedding3(idx_clean.cuda()).cpu().detach().numpy(), bins=90, histtype='step');\n",
    "\n",
    "idx_map_flip = map_idxs(idx_flip.cuda(), GRID_SIZE_Y, GRID_SIZE_X)\n",
    "idx_map_clean = map_idxs(idx_clean.cuda(), GRID_SIZE_Y, GRID_SIZE_X)\n",
    "\n",
    "# mask_flip_idxs = torch.nn.functional.interpolate(x_or_intersect[idx_flip].unsqueeze(1).float(), size=(GRID_SIZE_Y, GRID_SIZE_Y)).squeeze(1).bool()\n",
    "# masked_flipped_weights =  embedding4(idx_map_flip).view(-1,GRID_SIZE_Y, GRID_SIZE_X)[mask_flip_idxs]\n",
    "\n",
    "# mask_flip_idxs = torch.nn.functional.interpolate(or_intersect[idx_flip].unsqueeze(1).float(), size=(GRID_SIZE_Y, GRID_SIZE_Y), mode='nearest').squeeze(1).float() # TODO best so far\n",
    "# masked_flipped_weights =  embedding4(idx_map_flip).view(-1,GRID_SIZE_Y, GRID_SIZE_X) * mask_flip_idxs\n",
    "\n",
    "\n",
    "mask_clean_idxs = or_intersect[idx_clean].float()\n",
    "masked_clean_weights =  torch.nn.functional.interpolate(\n",
    "    embedding4(idx_map_clean).view(-1,CLASS_CONTROL,GRID_SIZE_Y, GRID_SIZE_X), size=(mask_clean_idxs.shape[-2:]), mode='bilinear', align_corners=True)* mask_clean_idxs.unsqueeze(1)\n",
    "masked_clean_weights[masked_clean_weights==0.] = float('nan')\n",
    "\n",
    "mask_flip_idxs = or_intersect[idx_flip].float()\n",
    "masked_flipped_weights =  torch.nn.functional.interpolate(\n",
    "    embedding4(idx_map_flip).view(-1,CLASS_CONTROL,GRID_SIZE_Y, GRID_SIZE_X), size=(mask_flip_idxs.shape[-2:]), mode='bilinear', align_corners=True) * mask_flip_idxs.unsqueeze(1)\n",
    "masked_flipped_weights[masked_flipped_weights==0.] = float('nan')\n",
    "    \n",
    "plt.hist(np.nanmean(masked_flipped_weights[:,CLASS_CONTROL-1].detach().cpu(), axis=(-2,-1)), bins=90, histtype='step');  \n",
    "plt.hist(np.nanmean(masked_clean_weights[:,CLASS_CONTROL-1].detach().cpu(), axis=(-2,-1)), bins=90, histtype='step');      \n",
    "# plt.hist((masked_flipped_weights).cpu().detach().numpy(), bins=90, histtype='step');"
   ]
  },
  {
   "cell_type": "code",
   "execution_count": 219,
   "id": "b89e982c",
   "metadata": {},
   "outputs": [
    {
     "name": "stdout",
     "output_type": "stream",
     "text": [
      "Sample\n"
     ]
    },
    {
     "data": {
      "image/png": "[encoded data removed]",
      "text/plain": [
       "<Figure size 432x288 with 1 Axes>"
      ]
     },
     "metadata": {
      "needs_background": "light"
     },
     "output_type": "display_data"
    },
    {
     "name": "stdout",
     "output_type": "stream",
     "text": [
      "Ground-truth\n"
     ]
    },
    {
     "data": {
      "image/png": "[encoded data removed]",
      "text/plain": [
       "<Figure size 432x288 with 1 Axes>"
      ]
     },
     "metadata": {
      "needs_background": "light"
     },
     "output_type": "display_data"
    },
    {
     "data": {
      "image/png": "[encoded data removed]",
      "text/plain": [
       "<Figure size 432x288 with 1 Axes>"
      ]
     },
     "metadata": {
      "needs_background": "light"
     },
     "output_type": "display_data"
    },
    {
     "name": "stdout",
     "output_type": "stream",
     "text": [
      "Show weightmaps\n",
      "True map\n",
      "-1.9563895463943481 7.983436107635498 2.829319477081299\n"
     ]
    },
    {
     "data": {
      "image/png": "[encoded data removed]",
      "text/plain": [
       "<Figure size 432x288 with 2 Axes>"
      ]
     },
     "metadata": {
      "needs_background": "light"
     },
     "output_type": "display_data"
    },
    {
     "name": "stdout",
     "output_type": "stream",
     "text": [
      "Predicted map\n"
     ]
    },
    {
     "data": {
      "image/png": "[encoded data removed]",
      "text/plain": [
       "<Figure size 432x288 with 2 Axes>"
      ]
     },
     "metadata": {
      "needs_background": "light"
     },
     "output_type": "display_data"
    },
    {
     "name": "stdout",
     "output_type": "stream",
     "text": [
      "Orig logits\n"
     ]
    },
    {
     "data": {
      "image/png": "[encoded data removed]",
      "text/plain": [
       "<Figure size 432x288 with 2 Axes>"
      ]
     },
     "metadata": {
      "needs_background": "light"
     },
     "output_type": "display_data"
    },
    {
     "name": "stdout",
     "output_type": "stream",
     "text": [
      "Weighted logits\n"
     ]
    },
    {
     "data": {
      "image/png": "[encoded data removed]",
      "text/plain": [
       "<Figure size 432x288 with 2 Axes>"
      ]
     },
     "metadata": {
      "needs_background": "light"
     },
     "output_type": "display_data"
    }
   ],
   "source": [
    "SHOW_IDX = 1\n",
    "CLASS_NUM = 0\n",
    "\n",
    "print(\"Sample\")\n",
    "plt.imshow(image[idx_flip[SHOW_IDX]].squeeze(0).cpu())\n",
    "plt.show()\n",
    "\n",
    "print(\"Ground-truth\")\n",
    "plt.imshow(segment[idx_flip[SHOW_IDX]].cpu())\n",
    "plt.show()\n",
    "plt.imshow(pred[0,CLASS_NUM].squeeze(0).cpu())\n",
    "plt.show()\n",
    "\n",
    "print('Show weightmaps')\n",
    "print('True map')\n",
    "show_weight = embedding4.weight[map_idxs(idx_flip[SHOW_IDX], GRID_SIZE_Y, GRID_SIZE_X)].view(-1,GRID_SIZE_Y,GRID_SIZE_X).unsqueeze(0)\n",
    "show_weight = show_weight.view(-1, CLASS_CONTROL, GRID_SIZE_Y, GRID_SIZE_X)\n",
    "disturbed_min, disturbed_max, disturbed_mean = show_weight.min().item(), show_weight.max().item(), show_weight.mean().item()\n",
    "print(disturbed_min, disturbed_max, disturbed_mean)\n",
    "plt.imshow(show_weight[0,CLASS_NUM].detach().cpu(), cmap='gray')\n",
    "plt.colorbar()\n",
    "plt.show()\n",
    "\n",
    "print('Predicted map')\n",
    "with amp.autocast(enabled=True):\n",
    "    with torch.inference_mode():\n",
    "        show_logits = net4(image[idx_flip[SHOW_IDX]].unsqueeze(0))\n",
    "        uncertainty_map_inf = net4_uncertainty(torch.cat((image[idx_flip[SHOW_IDX]].unsqueeze(0), show_logits), dim=1))\n",
    "\n",
    "plt.imshow((uncertainty_map_inf[0,CLASS_NUM].detach().view(28,28)).cpu().numpy(), cmap='gray')\n",
    "plt.colorbar()\n",
    "plt.show()\n",
    "\n",
    "print('Orig logits')\n",
    "plt.imshow((show_logits[:,1].detach().view(28,28)).cpu().numpy(), cmap='gray')\n",
    "plt.colorbar()\n",
    "plt.show()\n",
    "print('Weighted logits')\n",
    "plt.imshow(((uncertainty_map_inf[0,CLASS_NUM]*show_logits)[:,1].detach().view(28,28)).cpu().numpy(), cmap='gray')\n",
    "plt.colorbar()\n",
    "plt.show()"
   ]
  },
  {
   "cell_type": "code",
   "execution_count": 208,
   "id": "d867e88d",
   "metadata": {},
   "outputs": [
    {
     "name": "stdout",
     "output_type": "stream",
     "text": [
      "Sample\n"
     ]
    },
    {
     "data": {
      "image/png": "[encoded data removed]",
      "text/plain": [
       "<Figure size 432x288 with 1 Axes>"
      ]
     },
     "metadata": {
      "needs_background": "light"
     },
     "output_type": "display_data"
    },
    {
     "name": "stdout",
     "output_type": "stream",
     "text": [
      "Ground-truth\n"
     ]
    },
    {
     "data": {
      "image/png": "[encoded data removed]",
      "text/plain": [
       "<Figure size 432x288 with 1 Axes>"
      ]
     },
     "metadata": {
      "needs_background": "light"
     },
     "output_type": "display_data"
    },
    {
     "name": "stdout",
     "output_type": "stream",
     "text": [
      "Show weightmaps\n",
      "True map\n",
      "2.3511219024658203 6.444005966186523 4.754271984100342\n"
     ]
    },
    {
     "data": {
      "image/png": "[encoded data removed]",
      "text/plain": [
       "<Figure size 432x288 with 2 Axes>"
      ]
     },
     "metadata": {
      "needs_background": "light"
     },
     "output_type": "display_data"
    },
    {
     "name": "stdout",
     "output_type": "stream",
     "text": [
      "Predicted map\n"
     ]
    },
    {
     "data": {
      "image/png": "[encoded data removed]",
      "text/plain": [
       "<Figure size 432x288 with 2 Axes>"
      ]
     },
     "metadata": {
      "needs_background": "light"
     },
     "output_type": "display_data"
    },
    {
     "name": "stdout",
     "output_type": "stream",
     "text": [
      "Orig logits\n"
     ]
    },
    {
     "data": {
      "image/png": "[encoded data removed]",
      "text/plain": [
       "<Figure size 432x288 with 2 Axes>"
      ]
     },
     "metadata": {
      "needs_background": "light"
     },
     "output_type": "display_data"
    },
    {
     "name": "stdout",
     "output_type": "stream",
     "text": [
      "Weighted logits\n"
     ]
    },
    {
     "data": {
      "image/png": "[encoded data removed]",
      "text/plain": [
       "<Figure size 432x288 with 2 Axes>"
      ]
     },
     "metadata": {
      "needs_background": "light"
     },
     "output_type": "display_data"
    }
   ],
   "source": [
    "SHOW_IDX = 1\n",
    "CLASS_NUM = 0\n",
    "\n",
    "print(\"Sample\")\n",
    "plt.imshow(image[idx_clean[SHOW_IDX]].squeeze(0).cpu())\n",
    "plt.show()\n",
    "\n",
    "print(\"Ground-truth\")\n",
    "plt.imshow(segment[idx_clean[SHOW_IDX]].cpu())\n",
    "plt.show()\n",
    "\n",
    "print('Show weightmaps')\n",
    "print('True map')\n",
    "show_weight = embedding4.weight[map_idxs(idx_clean[SHOW_IDX], GRID_SIZE_Y, GRID_SIZE_X)].view(-1,GRID_SIZE_Y,GRID_SIZE_X).unsqueeze(0)\n",
    "show_weight = show_weight.view(-1, CLASS_CONTROL, GRID_SIZE_Y, GRID_SIZE_X)\n",
    "disturbed_min, disturbed_max, disturbed_mean = show_weight.min().item(), show_weight.max().item(), show_weight.mean().item()\n",
    "print(disturbed_min, disturbed_max, disturbed_mean)\n",
    "plt.imshow(show_weight[0,CLASS_NUM].detach().cpu(), cmap='gray')\n",
    "plt.colorbar()\n",
    "plt.show()\n",
    "\n",
    "print('Predicted map')\n",
    "with amp.autocast(enabled=True):\n",
    "    with torch.inference_mode():\n",
    "        show_logits = net4(image[idx_clean[SHOW_IDX]].unsqueeze(0))\n",
    "        uncertainty_map_inf = net4_uncertainty(torch.cat((image[idx_clean[SHOW_IDX]].unsqueeze(0), show_logits), dim=1))\n",
    "\n",
    "plt.imshow((uncertainty_map_inf[0,CLASS_NUM].detach().view(28,28)).cpu().numpy(), cmap='gray')\n",
    "plt.colorbar()\n",
    "plt.show()\n",
    "\n",
    "print('Orig logits')\n",
    "plt.imshow((show_logits[:,1].detach().view(28,28)).cpu().numpy(), cmap='gray')\n",
    "plt.colorbar()\n",
    "plt.show()\n",
    "print('Weighted logits')\n",
    "plt.imshow(((uncertainty_map_inf[0,CLASS_NUM]*show_logits)[:,1].detach().view(28,28)).cpu().numpy(), cmap='gray')\n",
    "plt.colorbar()\n",
    "plt.show()"
   ]
  },
  {
   "cell_type": "code",
   "execution_count": null,
   "id": "dc660c98",
   "metadata": {},
   "outputs": [],
   "source": []
  }
 ],
 "metadata": {
  "kernelspec": {
   "display_name": "Python 3",
   "language": "python",
   "name": "python3"
  },
  "language_info": {
   "codemirror_mode": {
    "name": "ipython",
    "version": 3
   },
   "file_extension": ".py",
   "mimetype": "text/x-python",
   "name": "python",
   "nbconvert_exporter": "python",
   "pygments_lexer": "ipython3",
   "version": "3.9.5"
  }
 },
 "nbformat": 4,
 "nbformat_minor": 5
}
