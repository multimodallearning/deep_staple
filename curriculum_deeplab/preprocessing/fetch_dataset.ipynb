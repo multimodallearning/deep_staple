{
 "cells": [
  {
   "cell_type": "code",
   "execution_count": 7,
   "metadata": {},
   "outputs": [],
   "source": [
    "from pathlib import Path\n",
    "import tarfile\n",
    "import os\n",
    "import subprocess\n",
    "import shlex\n",
    "import json\n",
    "\n",
    "from curriculum_deeplab.utils.common_utils import get_script_dir\n",
    "THIS_SCRIPT_DIR = get_script_dir()"
   ]
  },
  {
   "cell_type": "code",
   "execution_count": 8,
   "metadata": {},
   "outputs": [],
   "source": [
    "# Constants and preparation\n",
    "TCIA_DATA_DIR = Path(THIS_SCRIPT_DIR, \"tmp/tcia_data\")\n",
    "TCIA_DATA_CONVENIENT_DIR = Path(THIS_SCRIPT_DIR, \"tmp/tcia_data_convenient\")\n",
    "TCIA_DATA_BASIC_PREPROCESSING_DIR = Path(THIS_SCRIPT_DIR, \"tmp/tcia_data_preprocessed\")\n",
    "CROSSMODA_DATALOADER_DIR = Path(THIS_SCRIPT_DIR, \"tmp/crossmoda_data_dataloader\")\n",
    "\n",
    "tcia_file_path = TCIA_DATA_DIR.joinpath(\"VS.tcia\")\n",
    "tcia_contours_path = TCIA_DATA_DIR.joinpath(\"Vestibular-Schwannoma-SEG_contours_Mar_2021.zip\")\n",
    "# tcia_reg_matrices_path = TCIA_DATA_DIR.joinpath(\"Vestibular-Schwannoma-SEG_matrices_Mar_2021.zip\")\n",
    "TCIA_DATA_DIR.mkdir(parents=True, exist_ok=True)\n",
    "TCIA_DATA_CONVENIENT_DIR.mkdir(parents=True, exist_ok=True)\n",
    "TCIA_DATA_BASIC_PREPROCESSING_DIR.mkdir(parents=True, exist_ok=True)\n",
    "CROSSMODA_DATALOADER_DIR.mkdir(parents=True, exist_ok=True)\n",
    "\n",
    "URL_TCIA = '\"https://wiki.cancerimagingarchive.net/download/attachments/70229053/Vestibular-Schwannoma-SEG%20Feb%202021%20manifest.tcia?api=v2\"'\n",
    "URL_TCIA_CONTOURS = '\"https://wiki.cancerimagingarchive.net/download/attachments/70229053/Vestibular-Schwannoma-SEG%20contours%20Mar%202021.zip?api=v2\"'\n",
    "# URL_TCIA_REGISTION_MATRICES = '\"https://wiki.cancerimagingarchive.net/download/attachments/70229053/Vestibular-Schwannoma-SEG_matrices%20Mar%202021.zip?api=v2\"'"
   ]
  },
  {
   "cell_type": "markdown",
   "metadata": {},
   "source": [
    "### Download TCIA data"
   ]
  },
  {
   "cell_type": "code",
   "execution_count": 50,
   "metadata": {},
   "outputs": [
    {
     "name": "stdout",
     "output_type": "stream",
     "text": [
      "  % Total    % Received % Xferd  Average Speed   Time    Time     Time  Current\n",
      "                                 Dload  Upload   Total   Spent    Left  Speed\n",
      "100 65.5M  100 65.5M    0     0   778k      0  0:01:26  0:01:26 --:--:--  850k   296k      0  0:03:45  0:00:06  0:03:39  324k   0  0:01:36  0:00:32  0:01:04  834k  0  0:01:27  0:01:06  0:00:21  847k\n"
     ]
    }
   ],
   "source": [
    "# Download and extract nbia data retriever\n",
    "URL_NBIA_DEB = \"https://cbiit-download.nci.nih.gov/nbia/releases/ForTCIA/NBIADataRetriever_4.2/nbia-data-retriever-4.2.deb\"\n",
    "nbia_deb_path = Path(THIS_SCRIPT_DIR, \"tools/nbia/nbia-data-retriever-4.2.deb\")\n",
    "\n",
    "nbia_deb_path.parent.mkdir(parents=True, exist_ok=True)\n",
    "!curl {URL_NBIA_DEB} -o {nbia_deb_path}\n",
    "\n",
    "os.chdir(nbia_deb_path.parent)\n",
    "!ar -x {nbia_deb_path}\n",
    "!tar -xf data.tar.xz\n",
    "os.chdir(THIS_SCRIPT_DIR)\n",
    "nbia_bin_path = Path(nbia_deb_path.parent, \"opt/nbia-data-retriever/nbia-data-retriever\")"
   ]
  },
  {
   "cell_type": "code",
   "execution_count": 55,
   "metadata": {},
   "outputs": [],
   "source": [
    "# Download TCIA manifest file \n",
    "# https://wiki.cancerimagingarchive.net/pages/viewpage.action?pageId=70229053\n",
    "tcia_file_path.parent.mkdir(exist_ok=True, parents=True)\n",
    "!curl -s {URL_TCIA} -o {tcia_file_path}\n",
    "!curl -s {URL_TCIA_CONTOURS} -o {tcia_contours_path}\n",
    "# !curl {URL_TCIA_REGISTION_MATRICES} -o {tcia_reg_matrices_path}"
   ]
  },
  {
   "cell_type": "code",
   "execution_count": 36,
   "metadata": {},
   "outputs": [
    {
     "name": "stdout",
     "output_type": "stream",
     "text": [
      "zsh:1: exec format error: /Users/christianweihsbach/code/curriculum_deeplab/curriculum_deeplab/preprocessing/tmp/nbia/opt/nbia-data-retriever/nbia-data-retriever\n"
     ]
    }
   ],
   "source": [
    "# Download TCIA VS data \n",
    "# https://wiki.cancerimagingarchive.net/pages/viewpage.action?pageId=70229053\n",
    "\n",
    "!{nbia_bin_path} --cli {tcia_file_path} -d {TCIA_DATA_DIR} -u {input(\"username\")} -p {input(\"password\")}"
   ]
  },
  {
   "cell_type": "code",
   "execution_count": 56,
   "metadata": {},
   "outputs": [],
   "source": [
    "import zipfile\n",
    "\n",
    "# Extract contours\n",
    "with zipfile.ZipFile(tcia_contours_path, 'r') as contours_file:\n",
    "    contours_file.extractall(tcia_contours_path.parent)\n",
    "\n",
    "# Merge data and contours directories\n",
    "contours_trailing_path = str(Path(tcia_contours_path.parent, \"contours\")) + \"/\"\n",
    "tcia_data_trailing_path = str(Path(TCIA_DATA_DIR)) + \"/\"\n",
    "!rsync -a {contours_trailing_path} {tcia_data_trailing_path}\n"
   ]
  },
  {
   "cell_type": "code",
   "execution_count": 37,
   "metadata": {},
   "outputs": [],
   "source": [
    "# # https://wiki.cancerimagingarchive.net/display/Public/NBIA+Advanced+REST+API+Guide\n",
    "# import re\n",
    "# import zipfile\n",
    "# series_pattern = re.compile(r\"^[0-9\\.]+$\")\n",
    "# def get_list_of_series(tcia_manifest_file_path):\n",
    "#     series_ids = []\n",
    "#     with open(tcia_manifest_file_path, 'r') as tcia_manifest_file:\n",
    "#         for line in tcia_manifest_file:\n",
    "#             for match in re.finditer(series_pattern, line.strip()):\n",
    "#                 series_ids.append(match.group())\n",
    "#     return series_ids\n",
    "\n",
    "# def request_token(username, password, client_id, client_secret):\n",
    "#     request_token_address = f\"'username={username}&password={password}&client_id={client_id}&client_secret={client_secret}&grant_type=password'\"\n",
    "    \n",
    "#     query_output = subprocess.check_output(shlex.split(f\"curl -s -d {request_token_address} -X POST -k 'https://services.cancerimagingarchive.net/nbia-api/oauth/token'\"))\n",
    "#     try:\n",
    "#         token = json.loads(query_output)['access_token']\n",
    "#     except (json.JSONDecodeError, KeyError):\n",
    "#         raise ValueError(\"TCIA token could not be fetched. Please check your credentials.\")\n",
    "\n",
    "#     return token\n",
    "\n",
    "# def get_metadata(token, series_id):\n",
    "#     rest_download_address = f\"https://services.cancerimagingarchive.net/nbia-api/services/v1/getSeriesMetaData?SeriesInstanceUID={series_id}\"\n",
    "#     authorization_request = f'\"Authorization:Bearer {token}\"'\n",
    "#     query_output = subprocess.check_output(shlex.split(f\"curl -s -k {rest_download_address}\"))\n",
    "\n",
    "#     try:\n",
    "#         metadata = json.loads(query_output)[0]\n",
    "#     except (json.JSONDecodeError):\n",
    "#         return None\n",
    "\n",
    "#     return metadata\n",
    "#     # !curl -k {rest_download_address} --output {output_path}\n",
    "\n",
    "# def download_restricted_data(token, series_id, output_file_path):\n",
    "#     rest_download_address = f\"https://services.cancerimagingarchive.net/nbia-api/services/v1/getImage?SeriesInstanceUID={series_id}\"\n",
    "#     output_file_path.parent.mkdir(parents=True, exist_ok=True)\n",
    "#     authorization_request = f'\"Authorization:Bearer {token}\"'\n",
    "#     !curl -H {authorization_request} -k {rest_download_address} --output {output_file_path}\n",
    "\n",
    "# # https://wiki.cancerimagingarchive.net/plugins/personalaccesstokens/usertokens.action\n",
    "# all_series_ids = [get_list_of_series(tcia_file_path)[0]]\n",
    "# # all_series_ids = [\"1.3.6.1.4.1.9590.100.1.2.374115997511889073021386151921807063992\"]\n",
    "\n",
    "# token = request_token(input(\"Enter TCIA username\"), input(\"Enter TCIA password\"), input(\"Enter TCIA client_id from helpdesk\"), input(\"Enter TCIA client_secret from helpdesk\"))\n",
    "\n",
    "# for sid in all_series_ids:\n",
    "#     metadata = get_metadata(token, sid)\n",
    "#     if not metadata: continue\n",
    "\n",
    "#     zip_data_path = tcia_data_path.joinpath(metadata['Subject ID'] + \".zip\")\n",
    "#     try:\n",
    "#         with zipfile.ZipFile(zip_data_path) as zf:\n",
    "#             pass\n",
    "#     except (FileNotFoundError, zipfile.BadZipfile):\n",
    "#         download_restricted_data(token, sid, zip_data_path)\n",
    "    "
   ]
  },
  {
   "cell_type": "markdown",
   "metadata": {},
   "source": [
    "### Preprocessing step 1: Run VS_Seg convenient filenames preprocessing"
   ]
  },
  {
   "cell_type": "code",
   "execution_count": 57,
   "metadata": {},
   "outputs": [
    {
     "name": "stdout",
     "output_type": "stream",
     "text": [
      "['/Users/christianweihsbach/code/curriculum_deeplab/curriculum_deeplab/preprocessing/tmp/tcia_data/VS.tcia', '/Users/christianweihsbach/code/curriculum_deeplab/curriculum_deeplab/preprocessing/tmp/tcia_data/Vestibular-Schwannoma-SEG_contours_Mar_2021.zip', '/Users/christianweihsbach/code/curriculum_deeplab/curriculum_deeplab/preprocessing/tmp/tcia_data/contours', '/Users/christianweihsbach/code/curriculum_deeplab/curriculum_deeplab/preprocessing/tmp/tcia_data/vs_gk_1_t1', '/Users/christianweihsbach/code/curriculum_deeplab/curriculum_deeplab/preprocessing/tmp/tcia_data/vs_gk_1_t2', '/Users/christianweihsbach/code/curriculum_deeplab/curriculum_deeplab/preprocessing/tmp/tcia_data/vs_gk_2_t1', '/Users/christianweihsbach/code/curriculum_deeplab/curriculum_deeplab/preprocessing/tmp/tcia_data/vs_gk_2_t2', '/Users/christianweihsbach/code/curriculum_deeplab/curriculum_deeplab/preprocessing/tmp/tcia_data/vs_gk_3_t1', '/Users/christianweihsbach/code/curriculum_deeplab/curriculum_deeplab/preprocessing/tmp/tcia_data/vs_gk_3_t2', '/Users/christianweihsbach/code/curriculum_deeplab/curriculum_deeplab/preprocessing/tmp/tcia_data/vs_gk_4_t1', '/Users/christianweihsbach/code/curriculum_deeplab/curriculum_deeplab/preprocessing/tmp/tcia_data/vs_gk_4_t2', '/Users/christianweihsbach/code/curriculum_deeplab/curriculum_deeplab/preprocessing/tmp/tcia_data/vs_gk_5_t1', '/Users/christianweihsbach/code/curriculum_deeplab/curriculum_deeplab/preprocessing/tmp/tcia_data/vs_gk_5_t2', '/Users/christianweihsbach/code/curriculum_deeplab/curriculum_deeplab/preprocessing/tmp/tcia_data/vs_gk_6_t1', '/Users/christianweihsbach/code/curriculum_deeplab/curriculum_deeplab/preprocessing/tmp/tcia_data/vs_gk_6_t2', '/Users/christianweihsbach/code/curriculum_deeplab/curriculum_deeplab/preprocessing/tmp/tcia_data/vs_gk_7_t1', '/Users/christianweihsbach/code/curriculum_deeplab/curriculum_deeplab/preprocessing/tmp/tcia_data/vs_gk_7_t2', '/Users/christianweihsbach/code/curriculum_deeplab/curriculum_deeplab/preprocessing/tmp/tcia_data/vs_gk_8_t1', '/Users/christianweihsbach/code/curriculum_deeplab/curriculum_deeplab/preprocessing/tmp/tcia_data/vs_gk_8_t2', '/Users/christianweihsbach/code/curriculum_deeplab/curriculum_deeplab/preprocessing/tmp/tcia_data/vs_gk_9_t1', '/Users/christianweihsbach/code/curriculum_deeplab/curriculum_deeplab/preprocessing/tmp/tcia_data/vs_gk_9_t2', '/Users/christianweihsbach/code/curriculum_deeplab/curriculum_deeplab/preprocessing/tmp/tcia_data/vs_gk_10_t1', '/Users/christianweihsbach/code/curriculum_deeplab/curriculum_deeplab/preprocessing/tmp/tcia_data/vs_gk_10_t2', '/Users/christianweihsbach/code/curriculum_deeplab/curriculum_deeplab/preprocessing/tmp/tcia_data/vs_gk_11_t1', '/Users/christianweihsbach/code/curriculum_deeplab/curriculum_deeplab/preprocessing/tmp/tcia_data/vs_gk_11_t2', '/Users/christianweihsbach/code/curriculum_deeplab/curriculum_deeplab/preprocessing/tmp/tcia_data/vs_gk_12_t1', '/Users/christianweihsbach/code/curriculum_deeplab/curriculum_deeplab/preprocessing/tmp/tcia_data/vs_gk_12_t2', '/Users/christianweihsbach/code/curriculum_deeplab/curriculum_deeplab/preprocessing/tmp/tcia_data/vs_gk_13_t1', '/Users/christianweihsbach/code/curriculum_deeplab/curriculum_deeplab/preprocessing/tmp/tcia_data/vs_gk_13_t2', '/Users/christianweihsbach/code/curriculum_deeplab/curriculum_deeplab/preprocessing/tmp/tcia_data/vs_gk_14_t1', '/Users/christianweihsbach/code/curriculum_deeplab/curriculum_deeplab/preprocessing/tmp/tcia_data/vs_gk_14_t2', '/Users/christianweihsbach/code/curriculum_deeplab/curriculum_deeplab/preprocessing/tmp/tcia_data/vs_gk_15_t1', '/Users/christianweihsbach/code/curriculum_deeplab/curriculum_deeplab/preprocessing/tmp/tcia_data/vs_gk_15_t2', '/Users/christianweihsbach/code/curriculum_deeplab/curriculum_deeplab/preprocessing/tmp/tcia_data/vs_gk_16_t1', '/Users/christianweihsbach/code/curriculum_deeplab/curriculum_deeplab/preprocessing/tmp/tcia_data/vs_gk_16_t2', '/Users/christianweihsbach/code/curriculum_deeplab/curriculum_deeplab/preprocessing/tmp/tcia_data/vs_gk_17_t1', '/Users/christianweihsbach/code/curriculum_deeplab/curriculum_deeplab/preprocessing/tmp/tcia_data/vs_gk_17_t2', '/Users/christianweihsbach/code/curriculum_deeplab/curriculum_deeplab/preprocessing/tmp/tcia_data/vs_gk_18_t1', '/Users/christianweihsbach/code/curriculum_deeplab/curriculum_deeplab/preprocessing/tmp/tcia_data/vs_gk_18_t2', '/Users/christianweihsbach/code/curriculum_deeplab/curriculum_deeplab/preprocessing/tmp/tcia_data/vs_gk_19_t1', '/Users/christianweihsbach/code/curriculum_deeplab/curriculum_deeplab/preprocessing/tmp/tcia_data/vs_gk_19_t2', '/Users/christianweihsbach/code/curriculum_deeplab/curriculum_deeplab/preprocessing/tmp/tcia_data/vs_gk_20_t1', '/Users/christianweihsbach/code/curriculum_deeplab/curriculum_deeplab/preprocessing/tmp/tcia_data/vs_gk_20_t2', '/Users/christianweihsbach/code/curriculum_deeplab/curriculum_deeplab/preprocessing/tmp/tcia_data/vs_gk_21_t1', '/Users/christianweihsbach/code/curriculum_deeplab/curriculum_deeplab/preprocessing/tmp/tcia_data/vs_gk_21_t2', '/Users/christianweihsbach/code/curriculum_deeplab/curriculum_deeplab/preprocessing/tmp/tcia_data/vs_gk_22_t1', '/Users/christianweihsbach/code/curriculum_deeplab/curriculum_deeplab/preprocessing/tmp/tcia_data/vs_gk_22_t2', '/Users/christianweihsbach/code/curriculum_deeplab/curriculum_deeplab/preprocessing/tmp/tcia_data/vs_gk_23_t1', '/Users/christianweihsbach/code/curriculum_deeplab/curriculum_deeplab/preprocessing/tmp/tcia_data/vs_gk_23_t2', '/Users/christianweihsbach/code/curriculum_deeplab/curriculum_deeplab/preprocessing/tmp/tcia_data/vs_gk_24_t1', '/Users/christianweihsbach/code/curriculum_deeplab/curriculum_deeplab/preprocessing/tmp/tcia_data/vs_gk_24_t2', '/Users/christianweihsbach/code/curriculum_deeplab/curriculum_deeplab/preprocessing/tmp/tcia_data/vs_gk_25_t1', '/Users/christianweihsbach/code/curriculum_deeplab/curriculum_deeplab/preprocessing/tmp/tcia_data/vs_gk_25_t2', '/Users/christianweihsbach/code/curriculum_deeplab/curriculum_deeplab/preprocessing/tmp/tcia_data/vs_gk_26_t1', '/Users/christianweihsbach/code/curriculum_deeplab/curriculum_deeplab/preprocessing/tmp/tcia_data/vs_gk_26_t2', '/Users/christianweihsbach/code/curriculum_deeplab/curriculum_deeplab/preprocessing/tmp/tcia_data/vs_gk_27_t1', '/Users/christianweihsbach/code/curriculum_deeplab/curriculum_deeplab/preprocessing/tmp/tcia_data/vs_gk_27_t2', '/Users/christianweihsbach/code/curriculum_deeplab/curriculum_deeplab/preprocessing/tmp/tcia_data/vs_gk_28_t1', '/Users/christianweihsbach/code/curriculum_deeplab/curriculum_deeplab/preprocessing/tmp/tcia_data/vs_gk_28_t2', '/Users/christianweihsbach/code/curriculum_deeplab/curriculum_deeplab/preprocessing/tmp/tcia_data/vs_gk_29_t1', '/Users/christianweihsbach/code/curriculum_deeplab/curriculum_deeplab/preprocessing/tmp/tcia_data/vs_gk_29_t2', '/Users/christianweihsbach/code/curriculum_deeplab/curriculum_deeplab/preprocessing/tmp/tcia_data/vs_gk_30_t1', '/Users/christianweihsbach/code/curriculum_deeplab/curriculum_deeplab/preprocessing/tmp/tcia_data/vs_gk_30_t2', '/Users/christianweihsbach/code/curriculum_deeplab/curriculum_deeplab/preprocessing/tmp/tcia_data/vs_gk_31_t1', '/Users/christianweihsbach/code/curriculum_deeplab/curriculum_deeplab/preprocessing/tmp/tcia_data/vs_gk_31_t2', '/Users/christianweihsbach/code/curriculum_deeplab/curriculum_deeplab/preprocessing/tmp/tcia_data/vs_gk_32_t1', '/Users/christianweihsbach/code/curriculum_deeplab/curriculum_deeplab/preprocessing/tmp/tcia_data/vs_gk_32_t2', '/Users/christianweihsbach/code/curriculum_deeplab/curriculum_deeplab/preprocessing/tmp/tcia_data/vs_gk_33_t1', '/Users/christianweihsbach/code/curriculum_deeplab/curriculum_deeplab/preprocessing/tmp/tcia_data/vs_gk_33_t2', '/Users/christianweihsbach/code/curriculum_deeplab/curriculum_deeplab/preprocessing/tmp/tcia_data/vs_gk_34_t1', '/Users/christianweihsbach/code/curriculum_deeplab/curriculum_deeplab/preprocessing/tmp/tcia_data/vs_gk_34_t2', '/Users/christianweihsbach/code/curriculum_deeplab/curriculum_deeplab/preprocessing/tmp/tcia_data/vs_gk_35_t1', '/Users/christianweihsbach/code/curriculum_deeplab/curriculum_deeplab/preprocessing/tmp/tcia_data/vs_gk_35_t2', '/Users/christianweihsbach/code/curriculum_deeplab/curriculum_deeplab/preprocessing/tmp/tcia_data/vs_gk_36_t1', '/Users/christianweihsbach/code/curriculum_deeplab/curriculum_deeplab/preprocessing/tmp/tcia_data/vs_gk_36_t2', '/Users/christianweihsbach/code/curriculum_deeplab/curriculum_deeplab/preprocessing/tmp/tcia_data/vs_gk_37_t1', '/Users/christianweihsbach/code/curriculum_deeplab/curriculum_deeplab/preprocessing/tmp/tcia_data/vs_gk_37_t2', '/Users/christianweihsbach/code/curriculum_deeplab/curriculum_deeplab/preprocessing/tmp/tcia_data/vs_gk_38_t1', '/Users/christianweihsbach/code/curriculum_deeplab/curriculum_deeplab/preprocessing/tmp/tcia_data/vs_gk_38_t2', '/Users/christianweihsbach/code/curriculum_deeplab/curriculum_deeplab/preprocessing/tmp/tcia_data/vs_gk_40_t1', '/Users/christianweihsbach/code/curriculum_deeplab/curriculum_deeplab/preprocessing/tmp/tcia_data/vs_gk_40_t2', '/Users/christianweihsbach/code/curriculum_deeplab/curriculum_deeplab/preprocessing/tmp/tcia_data/vs_gk_41_t1', '/Users/christianweihsbach/code/curriculum_deeplab/curriculum_deeplab/preprocessing/tmp/tcia_data/vs_gk_41_t2', '/Users/christianweihsbach/code/curriculum_deeplab/curriculum_deeplab/preprocessing/tmp/tcia_data/vs_gk_42_t1', '/Users/christianweihsbach/code/curriculum_deeplab/curriculum_deeplab/preprocessing/tmp/tcia_data/vs_gk_42_t2', '/Users/christianweihsbach/code/curriculum_deeplab/curriculum_deeplab/preprocessing/tmp/tcia_data/vs_gk_43_t1', '/Users/christianweihsbach/code/curriculum_deeplab/curriculum_deeplab/preprocessing/tmp/tcia_data/vs_gk_43_t2', '/Users/christianweihsbach/code/curriculum_deeplab/curriculum_deeplab/preprocessing/tmp/tcia_data/vs_gk_44_t1', '/Users/christianweihsbach/code/curriculum_deeplab/curriculum_deeplab/preprocessing/tmp/tcia_data/vs_gk_44_t2', '/Users/christianweihsbach/code/curriculum_deeplab/curriculum_deeplab/preprocessing/tmp/tcia_data/vs_gk_45_t1', '/Users/christianweihsbach/code/curriculum_deeplab/curriculum_deeplab/preprocessing/tmp/tcia_data/vs_gk_45_t2', '/Users/christianweihsbach/code/curriculum_deeplab/curriculum_deeplab/preprocessing/tmp/tcia_data/vs_gk_46_t1', '/Users/christianweihsbach/code/curriculum_deeplab/curriculum_deeplab/preprocessing/tmp/tcia_data/vs_gk_46_t2', '/Users/christianweihsbach/code/curriculum_deeplab/curriculum_deeplab/preprocessing/tmp/tcia_data/vs_gk_47_t1', '/Users/christianweihsbach/code/curriculum_deeplab/curriculum_deeplab/preprocessing/tmp/tcia_data/vs_gk_47_t2', '/Users/christianweihsbach/code/curriculum_deeplab/curriculum_deeplab/preprocessing/tmp/tcia_data/vs_gk_48_t1', '/Users/christianweihsbach/code/curriculum_deeplab/curriculum_deeplab/preprocessing/tmp/tcia_data/vs_gk_48_t2', '/Users/christianweihsbach/code/curriculum_deeplab/curriculum_deeplab/preprocessing/tmp/tcia_data/vs_gk_49_t1', '/Users/christianweihsbach/code/curriculum_deeplab/curriculum_deeplab/preprocessing/tmp/tcia_data/vs_gk_49_t2', '/Users/christianweihsbach/code/curriculum_deeplab/curriculum_deeplab/preprocessing/tmp/tcia_data/vs_gk_50_t1', '/Users/christianweihsbach/code/curriculum_deeplab/curriculum_deeplab/preprocessing/tmp/tcia_data/vs_gk_50_t2', '/Users/christianweihsbach/code/curriculum_deeplab/curriculum_deeplab/preprocessing/tmp/tcia_data/vs_gk_51_t1', '/Users/christianweihsbach/code/curriculum_deeplab/curriculum_deeplab/preprocessing/tmp/tcia_data/vs_gk_51_t2', '/Users/christianweihsbach/code/curriculum_deeplab/curriculum_deeplab/preprocessing/tmp/tcia_data/vs_gk_52_t1', '/Users/christianweihsbach/code/curriculum_deeplab/curriculum_deeplab/preprocessing/tmp/tcia_data/vs_gk_52_t2', '/Users/christianweihsbach/code/curriculum_deeplab/curriculum_deeplab/preprocessing/tmp/tcia_data/vs_gk_53_t1', '/Users/christianweihsbach/code/curriculum_deeplab/curriculum_deeplab/preprocessing/tmp/tcia_data/vs_gk_53_t2', '/Users/christianweihsbach/code/curriculum_deeplab/curriculum_deeplab/preprocessing/tmp/tcia_data/vs_gk_54_t1', '/Users/christianweihsbach/code/curriculum_deeplab/curriculum_deeplab/preprocessing/tmp/tcia_data/vs_gk_54_t2', '/Users/christianweihsbach/code/curriculum_deeplab/curriculum_deeplab/preprocessing/tmp/tcia_data/vs_gk_55_t1', '/Users/christianweihsbach/code/curriculum_deeplab/curriculum_deeplab/preprocessing/tmp/tcia_data/vs_gk_55_t2', '/Users/christianweihsbach/code/curriculum_deeplab/curriculum_deeplab/preprocessing/tmp/tcia_data/vs_gk_56_t1', '/Users/christianweihsbach/code/curriculum_deeplab/curriculum_deeplab/preprocessing/tmp/tcia_data/vs_gk_56_t2', '/Users/christianweihsbach/code/curriculum_deeplab/curriculum_deeplab/preprocessing/tmp/tcia_data/vs_gk_57_t1', '/Users/christianweihsbach/code/curriculum_deeplab/curriculum_deeplab/preprocessing/tmp/tcia_data/vs_gk_57_t2', '/Users/christianweihsbach/code/curriculum_deeplab/curriculum_deeplab/preprocessing/tmp/tcia_data/vs_gk_58_t1', '/Users/christianweihsbach/code/curriculum_deeplab/curriculum_deeplab/preprocessing/tmp/tcia_data/vs_gk_58_t2', '/Users/christianweihsbach/code/curriculum_deeplab/curriculum_deeplab/preprocessing/tmp/tcia_data/vs_gk_59_t1', '/Users/christianweihsbach/code/curriculum_deeplab/curriculum_deeplab/preprocessing/tmp/tcia_data/vs_gk_59_t2', '/Users/christianweihsbach/code/curriculum_deeplab/curriculum_deeplab/preprocessing/tmp/tcia_data/vs_gk_60_t1', '/Users/christianweihsbach/code/curriculum_deeplab/curriculum_deeplab/preprocessing/tmp/tcia_data/vs_gk_60_t2', '/Users/christianweihsbach/code/curriculum_deeplab/curriculum_deeplab/preprocessing/tmp/tcia_data/vs_gk_61_t1', '/Users/christianweihsbach/code/curriculum_deeplab/curriculum_deeplab/preprocessing/tmp/tcia_data/vs_gk_61_t2', '/Users/christianweihsbach/code/curriculum_deeplab/curriculum_deeplab/preprocessing/tmp/tcia_data/vs_gk_62_t1', '/Users/christianweihsbach/code/curriculum_deeplab/curriculum_deeplab/preprocessing/tmp/tcia_data/vs_gk_62_t2', '/Users/christianweihsbach/code/curriculum_deeplab/curriculum_deeplab/preprocessing/tmp/tcia_data/vs_gk_63_t1', '/Users/christianweihsbach/code/curriculum_deeplab/curriculum_deeplab/preprocessing/tmp/tcia_data/vs_gk_63_t2', '/Users/christianweihsbach/code/curriculum_deeplab/curriculum_deeplab/preprocessing/tmp/tcia_data/vs_gk_64_t1', '/Users/christianweihsbach/code/curriculum_deeplab/curriculum_deeplab/preprocessing/tmp/tcia_data/vs_gk_64_t2', '/Users/christianweihsbach/code/curriculum_deeplab/curriculum_deeplab/preprocessing/tmp/tcia_data/vs_gk_65_t1', '/Users/christianweihsbach/code/curriculum_deeplab/curriculum_deeplab/preprocessing/tmp/tcia_data/vs_gk_65_t2', '/Users/christianweihsbach/code/curriculum_deeplab/curriculum_deeplab/preprocessing/tmp/tcia_data/vs_gk_66_t1', '/Users/christianweihsbach/code/curriculum_deeplab/curriculum_deeplab/preprocessing/tmp/tcia_data/vs_gk_66_t2', '/Users/christianweihsbach/code/curriculum_deeplab/curriculum_deeplab/preprocessing/tmp/tcia_data/vs_gk_67_t1', '/Users/christianweihsbach/code/curriculum_deeplab/curriculum_deeplab/preprocessing/tmp/tcia_data/vs_gk_67_t2', '/Users/christianweihsbach/code/curriculum_deeplab/curriculum_deeplab/preprocessing/tmp/tcia_data/vs_gk_68_t1', '/Users/christianweihsbach/code/curriculum_deeplab/curriculum_deeplab/preprocessing/tmp/tcia_data/vs_gk_68_t2', '/Users/christianweihsbach/code/curriculum_deeplab/curriculum_deeplab/preprocessing/tmp/tcia_data/vs_gk_69_t1', '/Users/christianweihsbach/code/curriculum_deeplab/curriculum_deeplab/preprocessing/tmp/tcia_data/vs_gk_69_t2', '/Users/christianweihsbach/code/curriculum_deeplab/curriculum_deeplab/preprocessing/tmp/tcia_data/vs_gk_70_t1', '/Users/christianweihsbach/code/curriculum_deeplab/curriculum_deeplab/preprocessing/tmp/tcia_data/vs_gk_70_t2', '/Users/christianweihsbach/code/curriculum_deeplab/curriculum_deeplab/preprocessing/tmp/tcia_data/vs_gk_71_t1', '/Users/christianweihsbach/code/curriculum_deeplab/curriculum_deeplab/preprocessing/tmp/tcia_data/vs_gk_71_t2', '/Users/christianweihsbach/code/curriculum_deeplab/curriculum_deeplab/preprocessing/tmp/tcia_data/vs_gk_72_t1', '/Users/christianweihsbach/code/curriculum_deeplab/curriculum_deeplab/preprocessing/tmp/tcia_data/vs_gk_72_t2', '/Users/christianweihsbach/code/curriculum_deeplab/curriculum_deeplab/preprocessing/tmp/tcia_data/vs_gk_73_t1', '/Users/christianweihsbach/code/curriculum_deeplab/curriculum_deeplab/preprocessing/tmp/tcia_data/vs_gk_73_t2', '/Users/christianweihsbach/code/curriculum_deeplab/curriculum_deeplab/preprocessing/tmp/tcia_data/vs_gk_74_t1', '/Users/christianweihsbach/code/curriculum_deeplab/curriculum_deeplab/preprocessing/tmp/tcia_data/vs_gk_74_t2', '/Users/christianweihsbach/code/curriculum_deeplab/curriculum_deeplab/preprocessing/tmp/tcia_data/vs_gk_75_t1', '/Users/christianweihsbach/code/curriculum_deeplab/curriculum_deeplab/preprocessing/tmp/tcia_data/vs_gk_75_t2', '/Users/christianweihsbach/code/curriculum_deeplab/curriculum_deeplab/preprocessing/tmp/tcia_data/vs_gk_76_t1', '/Users/christianweihsbach/code/curriculum_deeplab/curriculum_deeplab/preprocessing/tmp/tcia_data/vs_gk_76_t2', '/Users/christianweihsbach/code/curriculum_deeplab/curriculum_deeplab/preprocessing/tmp/tcia_data/vs_gk_77_t1', '/Users/christianweihsbach/code/curriculum_deeplab/curriculum_deeplab/preprocessing/tmp/tcia_data/vs_gk_77_t2', '/Users/christianweihsbach/code/curriculum_deeplab/curriculum_deeplab/preprocessing/tmp/tcia_data/vs_gk_78_t1', '/Users/christianweihsbach/code/curriculum_deeplab/curriculum_deeplab/preprocessing/tmp/tcia_data/vs_gk_78_t2', '/Users/christianweihsbach/code/curriculum_deeplab/curriculum_deeplab/preprocessing/tmp/tcia_data/vs_gk_79_t1', '/Users/christianweihsbach/code/curriculum_deeplab/curriculum_deeplab/preprocessing/tmp/tcia_data/vs_gk_79_t2', '/Users/christianweihsbach/code/curriculum_deeplab/curriculum_deeplab/preprocessing/tmp/tcia_data/vs_gk_80_t1', '/Users/christianweihsbach/code/curriculum_deeplab/curriculum_deeplab/preprocessing/tmp/tcia_data/vs_gk_80_t2', '/Users/christianweihsbach/code/curriculum_deeplab/curriculum_deeplab/preprocessing/tmp/tcia_data/vs_gk_81_t1', '/Users/christianweihsbach/code/curriculum_deeplab/curriculum_deeplab/preprocessing/tmp/tcia_data/vs_gk_81_t2', '/Users/christianweihsbach/code/curriculum_deeplab/curriculum_deeplab/preprocessing/tmp/tcia_data/vs_gk_82_t1', '/Users/christianweihsbach/code/curriculum_deeplab/curriculum_deeplab/preprocessing/tmp/tcia_data/vs_gk_82_t2', '/Users/christianweihsbach/code/curriculum_deeplab/curriculum_deeplab/preprocessing/tmp/tcia_data/vs_gk_83_t1', '/Users/christianweihsbach/code/curriculum_deeplab/curriculum_deeplab/preprocessing/tmp/tcia_data/vs_gk_83_t2', '/Users/christianweihsbach/code/curriculum_deeplab/curriculum_deeplab/preprocessing/tmp/tcia_data/vs_gk_84_t1', '/Users/christianweihsbach/code/curriculum_deeplab/curriculum_deeplab/preprocessing/tmp/tcia_data/vs_gk_84_t2', '/Users/christianweihsbach/code/curriculum_deeplab/curriculum_deeplab/preprocessing/tmp/tcia_data/vs_gk_85_t1', '/Users/christianweihsbach/code/curriculum_deeplab/curriculum_deeplab/preprocessing/tmp/tcia_data/vs_gk_85_t2', '/Users/christianweihsbach/code/curriculum_deeplab/curriculum_deeplab/preprocessing/tmp/tcia_data/vs_gk_86_t1', '/Users/christianweihsbach/code/curriculum_deeplab/curriculum_deeplab/preprocessing/tmp/tcia_data/vs_gk_86_t2', '/Users/christianweihsbach/code/curriculum_deeplab/curriculum_deeplab/preprocessing/tmp/tcia_data/vs_gk_87_t1', '/Users/christianweihsbach/code/curriculum_deeplab/curriculum_deeplab/preprocessing/tmp/tcia_data/vs_gk_87_t2', '/Users/christianweihsbach/code/curriculum_deeplab/curriculum_deeplab/preprocessing/tmp/tcia_data/vs_gk_88_t1', '/Users/christianweihsbach/code/curriculum_deeplab/curriculum_deeplab/preprocessing/tmp/tcia_data/vs_gk_88_t2', '/Users/christianweihsbach/code/curriculum_deeplab/curriculum_deeplab/preprocessing/tmp/tcia_data/vs_gk_89_t1', '/Users/christianweihsbach/code/curriculum_deeplab/curriculum_deeplab/preprocessing/tmp/tcia_data/vs_gk_89_t2', '/Users/christianweihsbach/code/curriculum_deeplab/curriculum_deeplab/preprocessing/tmp/tcia_data/vs_gk_90_t1', '/Users/christianweihsbach/code/curriculum_deeplab/curriculum_deeplab/preprocessing/tmp/tcia_data/vs_gk_90_t2', '/Users/christianweihsbach/code/curriculum_deeplab/curriculum_deeplab/preprocessing/tmp/tcia_data/vs_gk_91_t1', '/Users/christianweihsbach/code/curriculum_deeplab/curriculum_deeplab/preprocessing/tmp/tcia_data/vs_gk_91_t2', '/Users/christianweihsbach/code/curriculum_deeplab/curriculum_deeplab/preprocessing/tmp/tcia_data/vs_gk_92_t1', '/Users/christianweihsbach/code/curriculum_deeplab/curriculum_deeplab/preprocessing/tmp/tcia_data/vs_gk_92_t2', '/Users/christianweihsbach/code/curriculum_deeplab/curriculum_deeplab/preprocessing/tmp/tcia_data/vs_gk_93_t1', '/Users/christianweihsbach/code/curriculum_deeplab/curriculum_deeplab/preprocessing/tmp/tcia_data/vs_gk_93_t2', '/Users/christianweihsbach/code/curriculum_deeplab/curriculum_deeplab/preprocessing/tmp/tcia_data/vs_gk_94_t1', '/Users/christianweihsbach/code/curriculum_deeplab/curriculum_deeplab/preprocessing/tmp/tcia_data/vs_gk_94_t2', '/Users/christianweihsbach/code/curriculum_deeplab/curriculum_deeplab/preprocessing/tmp/tcia_data/vs_gk_95_t1', '/Users/christianweihsbach/code/curriculum_deeplab/curriculum_deeplab/preprocessing/tmp/tcia_data/vs_gk_95_t2', '/Users/christianweihsbach/code/curriculum_deeplab/curriculum_deeplab/preprocessing/tmp/tcia_data/vs_gk_96_t1', '/Users/christianweihsbach/code/curriculum_deeplab/curriculum_deeplab/preprocessing/tmp/tcia_data/vs_gk_96_t2', '/Users/christianweihsbach/code/curriculum_deeplab/curriculum_deeplab/preprocessing/tmp/tcia_data/vs_gk_98_t1', '/Users/christianweihsbach/code/curriculum_deeplab/curriculum_deeplab/preprocessing/tmp/tcia_data/vs_gk_98_t2', '/Users/christianweihsbach/code/curriculum_deeplab/curriculum_deeplab/preprocessing/tmp/tcia_data/vs_gk_99_t1', '/Users/christianweihsbach/code/curriculum_deeplab/curriculum_deeplab/preprocessing/tmp/tcia_data/vs_gk_99_t2', '/Users/christianweihsbach/code/curriculum_deeplab/curriculum_deeplab/preprocessing/tmp/tcia_data/vs_gk_100_t1', '/Users/christianweihsbach/code/curriculum_deeplab/curriculum_deeplab/preprocessing/tmp/tcia_data/vs_gk_100_t2', '/Users/christianweihsbach/code/curriculum_deeplab/curriculum_deeplab/preprocessing/tmp/tcia_data/vs_gk_101_t1', '/Users/christianweihsbach/code/curriculum_deeplab/curriculum_deeplab/preprocessing/tmp/tcia_data/vs_gk_101_t2', '/Users/christianweihsbach/code/curriculum_deeplab/curriculum_deeplab/preprocessing/tmp/tcia_data/vs_gk_102_t1', '/Users/christianweihsbach/code/curriculum_deeplab/curriculum_deeplab/preprocessing/tmp/tcia_data/vs_gk_102_t2', '/Users/christianweihsbach/code/curriculum_deeplab/curriculum_deeplab/preprocessing/tmp/tcia_data/vs_gk_103_t1', '/Users/christianweihsbach/code/curriculum_deeplab/curriculum_deeplab/preprocessing/tmp/tcia_data/vs_gk_103_t2', '/Users/christianweihsbach/code/curriculum_deeplab/curriculum_deeplab/preprocessing/tmp/tcia_data/vs_gk_104_t1', '/Users/christianweihsbach/code/curriculum_deeplab/curriculum_deeplab/preprocessing/tmp/tcia_data/vs_gk_104_t2', '/Users/christianweihsbach/code/curriculum_deeplab/curriculum_deeplab/preprocessing/tmp/tcia_data/vs_gk_105_t1', '/Users/christianweihsbach/code/curriculum_deeplab/curriculum_deeplab/preprocessing/tmp/tcia_data/vs_gk_105_t2', '/Users/christianweihsbach/code/curriculum_deeplab/curriculum_deeplab/preprocessing/tmp/tcia_data/vs_gk_106_t1', '/Users/christianweihsbach/code/curriculum_deeplab/curriculum_deeplab/preprocessing/tmp/tcia_data/vs_gk_106_t2', '/Users/christianweihsbach/code/curriculum_deeplab/curriculum_deeplab/preprocessing/tmp/tcia_data/vs_gk_107_t1', '/Users/christianweihsbach/code/curriculum_deeplab/curriculum_deeplab/preprocessing/tmp/tcia_data/vs_gk_107_t2', '/Users/christianweihsbach/code/curriculum_deeplab/curriculum_deeplab/preprocessing/tmp/tcia_data/vs_gk_108_t1', '/Users/christianweihsbach/code/curriculum_deeplab/curriculum_deeplab/preprocessing/tmp/tcia_data/vs_gk_108_t2', '/Users/christianweihsbach/code/curriculum_deeplab/curriculum_deeplab/preprocessing/tmp/tcia_data/vs_gk_109_t1', '/Users/christianweihsbach/code/curriculum_deeplab/curriculum_deeplab/preprocessing/tmp/tcia_data/vs_gk_109_t2', '/Users/christianweihsbach/code/curriculum_deeplab/curriculum_deeplab/preprocessing/tmp/tcia_data/vs_gk_110_t1', '/Users/christianweihsbach/code/curriculum_deeplab/curriculum_deeplab/preprocessing/tmp/tcia_data/vs_gk_110_t2', '/Users/christianweihsbach/code/curriculum_deeplab/curriculum_deeplab/preprocessing/tmp/tcia_data/vs_gk_111_t1', '/Users/christianweihsbach/code/curriculum_deeplab/curriculum_deeplab/preprocessing/tmp/tcia_data/vs_gk_111_t2', '/Users/christianweihsbach/code/curriculum_deeplab/curriculum_deeplab/preprocessing/tmp/tcia_data/vs_gk_112_t1', '/Users/christianweihsbach/code/curriculum_deeplab/curriculum_deeplab/preprocessing/tmp/tcia_data/vs_gk_112_t2', '/Users/christianweihsbach/code/curriculum_deeplab/curriculum_deeplab/preprocessing/tmp/tcia_data/vs_gk_113_t1', '/Users/christianweihsbach/code/curriculum_deeplab/curriculum_deeplab/preprocessing/tmp/tcia_data/vs_gk_113_t2', '/Users/christianweihsbach/code/curriculum_deeplab/curriculum_deeplab/preprocessing/tmp/tcia_data/vs_gk_114_t1', '/Users/christianweihsbach/code/curriculum_deeplab/curriculum_deeplab/preprocessing/tmp/tcia_data/vs_gk_114_t2', '/Users/christianweihsbach/code/curriculum_deeplab/curriculum_deeplab/preprocessing/tmp/tcia_data/vs_gk_115_t1', '/Users/christianweihsbach/code/curriculum_deeplab/curriculum_deeplab/preprocessing/tmp/tcia_data/vs_gk_115_t2', '/Users/christianweihsbach/code/curriculum_deeplab/curriculum_deeplab/preprocessing/tmp/tcia_data/vs_gk_116_t1', '/Users/christianweihsbach/code/curriculum_deeplab/curriculum_deeplab/preprocessing/tmp/tcia_data/vs_gk_116_t2', '/Users/christianweihsbach/code/curriculum_deeplab/curriculum_deeplab/preprocessing/tmp/tcia_data/vs_gk_117_t1', '/Users/christianweihsbach/code/curriculum_deeplab/curriculum_deeplab/preprocessing/tmp/tcia_data/vs_gk_117_t2', '/Users/christianweihsbach/code/curriculum_deeplab/curriculum_deeplab/preprocessing/tmp/tcia_data/vs_gk_118_t1', '/Users/christianweihsbach/code/curriculum_deeplab/curriculum_deeplab/preprocessing/tmp/tcia_data/vs_gk_118_t2', '/Users/christianweihsbach/code/curriculum_deeplab/curriculum_deeplab/preprocessing/tmp/tcia_data/vs_gk_119_t1', '/Users/christianweihsbach/code/curriculum_deeplab/curriculum_deeplab/preprocessing/tmp/tcia_data/vs_gk_119_t2', '/Users/christianweihsbach/code/curriculum_deeplab/curriculum_deeplab/preprocessing/tmp/tcia_data/vs_gk_120_t1', '/Users/christianweihsbach/code/curriculum_deeplab/curriculum_deeplab/preprocessing/tmp/tcia_data/vs_gk_120_t2', '/Users/christianweihsbach/code/curriculum_deeplab/curriculum_deeplab/preprocessing/tmp/tcia_data/vs_gk_121_t1', '/Users/christianweihsbach/code/curriculum_deeplab/curriculum_deeplab/preprocessing/tmp/tcia_data/vs_gk_121_t2', '/Users/christianweihsbach/code/curriculum_deeplab/curriculum_deeplab/preprocessing/tmp/tcia_data/vs_gk_122_t1', '/Users/christianweihsbach/code/curriculum_deeplab/curriculum_deeplab/preprocessing/tmp/tcia_data/vs_gk_122_t2', '/Users/christianweihsbach/code/curriculum_deeplab/curriculum_deeplab/preprocessing/tmp/tcia_data/vs_gk_123_t1', '/Users/christianweihsbach/code/curriculum_deeplab/curriculum_deeplab/preprocessing/tmp/tcia_data/vs_gk_123_t2', '/Users/christianweihsbach/code/curriculum_deeplab/curriculum_deeplab/preprocessing/tmp/tcia_data/vs_gk_124_t1', '/Users/christianweihsbach/code/curriculum_deeplab/curriculum_deeplab/preprocessing/tmp/tcia_data/vs_gk_124_t2', '/Users/christianweihsbach/code/curriculum_deeplab/curriculum_deeplab/preprocessing/tmp/tcia_data/vs_gk_125_t1', '/Users/christianweihsbach/code/curriculum_deeplab/curriculum_deeplab/preprocessing/tmp/tcia_data/vs_gk_125_t2', '/Users/christianweihsbach/code/curriculum_deeplab/curriculum_deeplab/preprocessing/tmp/tcia_data/vs_gk_126_t1', '/Users/christianweihsbach/code/curriculum_deeplab/curriculum_deeplab/preprocessing/tmp/tcia_data/vs_gk_126_t2', '/Users/christianweihsbach/code/curriculum_deeplab/curriculum_deeplab/preprocessing/tmp/tcia_data/vs_gk_127_t1', '/Users/christianweihsbach/code/curriculum_deeplab/curriculum_deeplab/preprocessing/tmp/tcia_data/vs_gk_127_t2', '/Users/christianweihsbach/code/curriculum_deeplab/curriculum_deeplab/preprocessing/tmp/tcia_data/vs_gk_128_t1', '/Users/christianweihsbach/code/curriculum_deeplab/curriculum_deeplab/preprocessing/tmp/tcia_data/vs_gk_128_t2', '/Users/christianweihsbach/code/curriculum_deeplab/curriculum_deeplab/preprocessing/tmp/tcia_data/vs_gk_129_t1', '/Users/christianweihsbach/code/curriculum_deeplab/curriculum_deeplab/preprocessing/tmp/tcia_data/vs_gk_129_t2', '/Users/christianweihsbach/code/curriculum_deeplab/curriculum_deeplab/preprocessing/tmp/tcia_data/vs_gk_131_t1', '/Users/christianweihsbach/code/curriculum_deeplab/curriculum_deeplab/preprocessing/tmp/tcia_data/vs_gk_131_t2', '/Users/christianweihsbach/code/curriculum_deeplab/curriculum_deeplab/preprocessing/tmp/tcia_data/vs_gk_132_t1', '/Users/christianweihsbach/code/curriculum_deeplab/curriculum_deeplab/preprocessing/tmp/tcia_data/vs_gk_132_t2', '/Users/christianweihsbach/code/curriculum_deeplab/curriculum_deeplab/preprocessing/tmp/tcia_data/vs_gk_133_t1', '/Users/christianweihsbach/code/curriculum_deeplab/curriculum_deeplab/preprocessing/tmp/tcia_data/vs_gk_133_t2', '/Users/christianweihsbach/code/curriculum_deeplab/curriculum_deeplab/preprocessing/tmp/tcia_data/vs_gk_134_t1', '/Users/christianweihsbach/code/curriculum_deeplab/curriculum_deeplab/preprocessing/tmp/tcia_data/vs_gk_134_t2', '/Users/christianweihsbach/code/curriculum_deeplab/curriculum_deeplab/preprocessing/tmp/tcia_data/vs_gk_135_t1', '/Users/christianweihsbach/code/curriculum_deeplab/curriculum_deeplab/preprocessing/tmp/tcia_data/vs_gk_135_t2', '/Users/christianweihsbach/code/curriculum_deeplab/curriculum_deeplab/preprocessing/tmp/tcia_data/vs_gk_136_t1', '/Users/christianweihsbach/code/curriculum_deeplab/curriculum_deeplab/preprocessing/tmp/tcia_data/vs_gk_136_t2', '/Users/christianweihsbach/code/curriculum_deeplab/curriculum_deeplab/preprocessing/tmp/tcia_data/vs_gk_137_t1', '/Users/christianweihsbach/code/curriculum_deeplab/curriculum_deeplab/preprocessing/tmp/tcia_data/vs_gk_137_t2', '/Users/christianweihsbach/code/curriculum_deeplab/curriculum_deeplab/preprocessing/tmp/tcia_data/vs_gk_138_t1', '/Users/christianweihsbach/code/curriculum_deeplab/curriculum_deeplab/preprocessing/tmp/tcia_data/vs_gk_138_t2', '/Users/christianweihsbach/code/curriculum_deeplab/curriculum_deeplab/preprocessing/tmp/tcia_data/vs_gk_139_t1', '/Users/christianweihsbach/code/curriculum_deeplab/curriculum_deeplab/preprocessing/tmp/tcia_data/vs_gk_139_t2', '/Users/christianweihsbach/code/curriculum_deeplab/curriculum_deeplab/preprocessing/tmp/tcia_data/vs_gk_140_t1', '/Users/christianweihsbach/code/curriculum_deeplab/curriculum_deeplab/preprocessing/tmp/tcia_data/vs_gk_140_t2', '/Users/christianweihsbach/code/curriculum_deeplab/curriculum_deeplab/preprocessing/tmp/tcia_data/vs_gk_141_t1', '/Users/christianweihsbach/code/curriculum_deeplab/curriculum_deeplab/preprocessing/tmp/tcia_data/vs_gk_141_t2', '/Users/christianweihsbach/code/curriculum_deeplab/curriculum_deeplab/preprocessing/tmp/tcia_data/vs_gk_142_t1', '/Users/christianweihsbach/code/curriculum_deeplab/curriculum_deeplab/preprocessing/tmp/tcia_data/vs_gk_142_t2', '/Users/christianweihsbach/code/curriculum_deeplab/curriculum_deeplab/preprocessing/tmp/tcia_data/vs_gk_143_t1', '/Users/christianweihsbach/code/curriculum_deeplab/curriculum_deeplab/preprocessing/tmp/tcia_data/vs_gk_143_t2', '/Users/christianweihsbach/code/curriculum_deeplab/curriculum_deeplab/preprocessing/tmp/tcia_data/vs_gk_144_t1', '/Users/christianweihsbach/code/curriculum_deeplab/curriculum_deeplab/preprocessing/tmp/tcia_data/vs_gk_144_t2', '/Users/christianweihsbach/code/curriculum_deeplab/curriculum_deeplab/preprocessing/tmp/tcia_data/vs_gk_145_t1', '/Users/christianweihsbach/code/curriculum_deeplab/curriculum_deeplab/preprocessing/tmp/tcia_data/vs_gk_145_t2', '/Users/christianweihsbach/code/curriculum_deeplab/curriculum_deeplab/preprocessing/tmp/tcia_data/vs_gk_146_t1', '/Users/christianweihsbach/code/curriculum_deeplab/curriculum_deeplab/preprocessing/tmp/tcia_data/vs_gk_146_t2', '/Users/christianweihsbach/code/curriculum_deeplab/curriculum_deeplab/preprocessing/tmp/tcia_data/vs_gk_147_t1', '/Users/christianweihsbach/code/curriculum_deeplab/curriculum_deeplab/preprocessing/tmp/tcia_data/vs_gk_147_t2', '/Users/christianweihsbach/code/curriculum_deeplab/curriculum_deeplab/preprocessing/tmp/tcia_data/vs_gk_148_t1', '/Users/christianweihsbach/code/curriculum_deeplab/curriculum_deeplab/preprocessing/tmp/tcia_data/vs_gk_148_t2', '/Users/christianweihsbach/code/curriculum_deeplab/curriculum_deeplab/preprocessing/tmp/tcia_data/vs_gk_149_t1', '/Users/christianweihsbach/code/curriculum_deeplab/curriculum_deeplab/preprocessing/tmp/tcia_data/vs_gk_149_t2', '/Users/christianweihsbach/code/curriculum_deeplab/curriculum_deeplab/preprocessing/tmp/tcia_data/vs_gk_150_t1', '/Users/christianweihsbach/code/curriculum_deeplab/curriculum_deeplab/preprocessing/tmp/tcia_data/vs_gk_150_t2', '/Users/christianweihsbach/code/curriculum_deeplab/curriculum_deeplab/preprocessing/tmp/tcia_data/vs_gk_151_t1', '/Users/christianweihsbach/code/curriculum_deeplab/curriculum_deeplab/preprocessing/tmp/tcia_data/vs_gk_151_t2', '/Users/christianweihsbach/code/curriculum_deeplab/curriculum_deeplab/preprocessing/tmp/tcia_data/vs_gk_152_t1', '/Users/christianweihsbach/code/curriculum_deeplab/curriculum_deeplab/preprocessing/tmp/tcia_data/vs_gk_152_t2', '/Users/christianweihsbach/code/curriculum_deeplab/curriculum_deeplab/preprocessing/tmp/tcia_data/vs_gk_153_t1', '/Users/christianweihsbach/code/curriculum_deeplab/curriculum_deeplab/preprocessing/tmp/tcia_data/vs_gk_153_t2', '/Users/christianweihsbach/code/curriculum_deeplab/curriculum_deeplab/preprocessing/tmp/tcia_data/vs_gk_154_t1', '/Users/christianweihsbach/code/curriculum_deeplab/curriculum_deeplab/preprocessing/tmp/tcia_data/vs_gk_154_t2', '/Users/christianweihsbach/code/curriculum_deeplab/curriculum_deeplab/preprocessing/tmp/tcia_data/vs_gk_155_t1', '/Users/christianweihsbach/code/curriculum_deeplab/curriculum_deeplab/preprocessing/tmp/tcia_data/vs_gk_155_t2', '/Users/christianweihsbach/code/curriculum_deeplab/curriculum_deeplab/preprocessing/tmp/tcia_data/vs_gk_156_t1', '/Users/christianweihsbach/code/curriculum_deeplab/curriculum_deeplab/preprocessing/tmp/tcia_data/vs_gk_156_t2', '/Users/christianweihsbach/code/curriculum_deeplab/curriculum_deeplab/preprocessing/tmp/tcia_data/vs_gk_157_t1', '/Users/christianweihsbach/code/curriculum_deeplab/curriculum_deeplab/preprocessing/tmp/tcia_data/vs_gk_157_t2', '/Users/christianweihsbach/code/curriculum_deeplab/curriculum_deeplab/preprocessing/tmp/tcia_data/vs_gk_158_t1', '/Users/christianweihsbach/code/curriculum_deeplab/curriculum_deeplab/preprocessing/tmp/tcia_data/vs_gk_158_t2', '/Users/christianweihsbach/code/curriculum_deeplab/curriculum_deeplab/preprocessing/tmp/tcia_data/vs_gk_159_t1', '/Users/christianweihsbach/code/curriculum_deeplab/curriculum_deeplab/preprocessing/tmp/tcia_data/vs_gk_159_t2', '/Users/christianweihsbach/code/curriculum_deeplab/curriculum_deeplab/preprocessing/tmp/tcia_data/vs_gk_161_t1', '/Users/christianweihsbach/code/curriculum_deeplab/curriculum_deeplab/preprocessing/tmp/tcia_data/vs_gk_161_t2', '/Users/christianweihsbach/code/curriculum_deeplab/curriculum_deeplab/preprocessing/tmp/tcia_data/vs_gk_162_t1', '/Users/christianweihsbach/code/curriculum_deeplab/curriculum_deeplab/preprocessing/tmp/tcia_data/vs_gk_162_t2', '/Users/christianweihsbach/code/curriculum_deeplab/curriculum_deeplab/preprocessing/tmp/tcia_data/vs_gk_163_t1', '/Users/christianweihsbach/code/curriculum_deeplab/curriculum_deeplab/preprocessing/tmp/tcia_data/vs_gk_163_t2', '/Users/christianweihsbach/code/curriculum_deeplab/curriculum_deeplab/preprocessing/tmp/tcia_data/vs_gk_164_t1', '/Users/christianweihsbach/code/curriculum_deeplab/curriculum_deeplab/preprocessing/tmp/tcia_data/vs_gk_164_t2', '/Users/christianweihsbach/code/curriculum_deeplab/curriculum_deeplab/preprocessing/tmp/tcia_data/vs_gk_165_t1', '/Users/christianweihsbach/code/curriculum_deeplab/curriculum_deeplab/preprocessing/tmp/tcia_data/vs_gk_165_t2', '/Users/christianweihsbach/code/curriculum_deeplab/curriculum_deeplab/preprocessing/tmp/tcia_data/vs_gk_166_t1', '/Users/christianweihsbach/code/curriculum_deeplab/curriculum_deeplab/preprocessing/tmp/tcia_data/vs_gk_166_t2', '/Users/christianweihsbach/code/curriculum_deeplab/curriculum_deeplab/preprocessing/tmp/tcia_data/vs_gk_167_t1', '/Users/christianweihsbach/code/curriculum_deeplab/curriculum_deeplab/preprocessing/tmp/tcia_data/vs_gk_167_t2', '/Users/christianweihsbach/code/curriculum_deeplab/curriculum_deeplab/preprocessing/tmp/tcia_data/vs_gk_169_t1', '/Users/christianweihsbach/code/curriculum_deeplab/curriculum_deeplab/preprocessing/tmp/tcia_data/vs_gk_169_t2', '/Users/christianweihsbach/code/curriculum_deeplab/curriculum_deeplab/preprocessing/tmp/tcia_data/vs_gk_170_t1', '/Users/christianweihsbach/code/curriculum_deeplab/curriculum_deeplab/preprocessing/tmp/tcia_data/vs_gk_170_t2', '/Users/christianweihsbach/code/curriculum_deeplab/curriculum_deeplab/preprocessing/tmp/tcia_data/vs_gk_171_t1', '/Users/christianweihsbach/code/curriculum_deeplab/curriculum_deeplab/preprocessing/tmp/tcia_data/vs_gk_171_t2', '/Users/christianweihsbach/code/curriculum_deeplab/curriculum_deeplab/preprocessing/tmp/tcia_data/vs_gk_172_t1', '/Users/christianweihsbach/code/curriculum_deeplab/curriculum_deeplab/preprocessing/tmp/tcia_data/vs_gk_172_t2', '/Users/christianweihsbach/code/curriculum_deeplab/curriculum_deeplab/preprocessing/tmp/tcia_data/vs_gk_173_t1', '/Users/christianweihsbach/code/curriculum_deeplab/curriculum_deeplab/preprocessing/tmp/tcia_data/vs_gk_173_t2', '/Users/christianweihsbach/code/curriculum_deeplab/curriculum_deeplab/preprocessing/tmp/tcia_data/vs_gk_174_t1', '/Users/christianweihsbach/code/curriculum_deeplab/curriculum_deeplab/preprocessing/tmp/tcia_data/vs_gk_174_t2', '/Users/christianweihsbach/code/curriculum_deeplab/curriculum_deeplab/preprocessing/tmp/tcia_data/vs_gk_175_t1', '/Users/christianweihsbach/code/curriculum_deeplab/curriculum_deeplab/preprocessing/tmp/tcia_data/vs_gk_175_t2', '/Users/christianweihsbach/code/curriculum_deeplab/curriculum_deeplab/preprocessing/tmp/tcia_data/vs_gk_176_t1', '/Users/christianweihsbach/code/curriculum_deeplab/curriculum_deeplab/preprocessing/tmp/tcia_data/vs_gk_176_t2', '/Users/christianweihsbach/code/curriculum_deeplab/curriculum_deeplab/preprocessing/tmp/tcia_data/vs_gk_177_t1', '/Users/christianweihsbach/code/curriculum_deeplab/curriculum_deeplab/preprocessing/tmp/tcia_data/vs_gk_177_t2', '/Users/christianweihsbach/code/curriculum_deeplab/curriculum_deeplab/preprocessing/tmp/tcia_data/vs_gk_178_t1', '/Users/christianweihsbach/code/curriculum_deeplab/curriculum_deeplab/preprocessing/tmp/tcia_data/vs_gk_178_t2', '/Users/christianweihsbach/code/curriculum_deeplab/curriculum_deeplab/preprocessing/tmp/tcia_data/vs_gk_179_t1', '/Users/christianweihsbach/code/curriculum_deeplab/curriculum_deeplab/preprocessing/tmp/tcia_data/vs_gk_179_t2', '/Users/christianweihsbach/code/curriculum_deeplab/curriculum_deeplab/preprocessing/tmp/tcia_data/vs_gk_180_t1', '/Users/christianweihsbach/code/curriculum_deeplab/curriculum_deeplab/preprocessing/tmp/tcia_data/vs_gk_180_t2', '/Users/christianweihsbach/code/curriculum_deeplab/curriculum_deeplab/preprocessing/tmp/tcia_data/vs_gk_181_t1', '/Users/christianweihsbach/code/curriculum_deeplab/curriculum_deeplab/preprocessing/tmp/tcia_data/vs_gk_181_t2', '/Users/christianweihsbach/code/curriculum_deeplab/curriculum_deeplab/preprocessing/tmp/tcia_data/vs_gk_182_t1', '/Users/christianweihsbach/code/curriculum_deeplab/curriculum_deeplab/preprocessing/tmp/tcia_data/vs_gk_182_t2', '/Users/christianweihsbach/code/curriculum_deeplab/curriculum_deeplab/preprocessing/tmp/tcia_data/vs_gk_183_t1', '/Users/christianweihsbach/code/curriculum_deeplab/curriculum_deeplab/preprocessing/tmp/tcia_data/vs_gk_183_t2', '/Users/christianweihsbach/code/curriculum_deeplab/curriculum_deeplab/preprocessing/tmp/tcia_data/vs_gk_184_t1', '/Users/christianweihsbach/code/curriculum_deeplab/curriculum_deeplab/preprocessing/tmp/tcia_data/vs_gk_184_t2', '/Users/christianweihsbach/code/curriculum_deeplab/curriculum_deeplab/preprocessing/tmp/tcia_data/vs_gk_185_t1', '/Users/christianweihsbach/code/curriculum_deeplab/curriculum_deeplab/preprocessing/tmp/tcia_data/vs_gk_185_t2', '/Users/christianweihsbach/code/curriculum_deeplab/curriculum_deeplab/preprocessing/tmp/tcia_data/vs_gk_186_t1', '/Users/christianweihsbach/code/curriculum_deeplab/curriculum_deeplab/preprocessing/tmp/tcia_data/vs_gk_186_t2', '/Users/christianweihsbach/code/curriculum_deeplab/curriculum_deeplab/preprocessing/tmp/tcia_data/vs_gk_187_t1', '/Users/christianweihsbach/code/curriculum_deeplab/curriculum_deeplab/preprocessing/tmp/tcia_data/vs_gk_187_t2', '/Users/christianweihsbach/code/curriculum_deeplab/curriculum_deeplab/preprocessing/tmp/tcia_data/vs_gk_188_t1', '/Users/christianweihsbach/code/curriculum_deeplab/curriculum_deeplab/preprocessing/tmp/tcia_data/vs_gk_188_t2', '/Users/christianweihsbach/code/curriculum_deeplab/curriculum_deeplab/preprocessing/tmp/tcia_data/vs_gk_189_t1', '/Users/christianweihsbach/code/curriculum_deeplab/curriculum_deeplab/preprocessing/tmp/tcia_data/vs_gk_189_t2', '/Users/christianweihsbach/code/curriculum_deeplab/curriculum_deeplab/preprocessing/tmp/tcia_data/vs_gk_190_t1', '/Users/christianweihsbach/code/curriculum_deeplab/curriculum_deeplab/preprocessing/tmp/tcia_data/vs_gk_190_t2', '/Users/christianweihsbach/code/curriculum_deeplab/curriculum_deeplab/preprocessing/tmp/tcia_data/vs_gk_191_t1', '/Users/christianweihsbach/code/curriculum_deeplab/curriculum_deeplab/preprocessing/tmp/tcia_data/vs_gk_191_t2', '/Users/christianweihsbach/code/curriculum_deeplab/curriculum_deeplab/preprocessing/tmp/tcia_data/vs_gk_192_t1', '/Users/christianweihsbach/code/curriculum_deeplab/curriculum_deeplab/preprocessing/tmp/tcia_data/vs_gk_192_t2', '/Users/christianweihsbach/code/curriculum_deeplab/curriculum_deeplab/preprocessing/tmp/tcia_data/vs_gk_193_t1', '/Users/christianweihsbach/code/curriculum_deeplab/curriculum_deeplab/preprocessing/tmp/tcia_data/vs_gk_193_t2', '/Users/christianweihsbach/code/curriculum_deeplab/curriculum_deeplab/preprocessing/tmp/tcia_data/vs_gk_194_t1', '/Users/christianweihsbach/code/curriculum_deeplab/curriculum_deeplab/preprocessing/tmp/tcia_data/vs_gk_194_t2', '/Users/christianweihsbach/code/curriculum_deeplab/curriculum_deeplab/preprocessing/tmp/tcia_data/vs_gk_195_t1', '/Users/christianweihsbach/code/curriculum_deeplab/curriculum_deeplab/preprocessing/tmp/tcia_data/vs_gk_195_t2', '/Users/christianweihsbach/code/curriculum_deeplab/curriculum_deeplab/preprocessing/tmp/tcia_data/vs_gk_196_t1', '/Users/christianweihsbach/code/curriculum_deeplab/curriculum_deeplab/preprocessing/tmp/tcia_data/vs_gk_196_t2', '/Users/christianweihsbach/code/curriculum_deeplab/curriculum_deeplab/preprocessing/tmp/tcia_data/vs_gk_197_t1', '/Users/christianweihsbach/code/curriculum_deeplab/curriculum_deeplab/preprocessing/tmp/tcia_data/vs_gk_197_t2', '/Users/christianweihsbach/code/curriculum_deeplab/curriculum_deeplab/preprocessing/tmp/tcia_data/vs_gk_198_t1', '/Users/christianweihsbach/code/curriculum_deeplab/curriculum_deeplab/preprocessing/tmp/tcia_data/vs_gk_198_t2', '/Users/christianweihsbach/code/curriculum_deeplab/curriculum_deeplab/preprocessing/tmp/tcia_data/vs_gk_199_t1', '/Users/christianweihsbach/code/curriculum_deeplab/curriculum_deeplab/preprocessing/tmp/tcia_data/vs_gk_199_t2', '/Users/christianweihsbach/code/curriculum_deeplab/curriculum_deeplab/preprocessing/tmp/tcia_data/vs_gk_200_t1', '/Users/christianweihsbach/code/curriculum_deeplab/curriculum_deeplab/preprocessing/tmp/tcia_data/vs_gk_200_t2', '/Users/christianweihsbach/code/curriculum_deeplab/curriculum_deeplab/preprocessing/tmp/tcia_data/vs_gk_201_t1', '/Users/christianweihsbach/code/curriculum_deeplab/curriculum_deeplab/preprocessing/tmp/tcia_data/vs_gk_201_t2', '/Users/christianweihsbach/code/curriculum_deeplab/curriculum_deeplab/preprocessing/tmp/tcia_data/vs_gk_202_t1', '/Users/christianweihsbach/code/curriculum_deeplab/curriculum_deeplab/preprocessing/tmp/tcia_data/vs_gk_202_t2', '/Users/christianweihsbach/code/curriculum_deeplab/curriculum_deeplab/preprocessing/tmp/tcia_data/vs_gk_203_t1', '/Users/christianweihsbach/code/curriculum_deeplab/curriculum_deeplab/preprocessing/tmp/tcia_data/vs_gk_203_t2', '/Users/christianweihsbach/code/curriculum_deeplab/curriculum_deeplab/preprocessing/tmp/tcia_data/vs_gk_204_t1', '/Users/christianweihsbach/code/curriculum_deeplab/curriculum_deeplab/preprocessing/tmp/tcia_data/vs_gk_204_t2', '/Users/christianweihsbach/code/curriculum_deeplab/curriculum_deeplab/preprocessing/tmp/tcia_data/vs_gk_205_t1', '/Users/christianweihsbach/code/curriculum_deeplab/curriculum_deeplab/preprocessing/tmp/tcia_data/vs_gk_205_t2', '/Users/christianweihsbach/code/curriculum_deeplab/curriculum_deeplab/preprocessing/tmp/tcia_data/vs_gk_206_t1', '/Users/christianweihsbach/code/curriculum_deeplab/curriculum_deeplab/preprocessing/tmp/tcia_data/vs_gk_206_t2', '/Users/christianweihsbach/code/curriculum_deeplab/curriculum_deeplab/preprocessing/tmp/tcia_data/vs_gk_207_t1', '/Users/christianweihsbach/code/curriculum_deeplab/curriculum_deeplab/preprocessing/tmp/tcia_data/vs_gk_207_t2', '/Users/christianweihsbach/code/curriculum_deeplab/curriculum_deeplab/preprocessing/tmp/tcia_data/vs_gk_209_t1', '/Users/christianweihsbach/code/curriculum_deeplab/curriculum_deeplab/preprocessing/tmp/tcia_data/vs_gk_209_t2', '/Users/christianweihsbach/code/curriculum_deeplab/curriculum_deeplab/preprocessing/tmp/tcia_data/vs_gk_210_t1', '/Users/christianweihsbach/code/curriculum_deeplab/curriculum_deeplab/preprocessing/tmp/tcia_data/vs_gk_210_t2', '/Users/christianweihsbach/code/curriculum_deeplab/curriculum_deeplab/preprocessing/tmp/tcia_data/vs_gk_211_t1', '/Users/christianweihsbach/code/curriculum_deeplab/curriculum_deeplab/preprocessing/tmp/tcia_data/vs_gk_211_t2', '/Users/christianweihsbach/code/curriculum_deeplab/curriculum_deeplab/preprocessing/tmp/tcia_data/vs_gk_212_t1', '/Users/christianweihsbach/code/curriculum_deeplab/curriculum_deeplab/preprocessing/tmp/tcia_data/vs_gk_212_t2', '/Users/christianweihsbach/code/curriculum_deeplab/curriculum_deeplab/preprocessing/tmp/tcia_data/vs_gk_213_t1', '/Users/christianweihsbach/code/curriculum_deeplab/curriculum_deeplab/preprocessing/tmp/tcia_data/vs_gk_213_t2', '/Users/christianweihsbach/code/curriculum_deeplab/curriculum_deeplab/preprocessing/tmp/tcia_data/vs_gk_214_t1', '/Users/christianweihsbach/code/curriculum_deeplab/curriculum_deeplab/preprocessing/tmp/tcia_data/vs_gk_214_t2', '/Users/christianweihsbach/code/curriculum_deeplab/curriculum_deeplab/preprocessing/tmp/tcia_data/vs_gk_215_t1', '/Users/christianweihsbach/code/curriculum_deeplab/curriculum_deeplab/preprocessing/tmp/tcia_data/vs_gk_215_t2', '/Users/christianweihsbach/code/curriculum_deeplab/curriculum_deeplab/preprocessing/tmp/tcia_data/vs_gk_216_t1', '/Users/christianweihsbach/code/curriculum_deeplab/curriculum_deeplab/preprocessing/tmp/tcia_data/vs_gk_216_t2', '/Users/christianweihsbach/code/curriculum_deeplab/curriculum_deeplab/preprocessing/tmp/tcia_data/vs_gk_217_t1', '/Users/christianweihsbach/code/curriculum_deeplab/curriculum_deeplab/preprocessing/tmp/tcia_data/vs_gk_217_t2', '/Users/christianweihsbach/code/curriculum_deeplab/curriculum_deeplab/preprocessing/tmp/tcia_data/vs_gk_218_t1', '/Users/christianweihsbach/code/curriculum_deeplab/curriculum_deeplab/preprocessing/tmp/tcia_data/vs_gk_218_t2', '/Users/christianweihsbach/code/curriculum_deeplab/curriculum_deeplab/preprocessing/tmp/tcia_data/vs_gk_220_t1', '/Users/christianweihsbach/code/curriculum_deeplab/curriculum_deeplab/preprocessing/tmp/tcia_data/vs_gk_220_t2', '/Users/christianweihsbach/code/curriculum_deeplab/curriculum_deeplab/preprocessing/tmp/tcia_data/vs_gk_221_t1', '/Users/christianweihsbach/code/curriculum_deeplab/curriculum_deeplab/preprocessing/tmp/tcia_data/vs_gk_221_t2', '/Users/christianweihsbach/code/curriculum_deeplab/curriculum_deeplab/preprocessing/tmp/tcia_data/vs_gk_222_t1', '/Users/christianweihsbach/code/curriculum_deeplab/curriculum_deeplab/preprocessing/tmp/tcia_data/vs_gk_222_t2', '/Users/christianweihsbach/code/curriculum_deeplab/curriculum_deeplab/preprocessing/tmp/tcia_data/vs_gk_223_t1', '/Users/christianweihsbach/code/curriculum_deeplab/curriculum_deeplab/preprocessing/tmp/tcia_data/vs_gk_223_t2', '/Users/christianweihsbach/code/curriculum_deeplab/curriculum_deeplab/preprocessing/tmp/tcia_data/vs_gk_224_t1', '/Users/christianweihsbach/code/curriculum_deeplab/curriculum_deeplab/preprocessing/tmp/tcia_data/vs_gk_224_t2', '/Users/christianweihsbach/code/curriculum_deeplab/curriculum_deeplab/preprocessing/tmp/tcia_data/vs_gk_225_t1', '/Users/christianweihsbach/code/curriculum_deeplab/curriculum_deeplab/preprocessing/tmp/tcia_data/vs_gk_225_t2', '/Users/christianweihsbach/code/curriculum_deeplab/curriculum_deeplab/preprocessing/tmp/tcia_data/vs_gk_226_t1', '/Users/christianweihsbach/code/curriculum_deeplab/curriculum_deeplab/preprocessing/tmp/tcia_data/vs_gk_226_t2', '/Users/christianweihsbach/code/curriculum_deeplab/curriculum_deeplab/preprocessing/tmp/tcia_data/vs_gk_228_t1', '/Users/christianweihsbach/code/curriculum_deeplab/curriculum_deeplab/preprocessing/tmp/tcia_data/vs_gk_228_t2', '/Users/christianweihsbach/code/curriculum_deeplab/curriculum_deeplab/preprocessing/tmp/tcia_data/vs_gk_229_t1', '/Users/christianweihsbach/code/curriculum_deeplab/curriculum_deeplab/preprocessing/tmp/tcia_data/vs_gk_229_t2', '/Users/christianweihsbach/code/curriculum_deeplab/curriculum_deeplab/preprocessing/tmp/tcia_data/vs_gk_230_t1', '/Users/christianweihsbach/code/curriculum_deeplab/curriculum_deeplab/preprocessing/tmp/tcia_data/vs_gk_230_t2', '/Users/christianweihsbach/code/curriculum_deeplab/curriculum_deeplab/preprocessing/tmp/tcia_data/vs_gk_231_t1', '/Users/christianweihsbach/code/curriculum_deeplab/curriculum_deeplab/preprocessing/tmp/tcia_data/vs_gk_231_t2', '/Users/christianweihsbach/code/curriculum_deeplab/curriculum_deeplab/preprocessing/tmp/tcia_data/vs_gk_232_t1', '/Users/christianweihsbach/code/curriculum_deeplab/curriculum_deeplab/preprocessing/tmp/tcia_data/vs_gk_232_t2', '/Users/christianweihsbach/code/curriculum_deeplab/curriculum_deeplab/preprocessing/tmp/tcia_data/vs_gk_233_t1', '/Users/christianweihsbach/code/curriculum_deeplab/curriculum_deeplab/preprocessing/tmp/tcia_data/vs_gk_233_t2', '/Users/christianweihsbach/code/curriculum_deeplab/curriculum_deeplab/preprocessing/tmp/tcia_data/vs_gk_234_t1', '/Users/christianweihsbach/code/curriculum_deeplab/curriculum_deeplab/preprocessing/tmp/tcia_data/vs_gk_234_t2', '/Users/christianweihsbach/code/curriculum_deeplab/curriculum_deeplab/preprocessing/tmp/tcia_data/vs_gk_235_t1', '/Users/christianweihsbach/code/curriculum_deeplab/curriculum_deeplab/preprocessing/tmp/tcia_data/vs_gk_235_t2', '/Users/christianweihsbach/code/curriculum_deeplab/curriculum_deeplab/preprocessing/tmp/tcia_data/vs_gk_236_t1', '/Users/christianweihsbach/code/curriculum_deeplab/curriculum_deeplab/preprocessing/tmp/tcia_data/vs_gk_236_t2', '/Users/christianweihsbach/code/curriculum_deeplab/curriculum_deeplab/preprocessing/tmp/tcia_data/vs_gk_237_t1', '/Users/christianweihsbach/code/curriculum_deeplab/curriculum_deeplab/preprocessing/tmp/tcia_data/vs_gk_237_t2', '/Users/christianweihsbach/code/curriculum_deeplab/curriculum_deeplab/preprocessing/tmp/tcia_data/vs_gk_238_t1', '/Users/christianweihsbach/code/curriculum_deeplab/curriculum_deeplab/preprocessing/tmp/tcia_data/vs_gk_238_t2', '/Users/christianweihsbach/code/curriculum_deeplab/curriculum_deeplab/preprocessing/tmp/tcia_data/vs_gk_239_t1', '/Users/christianweihsbach/code/curriculum_deeplab/curriculum_deeplab/preprocessing/tmp/tcia_data/vs_gk_239_t2', '/Users/christianweihsbach/code/curriculum_deeplab/curriculum_deeplab/preprocessing/tmp/tcia_data/vs_gk_240_t1', '/Users/christianweihsbach/code/curriculum_deeplab/curriculum_deeplab/preprocessing/tmp/tcia_data/vs_gk_240_t2', '/Users/christianweihsbach/code/curriculum_deeplab/curriculum_deeplab/preprocessing/tmp/tcia_data/vs_gk_241_t1', '/Users/christianweihsbach/code/curriculum_deeplab/curriculum_deeplab/preprocessing/tmp/tcia_data/vs_gk_241_t2', '/Users/christianweihsbach/code/curriculum_deeplab/curriculum_deeplab/preprocessing/tmp/tcia_data/vs_gk_242_t1', '/Users/christianweihsbach/code/curriculum_deeplab/curriculum_deeplab/preprocessing/tmp/tcia_data/vs_gk_242_t2', '/Users/christianweihsbach/code/curriculum_deeplab/curriculum_deeplab/preprocessing/tmp/tcia_data/vs_gk_243_t1', '/Users/christianweihsbach/code/curriculum_deeplab/curriculum_deeplab/preprocessing/tmp/tcia_data/vs_gk_243_t2', '/Users/christianweihsbach/code/curriculum_deeplab/curriculum_deeplab/preprocessing/tmp/tcia_data/vs_gk_244_t1', '/Users/christianweihsbach/code/curriculum_deeplab/curriculum_deeplab/preprocessing/tmp/tcia_data/vs_gk_244_t2', '/Users/christianweihsbach/code/curriculum_deeplab/curriculum_deeplab/preprocessing/tmp/tcia_data/vs_gk_245_t1', '/Users/christianweihsbach/code/curriculum_deeplab/curriculum_deeplab/preprocessing/tmp/tcia_data/vs_gk_245_t2', '/Users/christianweihsbach/code/curriculum_deeplab/curriculum_deeplab/preprocessing/tmp/tcia_data/vs_gk_246_t1', '/Users/christianweihsbach/code/curriculum_deeplab/curriculum_deeplab/preprocessing/tmp/tcia_data/vs_gk_246_t2', '/Users/christianweihsbach/code/curriculum_deeplab/curriculum_deeplab/preprocessing/tmp/tcia_data/vs_gk_247_t1', '/Users/christianweihsbach/code/curriculum_deeplab/curriculum_deeplab/preprocessing/tmp/tcia_data/vs_gk_247_t2', '/Users/christianweihsbach/code/curriculum_deeplab/curriculum_deeplab/preprocessing/tmp/tcia_data/vs_gk_248_t1', '/Users/christianweihsbach/code/curriculum_deeplab/curriculum_deeplab/preprocessing/tmp/tcia_data/vs_gk_248_t2', '/Users/christianweihsbach/code/curriculum_deeplab/curriculum_deeplab/preprocessing/tmp/tcia_data/vs_gk_249_t1', '/Users/christianweihsbach/code/curriculum_deeplab/curriculum_deeplab/preprocessing/tmp/tcia_data/vs_gk_249_t2', '/Users/christianweihsbach/code/curriculum_deeplab/curriculum_deeplab/preprocessing/tmp/tcia_data/vs_gk_250_t1', '/Users/christianweihsbach/code/curriculum_deeplab/curriculum_deeplab/preprocessing/tmp/tcia_data/vs_gk_250_t2']\n",
      "Traceback (most recent call last):\n",
      "  File \"/Users/christianweihsbach/code/curriculum_deeplab/curriculum_deeplab/preprocessing/tools/VS_Seg/preprocessing/TCIA_data_convert_into_convenient_folder_structure.py\", line 125, in <module>\n",
      "    assert(all(found)), f\"Not all required files found\"\n",
      "AssertionError: Not all required files found\n"
     ]
    }
   ],
   "source": [
    "CONVENIENT_SCRIPT = Path(THIS_SCRIPT_DIR, \"./tools/VS_Seg/preprocessing/TCIA_data_convert_into_convenient_folder_structure.py\")\n",
    "!python {CONVENIENT_SCRIPT} --input {TCIA_DATA_DIR} --output {TCIA_DATA_CONVENIENT_DIR}"
   ]
  },
  {
   "cell_type": "markdown",
   "metadata": {},
   "source": [
    "### Preprocessing step 2: Run VS_Seg Slicer.org preprocessing"
   ]
  },
  {
   "cell_type": "code",
   "execution_count": 7,
   "metadata": {},
   "outputs": [
    {
     "name": "stderr",
     "output_type": "stream",
     "text": [
      "#1 [internal] load build definition from Dockerfile\n",
      "#1 sha256:31623e871b26b3b65716d27c66688f5c8eed2f36d4eafbd9c4493d9c433e33a3\n",
      "#1 transferring dockerfile: 37B 0.0s done\n",
      "#1 DONE 0.1s\n",
      "\n",
      "#2 [internal] load .dockerignore\n",
      "#2 sha256:61fa21e5ef6e9df0d0003d2f22598bb778488a061dd97e7ed285ce6dd4b12e46\n",
      "#2 transferring context: 2B done\n",
      "#2 DONE 0.0s\n",
      "\n",
      "#3 [internal] load metadata for docker.io/stevepieper/x11:latest\n",
      "#3 sha256:c0789341f0873bc22b92299d0986138851e1fdf9c0d4ad5eb04f3910bd2a78a2\n",
      "#3 DONE 1.9s\n",
      "\n",
      "#4 [ 1/23] FROM docker.io/stevepieper/x11:latest@sha256:bcf1410f89f11e3c8693fa2e8d6b352da6c1938bf520895cf1d6340188d37999\n",
      "#4 sha256:de6b7259924fadff7cfb60df7a5b7074f93c5170c4a27b26f8682a1d0806eb21\n",
      "#4 DONE 0.0s\n",
      "\n",
      "#15 [internal] load build context\n",
      "#15 sha256:414e3f4757c29b8febbed34f0543be8ebeb0b18344ecee32ee7ebcefc771273a\n",
      "#15 transferring context: 1.12kB done\n",
      "#15 DONE 0.0s\n",
      "\n",
      "#18 [14/23] COPY /usr /usr\n",
      "#18 sha256:8deab03101a283a003753f43e505648052edfed4ec94552530a199779148c433\n",
      "#18 CACHED\n",
      "\n",
      "#11 [ 8/23] RUN apt-get install xvfb\n",
      "#11 sha256:25218a4fe6735758cfbd0feea78b65a6cb3777447be702b6aa3ed6f8dcc320b8\n",
      "#11 CACHED\n",
      "\n",
      "#7 [ 4/23] RUN apt-get install -y libxcb-icccm4 libxcb-image0 libxcb-keysyms1 libxcb-render-util0 libxcb-xkb1 libxkbcommon-x11-0\n",
      "#7 sha256:220e42ad46b146a023b79a711c1349b5467f81368b5c717689a14243155147f3\n",
      "#7 CACHED\n",
      "\n",
      "#12 [ 9/23] RUN alias python=python3\n",
      "#12 sha256:dd1858b9ac9c78b55073c416c92b7d6c115c455e660bc74ba049371af7529dc0\n",
      "#12 CACHED\n",
      "\n",
      "#22 [18/23] RUN chown -R researcher:researcher /home/researcher/Documents\n",
      "#22 sha256:51a850f983dd7861cda7ff157a1e76bd580a06a05d139ceb725737a8e006f53f\n",
      "#22 CACHED\n",
      "\n",
      "#17 [13/23] COPY /opt /opt\n",
      "#17 sha256:9c9073a9599693f15b2df8ff1ed2d0e4582a8ea13186c71771543fc7e7c12d15\n",
      "#17 CACHED\n",
      "\n",
      "#5 [ 2/23] RUN apt-get install -y libglu1-mesa\n",
      "#5 sha256:5d4ca360158c9ae6f1423ef936523787499e03110aec93674f6ff5a85ee451ee\n",
      "#5 CACHED\n",
      "\n",
      "#26 [22/23] RUN echo \"bash /tmp/shared/startup.sh\" > /home/researcher/.xinitrc\n",
      "#26 sha256:91baaee75edf4458ecbd8093db40acea074ec77df4d607440a8ab21419be7c70\n",
      "#26 CACHED\n",
      "\n",
      "#13 [10/23] RUN SLICER_URL=\"https://download.slicer.org/bitstream/60add706ae4540bf6a89bf98\" &&   curl -k -v -s -L $SLICER_URL | tar xz -C /tmp &&   mv /tmp/Slicer* /opt/slicer\n",
      "#13 sha256:83bfd21761698d5b3a331350e769856be7255bfbce222d3a592e40eb1a09bcbc\n",
      "#13 CACHED\n",
      "\n",
      "#21 [17/23] COPY /home/researcher/Documents /home/researcher/Documents\n",
      "#21 sha256:62aada85cb1b734fb491193106706f46bf8b083405f88292bbe5b307d474eaef\n",
      "#21 CACHED\n",
      "\n",
      "#24 [20/23] RUN chown -R researcher:researcher /home/researcher/.config\n",
      "#24 sha256:123fad6d081144ca096afcc8ba907f6e5a028673d99a5408e85344a5f1ae0cb1\n",
      "#24 CACHED\n",
      "\n",
      "#25 [21/23] RUN LNUM=$(sed -n '/launcher_item_app/=' /etc/tint2/panel.tint2rc | head -1) &&   sed -i \"${LNUM}ilauncher_item_app = /opt/slicer/slicer.desktop\" /etc/tint2/panel.tint2rc\n",
      "#25 sha256:06ef5c89022385ef624f38a2b115956d68318545203709a1bbdf21d5857d38f3\n",
      "#25 CACHED\n",
      "\n",
      "#8 [ 5/23] RUN apt-get install -y libxcb-shape0 libxcb-xinerama0 libxcb-xinerama0-dev\n",
      "#8 sha256:38a117fbab613fd58554d580bbceb94a90c3701e651ac02652a7792bc4541ed3\n",
      "#8 CACHED\n",
      "\n",
      "#23 [19/23] COPY /home/researcher/.config /home/researcher/.config\n",
      "#23 sha256:5ff1e510f81993687b83e3ca523d1ddbd305adf4ca420e13c9774dc40a3a5f9c\n",
      "#23 CACHED\n",
      "\n",
      "#19 [15/23] RUN chmod -R a+w /opt/slicer\n",
      "#19 sha256:898aad8bdaf194807d3ae2ba7c12b4c417688fd29869ea593526a5411a6fbf97\n",
      "#19 CACHED\n",
      "\n",
      "#6 [ 3/23] RUN apt-get install -y libpulse-dev libnss3 libglu1-mesa\n",
      "#6 sha256:0a942843db9e6b3a389e9d11bcb8ce6676bf2fafd78c98e54578222c99bffa1a\n",
      "#6 CACHED\n",
      "\n",
      "#14 [11/23] RUN SLICER_RT_URL=\"https://slicer-packages.kitware.com/api/v1/item/60ae37baae4540bf6a89e617/download\" &&   curl -k -v -s -L $SLICER_RT_URL -o /tmp/29738-linux-amd64-SlicerRT-gitce6eefe-2021-08-27.tar.gz\n",
      "#14 sha256:9758db96b3e5104970fd5570a12eed2448cc599c3a9439767ac91a53874ae2b1\n",
      "#14 CACHED\n",
      "\n",
      "#9 [ 6/23] RUN apt-get install -y libxcb-icccm4-dev libxcb-image0-dev libxcb-keysyms1-dev libxcb-randr0 libxcb-xkb-dev libxkbcommon-x11-dev\n",
      "#9 sha256:9339b4d290bddd62b30be5d1d3aa8ed5b3936b3bb2cbea468488421ad7d1bf4a\n",
      "#9 CACHED\n",
      "\n",
      "#16 [12/23] COPY /etc /etc\n",
      "#16 sha256:f161a659e0caf1e2060be99a3798e426711d52efb5455a136d6363fca65e7a6d\n",
      "#16 CACHED\n",
      "\n",
      "#10 [ 7/23] RUN apt-get install libgomp1\n",
      "#10 sha256:13c1bc69f35296521d70ff75c914d52af38d303ce47d118390367c62a78cbf7b\n",
      "#10 CACHED\n",
      "\n",
      "#20 [16/23] RUN su researcher -c \"mkdir /home/researcher/Documents\"\n",
      "#20 sha256:1ba39ed35f90c5b33ba189a1e45ffd1cdccc243938d79d5a610cb39fb4eeca03\n",
      "#20 CACHED\n",
      "\n",
      "#27 [23/23] RUN startx &\n",
      "#27 sha256:0288f5608f962e234f8952dad320e26b7d3564737559e96ce66cf8a9c3318ef8\n",
      "#27 CACHED\n",
      "\n",
      "#28 exporting to image\n",
      "#28 sha256:e8c613e07b0b7ff33893b694f7759a10d42e180f2b4dc349fb57dc6b71dcab00\n",
      "#28 exporting layers done\n",
      "#28 writing image sha256:59165160fe815c57179e84efeb1c17aaed227934eff9c68f52aa7dbb3cdf0cb0 done\n",
      "#28 naming to docker.io/deep_staple/slicer:latest done\n",
      "#28 DONE 0.0s\n"
     ]
    },
    {
     "name": "stdout",
     "output_type": "stream",
     "text": [
      "\n",
      "Use 'docker scan' to run Snyk tests against images to find vulnerabilities and learn how to fix them\n"
     ]
    },
    {
     "data": {
      "text/plain": [
       "0"
      ]
     },
     "execution_count": 7,
     "metadata": {},
     "output_type": "execute_result"
    }
   ],
   "source": [
    "# Build Slicer.org docker\n",
    "build_dir = Path(THIS_SCRIPT_DIR, \"tools/SlicerDockers\")\n",
    "subprocess.call(build_dir.joinpath(\"build.sh\"), cwd=build_dir)"
   ]
  },
  {
   "cell_type": "code",
   "execution_count": 9,
   "metadata": {},
   "outputs": [
    {
     "name": "stdout",
     "output_type": "stream",
     "text": [
      "WARNING: The requested image's platform (linux/amd64) does not match the detected host platform (linux/arm64/v8) and no specific platform was requested\n",
      "2022-04-04 20:06:54,129 CRIT Supervisor running as root (no user in config file)\n",
      "2022-04-04 20:06:54,131 INFO Included extra file \"/etc/supervisord.d/easydav.conf\" during parsing\n",
      "2022-04-04 20:06:54,131 INFO Included extra file \"/etc/supervisord.d/gotty.conf\" during parsing\n",
      "2022-04-04 20:06:54,131 INFO Included extra file \"/etc/supervisord.d/nginx.conf\" during parsing\n",
      "2022-04-04 20:06:54,131 INFO Included extra file \"/etc/supervisord.d/websockify.conf\" during parsing\n",
      "2022-04-04 20:06:54,131 INFO Included extra file \"/etc/supervisord.d/x11vnc.conf\" during parsing\n",
      "2022-04-04 20:06:54,131 INFO Included extra file \"/etc/supervisord.d/xdummy.conf\" during parsing\n",
      "2022-04-04 20:06:54,132 INFO Included extra file \"/etc/supervisord.d/xinitrc.conf\" during parsing\n",
      "2022-04-04 20:06:54,136 INFO Creating socket unix:///var/run/easydav.sock\n",
      "2022-04-04 20:06:54,137 INFO Closing socket unix:///var/run/easydav.sock\n",
      "2022-04-04 20:06:54,160 INFO RPC interface 'supervisor' initialized\n",
      "2022-04-04 20:06:54,160 CRIT Server 'unix_http_server' running without any HTTP authentication checking\n",
      "2022-04-04 20:06:54,161 INFO supervisord started with pid 1\n",
      "2022-04-04 20:06:55,174 INFO spawned: 'websockify' with pid 15\n",
      "2022-04-04 20:06:55,181 INFO spawned: 'nginx' with pid 17\n",
      "2022-04-04 20:06:55,187 INFO spawned: 'gotty' with pid 19\n",
      "2022-04-04 20:06:55,188 INFO Creating socket unix:///var/run/easydav.sock\n",
      "2022-04-04 20:06:55,199 INFO spawned: 'easydav' with pid 21\n",
      "2022-04-04 20:06:55,207 INFO spawned: 'x11vnc' with pid 24\n",
      "2022-04-04 20:06:55,210 INFO spawned: 'xdummy' with pid 25\n",
      "2022-04-04 20:06:55,213 INFO spawned: 'xinitrc' with pid 29\n",
      "2022-04-04 20:06:55,249 INFO success: xinitrc entered RUNNING state, process has stayed up for > than 0 seconds (startsecs)\n",
      "2022-04-04 20:06:55,292 INFO exited: gotty (exit status 2; not expected)\n",
      "2022-04-04 20:06:55,308 INFO exited: xinitrc (exit status 0; expected)\n",
      "2022-04-04 20:06:55,500 INFO exited: x11vnc (exit status 1; not expected)\n",
      "2022-04-04 20:06:56,275 INFO success: websockify entered RUNNING state, process has stayed up for > than 1 seconds (startsecs)\n",
      "2022-04-04 20:06:56,275 INFO success: nginx entered RUNNING state, process has stayed up for > than 1 seconds (startsecs)\n",
      "2022-04-04 20:06:56,275 INFO success: easydav entered RUNNING state, process has stayed up for > than 1 seconds (startsecs)\n",
      "2022-04-04 20:06:56,276 INFO success: xdummy entered RUNNING state, process has stayed up for > than 1 seconds (startsecs)\n",
      "2022-04-04 20:06:57,289 INFO spawned: 'gotty' with pid 105\n",
      "2022-04-04 20:06:57,299 INFO spawned: 'x11vnc' with pid 107\n",
      "2022-04-04 20:06:57,349 INFO exited: gotty (exit status 2; not expected)\n",
      "2022-04-04 20:06:58,551 INFO success: x11vnc entered RUNNING state, process has stayed up for > than 1 seconds (startsecs)\n",
      "2022-04-04 20:06:59,556 INFO spawned: 'gotty' with pid 122\n",
      "2022-04-04 20:06:59,584 INFO exited: gotty (exit status 2; not expected)\n",
      "2022-04-04 20:07:02,606 INFO spawned: 'gotty' with pid 125\n",
      "2022-04-04 20:07:02,672 INFO exited: gotty (exit status 2; not expected)\n",
      "2022-04-04 20:07:03,679 INFO gave up: gotty entered FATAL state, too many start retries too quickly\n",
      "2022-04-04 20:54:24,644 WARN received SIGTERM indicating exit request\n",
      "2022-04-04 20:54:24,653 INFO waiting for websockify, nginx, easydav, x11vnc, xdummy to die\n",
      "2022-04-04 20:54:24,889 INFO exited: x11vnc (exit status 3; not expected)\n",
      "2022-04-04 20:54:25,709 INFO stopped: xdummy (exit status 0)\n",
      "2022-04-04 20:54:26,739 INFO stopped: easydav (terminated by SIGTERM)\n",
      "2022-04-04 20:54:26,743 INFO Closing socket unix:///var/run/easydav.sock\n",
      "2022-04-04 20:54:26,761 INFO stopped: nginx (terminated by SIGKILL)\n",
      "2022-04-04 20:54:27,246 INFO stopped: websockify (exit status 0)\n"
     ]
    }
   ],
   "source": [
    "SHARED_DIR = Path(THIS_SCRIPT_DIR, \"tools/docker_shared\")\n",
    "SHARED_INPUT_DIR = TCIA_DATA_CONVENIENT_DIR\n",
    "SHARED_INPUT_DIR = Path(\"/Users/christianweihsbach/tcia_mangling_tmp/tcia_crossmoda_001_250_convenient\") # TODO remove\n",
    "SHARED_OUTPUT_DIR = TCIA_DATA_BASIC_PREPROCESSING_DIR\n",
    "\n",
    "SLICER_PREPROCESSING_SCRIPT_PATH = Path(THIS_SCRIPT_DIR, \"./tools/VS_Seg/preprocessing/data_conversion.py\")\n",
    "!cp {SLICER_PREPROCESSING_SCRIPT_PATH} {SHARED_DIR}\n",
    "\n",
    "# Run docker container and script. \n",
    "# Running this script will take time. Connect to localhost:8080/ to see process\n",
    "# Run built docker file\n",
    "docker_cmd = f'docker run -v {SHARED_DIR}:/tmp/shared -v {SHARED_INPUT_DIR}:/tmp/shared_input -v {SHARED_OUTPUT_DIR}:/tmp/shared_output -p 8080:8080 --rm -it deep_staple/slicer'\n",
    "!{docker_cmd}"
   ]
  },
  {
   "cell_type": "markdown",
   "metadata": {},
   "source": [
    "### Preprocessing step 3: Prepare dataloader file structure"
   ]
  },
  {
   "cell_type": "code",
   "execution_count": 23,
   "metadata": {},
   "outputs": [
    {
     "name": "stdout",
     "output_type": "stream",
     "text": [
      "100%|███████████████████████████████████████| 1434/1434 [06:49<00:00,  3.50it/s]\n"
     ]
    }
   ],
   "source": [
    "TCIA_TO_CROSSMODA_SCRIPT = Path(THIS_SCRIPT_DIR, \"./tools/dataloader_preparation/tcia_to_crossmoda.py\")\n",
    "\n",
    "run_cmd = f\"{TCIA_TO_CROSSMODA_SCRIPT} --input {TCIA_DATA_BASIC_PREPROCESSING_DIR} --output {CROSSMODA_DATALOADER_DIR}\"\n",
    "!python {run_cmd}"
   ]
  },
  {
   "cell_type": "markdown",
   "metadata": {},
   "source": [
    "### Preprocessing step 4: Add dataloader data levels L2 to L4"
   ]
  },
  {
   "cell_type": "code",
   "execution_count": 11,
   "metadata": {},
   "outputs": [
    {
     "name": "stdout",
     "output_type": "stream",
     "text": [
      "Building L2 ...\n",
      "Processing /Users/christianweihsbach/code/curriculum_deeplab/curriculum_deeplab/preprocessing/tmp/crossmoda_data_dataloader/L1_original/__omitted_labels_target_training__\n",
      " 32%|█████████████▌                            | 34/105 [01:38<03:18,  2.80s/it]"
     ]
    }
   ],
   "source": [
    "BUILD_LEVELS_SCRIPT = Path(THIS_SCRIPT_DIR, \"tools/dataloader_preparation/build_levels.py\")\n",
    "COCHLEA_CENTERS_PATH = Path(THIS_SCRIPT_DIR, \"tools/dataloader_preparation/l3_cochlea_centers.pth\")\n",
    "\n",
    "!python {BUILD_LEVELS_SCRIPT} --input {CROSSMODA_DATALOADER_DIR} --cochlea-centers {COCHLEA_CENTERS_PATH}"
   ]
  },
  {
   "cell_type": "code",
   "execution_count": 47,
   "metadata": {},
   "outputs": [
    {
     "name": "stdout",
     "output_type": "stream",
     "text": [
      "210\n",
      "270\n",
      "299\n"
     ]
    },
    {
     "data": {
      "text/plain": [
       "dict_keys(['1l', '1r', '2l', '2r', '3l', '3r', '4l', '4r', '5l', '5r', '6l', '6r', '7l', '7r', '8l', '8r', '9l', '9r', '10l', '10r', '11l', '11r', '12l', '12r', '13l', '13r', '14l', '14r', '15l', '15r', '16l', '16r', '17l', '17r', '18l', '18r', '19l', '19r', '20l', '20r', '21l', '21r', '22l', '22r', '23l', '23r', '24l', '24r', '25l', '25r', '26l', '26r', '27l', '27r', '28l', '28r', '29l', '29r', '30l', '30r', '31l', '31r', '32l', '32r', '33l', '33r', '34l', '34r', '35l', '35r', '36l', '36r', '37l', '37r', '38l', '38r', '39l', '39r', '40l', '40r', '41l', '41r', '42l', '42r', '43l', '43r', '44l', '44r', '45l', '45r', '46l', '46r', '47l', '47r', '48l', '48r', '49l', '49r', '50l', '50r', '51l', '51r', '52l', '52r', '53l', '53r', '54l', '54r', '55l', '55r', '56l', '56r', '57l', '57r', '58l', '58r', '59l', '59r', '60l', '60r', '61l', '61r', '62l', '62r', '63l', '63r', '64l', '64r', '65l', '65r', '66l', '66r', '67l', '67r', '68l', '68r', '69l', '69r', '70l', '70r', '71l', '71r', '72l', '72r', '73l', '73r', '74l', '74r', '75l', '75r', '76l', '76r', '77l', '77r', '78l', '78r', '79l', '79r', '80l', '80r', '81l', '81r', '82l', '82r', '83l', '83r', '84l', '84r', '85l', '85r', '86l', '86r', '87l', '87r', '88l', '88r', '89l', '89r', '90l', '90r', '91l', '91r', '92l', '92r', '93l', '93r', '94l', '94r', '95l', '95r', '96l', '96r', '97l', '97r', '98l', '98r', '99l', '99r', '100l', '100r', '101l', '101r', '102l', '102r', '103l', '103r', '104l', '104r', '105l', '105r', '108r', '111l', '112r', '115l', '117l', '118r', '120r', '123r', '125l', '126l', '127r', '133l', '134r', '135r', '136l', '140l', '141l', '142r', '143l', '144r', '145l', '146l', '147l', '148r', '149l', '152l', '154r', '158l', '160r', '162l', '164l', '165r', '166r', '167r', '168r', '171r', '173r', '174r', '175l', '177l', '178l', '179r', '180r', '181r', '183l', '185r', '187l', '188l', '189l', '190l', '192l', '195r', '198r', '199l', '200l', '202l', '204r', '205r', '209r', '210r', '211l', '213l', '215l', '216l', '217l', '218l', '219l', '224l', '225l', '226l', '227l', '228l', '229l', '230l', '231l', '232l', '236l', '238l', '241l', '213r', '215r', '218r', '219r', '224r', '225r', '226r', '230r', '231r', '241r'])"
      ]
     },
     "execution_count": 47,
     "metadata": {},
     "output_type": "execute_result"
    }
   ],
   "source": [
    "import torch\n",
    "crop_boxes_source = torch.load(\"/Users/christianweihsbach/code/curriculum_deeplab/crop_boxes_source.pth\")\n",
    "crop_boxes_target_training = torch.load(\"/Users/christianweihsbach/code/curriculum_deeplab/crop_boxes_target_training.pth\")\n",
    "crop_boxes_target_validation = torch.load(\"/Users/christianweihsbach/code/curriculum_deeplab/crop_boxes_target_validation.pth\")\n",
    "\n",
    "print(len(crop_boxes_source.keys()))\n",
    "crop_boxes_source.update(crop_boxes_target_training)\n",
    "print(len(crop_boxes_source.keys()))\n",
    "crop_boxes_source.update(crop_boxes_target_validation)\n",
    "print(len(crop_boxes_source.keys()))\n",
    "\n",
    "torch.save(crop_boxes_source, \"l3_cochlea_centers.pth\")\n",
    "crop_boxes_source.keys()\n"
   ]
  },
  {
   "cell_type": "code",
   "execution_count": null,
   "metadata": {},
   "outputs": [],
   "source": []
  }
 ],
 "metadata": {
  "interpreter": {
   "hash": "06ba18e7235aac9e9578e5cb0339dda8530a2db7f5b95196862af1240ab4b857"
  },
  "kernelspec": {
   "display_name": "Python 3.9.5 ('.venv': poetry)",
   "language": "python",
   "name": "python3"
  },
  "language_info": {
   "codemirror_mode": {
    "name": "ipython",
    "version": 3
   },
   "file_extension": ".py",
   "mimetype": "text/x-python",
   "name": "python",
   "nbconvert_exporter": "python",
   "pygments_lexer": "ipython3",
   "version": "3.9.10"
  },
  "orig_nbformat": 4
 },
 "nbformat": 4,
 "nbformat_minor": 2
}
