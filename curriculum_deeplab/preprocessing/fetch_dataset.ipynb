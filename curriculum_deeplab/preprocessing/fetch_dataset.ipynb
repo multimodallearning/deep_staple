{
 "cells": [
  {
   "cell_type": "code",
   "execution_count": 1,
   "metadata": {},
   "outputs": [],
   "source": [
    "from pathlib import Path\n",
    "import tarfile\n",
    "import os\n",
    "import subprocess\n",
    "import shlex\n",
    "import json\n",
    "\n",
    "from curriculum_deeplab.utils import get_script_dir\n",
    "THIS_SCRIPT_DIR = get_script_dir()"
   ]
  },
  {
   "cell_type": "code",
   "execution_count": 5,
   "metadata": {},
   "outputs": [],
   "source": [
    "\n",
    "# Download slic3er:\n",
    "# https://download.slicer.org/\n",
    "\n",
    "URL_SLICER_LINUX = \"https://slicer-packages.kitware.com/api/v1/item/60add706ae4540bf6a89bf98/download\"\n",
    "tool_path = Path(THIS_SCRIPT_DIR, \"tmp/tools\")\n",
    "slicer_tar_path = Path(tool_path, \"slicer.tar.gz\")\n",
    "slicer_tar_path.parent.mkdir(parents=True, exist_ok=True)\n",
    "!wget {URL_SLICER_LINUX} -O {slicer_tar_path}"
   ]
  },
  {
   "cell_type": "code",
   "execution_count": 7,
   "metadata": {},
   "outputs": [
    {
     "name": "stdout",
     "output_type": "stream",
     "text": [
      "--2022-04-01 14:12:08--  https://wiki.cancerimagingarchive.net/download/attachments/70229053/Vestibular-Schwannoma-SEG%20Feb%202021%20manifest.tcia?api=v2\n",
      "Resolving wiki.cancerimagingarchive.net (wiki.cancerimagingarchive.net)... 144.30.169.13\n",
      "Connecting to wiki.cancerimagingarchive.net (wiki.cancerimagingarchive.net)|144.30.169.13|:443... connected.\n",
      "HTTP request sent, awaiting response... 200 \n",
      "Length: 123472 (121K) [application/octet-stream]\n",
      "Saving to: ‘/share/data_supergrover1/weihsbach/shared_data/tmp/curriculum_deeplab/curriculum_deeplab/preprocessing/tmp/tcia_data/VS.tcia’\n",
      "\n",
      "/share/data_supergr 100%[===================>] 120.58K   286KB/s    in 0.4s    \n",
      "\n",
      "2022-04-01 14:12:09 (286 KB/s) - ‘/share/data_supergrover1/weihsbach/shared_data/tmp/curriculum_deeplab/curriculum_deeplab/preprocessing/tmp/tcia_data/VS.tcia’ saved [123472/123472]\n",
      "\n"
     ]
    }
   ],
   "source": [
    "# Download TCIA manifest file \n",
    "# https://wiki.cancerimagingarchive.net/pages/viewpage.action?pageId=70229053\n",
    "tcia_data_path = Path(THIS_SCRIPT_DIR, \"tmp/tcia_data\")\n",
    "tcia_file_path = tcia_data_path.joinpath(\"VS.tcia\")\n",
    "tcia_file_path.parent.mkdir(parents=True, exist_ok=True)\n",
    "URL_TCIA = \"https://wiki.cancerimagingarchive.net/download/attachments/70229053/Vestibular-Schwannoma-SEG%20Feb%202021%20manifest.tcia?api=v2\"\n",
    "\n",
    "!wget {URL_TCIA} -O {tcia_file_path}\n"
   ]
  },
  {
   "cell_type": "code",
   "execution_count": 28,
   "metadata": {},
   "outputs": [
    {
     "ename": "ValueError",
     "evalue": "TCIA token could not be fetched. Please check your credentials.",
     "output_type": "error",
     "traceback": [
      "\u001b[0;31m---------------------------------------------------------------------------\u001b[0m",
      "\u001b[0;31mKeyError\u001b[0m                                  Traceback (most recent call last)",
      "\u001b[0;32m/tmp/ipykernel_26591/202066241.py\u001b[0m in \u001b[0;36mrequest_token\u001b[0;34m(username, password, client_id, client_secret)\u001b[0m\n\u001b[1;32m     17\u001b[0m     \u001b[0;32mtry\u001b[0m\u001b[0;34m:\u001b[0m\u001b[0;34m\u001b[0m\u001b[0;34m\u001b[0m\u001b[0m\n\u001b[0;32m---> 18\u001b[0;31m         \u001b[0mtoken\u001b[0m \u001b[0;34m=\u001b[0m \u001b[0mjson\u001b[0m\u001b[0;34m.\u001b[0m\u001b[0mloads\u001b[0m\u001b[0;34m(\u001b[0m\u001b[0mquery_output\u001b[0m\u001b[0;34m)\u001b[0m\u001b[0;34m[\u001b[0m\u001b[0;34m'access_token'\u001b[0m\u001b[0;34m]\u001b[0m\u001b[0;34m\u001b[0m\u001b[0;34m\u001b[0m\u001b[0m\n\u001b[0m\u001b[1;32m     19\u001b[0m     \u001b[0;32mexcept\u001b[0m \u001b[0;34m(\u001b[0m\u001b[0mjson\u001b[0m\u001b[0;34m.\u001b[0m\u001b[0mJSONDecodeError\u001b[0m\u001b[0;34m,\u001b[0m \u001b[0mKeyError\u001b[0m\u001b[0;34m)\u001b[0m\u001b[0;34m:\u001b[0m\u001b[0;34m\u001b[0m\u001b[0;34m\u001b[0m\u001b[0m\n",
      "\u001b[0;31mKeyError\u001b[0m: 'access_token'",
      "\nDuring handling of the above exception, another exception occurred:\n",
      "\u001b[0;31mValueError\u001b[0m                                Traceback (most recent call last)",
      "\u001b[0;32m/tmp/ipykernel_26591/202066241.py\u001b[0m in \u001b[0;36m<module>\u001b[0;34m\u001b[0m\n\u001b[1;32m     45\u001b[0m \u001b[0;31m# all_series_ids = [\"1.3.6.1.4.1.9590.100.1.2.374115997511889073021386151921807063992\"]\u001b[0m\u001b[0;34m\u001b[0m\u001b[0;34m\u001b[0m\u001b[0;34m\u001b[0m\u001b[0m\n\u001b[1;32m     46\u001b[0m \u001b[0;34m\u001b[0m\u001b[0m\n\u001b[0;32m---> 47\u001b[0;31m \u001b[0mtoken\u001b[0m \u001b[0;34m=\u001b[0m \u001b[0mrequest_token\u001b[0m\u001b[0;34m(\u001b[0m\u001b[0minput\u001b[0m\u001b[0;34m(\u001b[0m\u001b[0;34m\"Enter TCIA username\"\u001b[0m\u001b[0;34m)\u001b[0m\u001b[0;34m,\u001b[0m \u001b[0minput\u001b[0m\u001b[0;34m(\u001b[0m\u001b[0;34m\"Enter TCIA password\"\u001b[0m\u001b[0;34m)\u001b[0m\u001b[0;34m,\u001b[0m \u001b[0minput\u001b[0m\u001b[0;34m(\u001b[0m\u001b[0;34m\"Enter TCIA client_id from helpdesk\"\u001b[0m\u001b[0;34m)\u001b[0m\u001b[0;34m,\u001b[0m \u001b[0minput\u001b[0m\u001b[0;34m(\u001b[0m\u001b[0;34m\"Enter TCIA client_secret from helpdesk\"\u001b[0m\u001b[0;34m)\u001b[0m\u001b[0;34m)\u001b[0m\u001b[0;34m\u001b[0m\u001b[0;34m\u001b[0m\u001b[0m\n\u001b[0m\u001b[1;32m     48\u001b[0m \u001b[0;34m\u001b[0m\u001b[0m\n\u001b[1;32m     49\u001b[0m \u001b[0;32mfor\u001b[0m \u001b[0msid\u001b[0m \u001b[0;32min\u001b[0m \u001b[0mall_series_ids\u001b[0m\u001b[0;34m:\u001b[0m\u001b[0;34m\u001b[0m\u001b[0;34m\u001b[0m\u001b[0m\n",
      "\u001b[0;32m/tmp/ipykernel_26591/202066241.py\u001b[0m in \u001b[0;36mrequest_token\u001b[0;34m(username, password, client_id, client_secret)\u001b[0m\n\u001b[1;32m     18\u001b[0m         \u001b[0mtoken\u001b[0m \u001b[0;34m=\u001b[0m \u001b[0mjson\u001b[0m\u001b[0;34m.\u001b[0m\u001b[0mloads\u001b[0m\u001b[0;34m(\u001b[0m\u001b[0mquery_output\u001b[0m\u001b[0;34m)\u001b[0m\u001b[0;34m[\u001b[0m\u001b[0;34m'access_token'\u001b[0m\u001b[0;34m]\u001b[0m\u001b[0;34m\u001b[0m\u001b[0;34m\u001b[0m\u001b[0m\n\u001b[1;32m     19\u001b[0m     \u001b[0;32mexcept\u001b[0m \u001b[0;34m(\u001b[0m\u001b[0mjson\u001b[0m\u001b[0;34m.\u001b[0m\u001b[0mJSONDecodeError\u001b[0m\u001b[0;34m,\u001b[0m \u001b[0mKeyError\u001b[0m\u001b[0;34m)\u001b[0m\u001b[0;34m:\u001b[0m\u001b[0;34m\u001b[0m\u001b[0;34m\u001b[0m\u001b[0m\n\u001b[0;32m---> 20\u001b[0;31m         \u001b[0;32mraise\u001b[0m \u001b[0mValueError\u001b[0m\u001b[0;34m(\u001b[0m\u001b[0;34m\"TCIA token could not be fetched. Please check your credentials.\"\u001b[0m\u001b[0;34m)\u001b[0m\u001b[0;34m\u001b[0m\u001b[0;34m\u001b[0m\u001b[0m\n\u001b[0m\u001b[1;32m     21\u001b[0m \u001b[0;34m\u001b[0m\u001b[0m\n\u001b[1;32m     22\u001b[0m     \u001b[0;32mreturn\u001b[0m \u001b[0mtoken\u001b[0m\u001b[0;34m\u001b[0m\u001b[0;34m\u001b[0m\u001b[0m\n",
      "\u001b[0;31mValueError\u001b[0m: TCIA token could not be fetched. Please check your credentials."
     ]
    }
   ],
   "source": [
    "# https://wiki.cancerimagingarchive.net/display/Public/NBIA+Advanced+REST+API+Guide\n",
    "import re\n",
    "import zipfile\n",
    "series_pattern = re.compile(r\"^[0-9\\.]+$\")\n",
    "def get_list_of_series(tcia_manifest_file_path):\n",
    "    series_ids = []\n",
    "    with open(tcia_manifest_file_path, 'r') as tcia_manifest_file:\n",
    "        for line in tcia_manifest_file:\n",
    "            for match in re.finditer(series_pattern, line.strip()):\n",
    "                series_ids.append(match.group())\n",
    "    return series_ids\n",
    "\n",
    "def request_token(username, password, client_id, client_secret):\n",
    "    request_token_address = f\"'username={username}&password={password}&client_id={client_id}&client_secret={client_secret}&grant_type=password'\"\n",
    "    \n",
    "    query_output = subprocess.check_output(shlex.split(f\"curl -s -d {request_token_address} -X POST -k 'https://services.cancerimagingarchive.net/nbia-api/oauth/token'\"))\n",
    "    try:\n",
    "        token = json.loads(query_output)['access_token']\n",
    "    except (json.JSONDecodeError, KeyError):\n",
    "        raise ValueError(\"TCIA token could not be fetched. Please check your credentials.\")\n",
    "\n",
    "    return token\n",
    "\n",
    "def get_metadata(token, series_id):\n",
    "    rest_download_address = f\"https://services.cancerimagingarchive.net/nbia-api/services/v1/getSeriesMetaData?SeriesInstanceUID={series_id}\"\n",
    "    authorization_request = f'\"Authorization:Bearer {token}\"'\n",
    "    query_output = subprocess.check_output(shlex.split(f\"curl -s -k {rest_download_address}\"))\n",
    "\n",
    "    try:\n",
    "        metadata = json.loads(query_output)[0]\n",
    "    except (json.JSONDecodeError):\n",
    "        return None\n",
    "\n",
    "    return metadata\n",
    "    # !curl -k {rest_download_address} --output {output_path}\n",
    "\n",
    "def download_restricted_data(token, series_id, output_file_path):\n",
    "    rest_download_address = f\"https://services.cancerimagingarchive.net/nbia-api/services/v1/getImage?SeriesInstanceUID={series_id}\"\n",
    "    output_file_path.parent.mkdir(parents=True, exist_ok=True)\n",
    "    authorization_request = f'\"Authorization:Bearer {token}\"'\n",
    "    !curl -H {authorization_request} -k {rest_download_address} --output {output_file_path}\n",
    "\n",
    "# https://wiki.cancerimagingarchive.net/plugins/personalaccesstokens/usertokens.action\n",
    "all_series_ids = [get_list_of_series(tcia_file_path)[0]]\n",
    "# all_series_ids = [\"1.3.6.1.4.1.9590.100.1.2.374115997511889073021386151921807063992\"]\n",
    "\n",
    "token = request_token(input(\"Enter TCIA username\"), input(\"Enter TCIA password\"), input(\"Enter TCIA client_id from helpdesk\"), input(\"Enter TCIA client_secret from helpdesk\"))\n",
    "\n",
    "for sid in all_series_ids:\n",
    "    metadata = get_metadata(token, sid)\n",
    "    if not metadata: continue\n",
    "\n",
    "    zip_data_path = tcia_data_path.joinpath(metadata['Subject ID'] + \".zip\")\n",
    "    try:\n",
    "        with zipfile.ZipFile(zip_data_path) as zf:\n",
    "            pass\n",
    "    except (FileNotFoundError, zipfile.BadZipfile):\n",
    "        download_restricted_data(token, sid, zip_data_path)\n",
    "    "
   ]
  },
  {
   "cell_type": "code",
   "execution_count": 51,
   "metadata": {},
   "outputs": [
    {
     "name": "stdout",
     "output_type": "stream",
     "text": [
      "{\"error\":\"unauthorized\",\"error_description\":\"An Authentication object was not found in the SecurityContext\"}"
     ]
    }
   ],
   "source": [
    "!curl -d \"username=nbia_guest\" -X POST -k https://services.cancerimagingarchive.net/nbia-api/oauth/token"
   ]
  },
  {
   "cell_type": "code",
   "execution_count": 10,
   "metadata": {},
   "outputs": [],
   "source": [
    "with tarfile.open(slicer_tar_path, 'r') as tar_file:\n",
    "    tar_file.extractall(path=tool_dir)"
   ]
  },
  {
   "cell_type": "code",
   "execution_count": 2,
   "metadata": {},
   "outputs": [],
   "source": [
    "tool_dir = Path(THIS_SCRIPT_DIR, \"tmp/tools\")\n",
    "\n",
    "slicer_data_dir = [_dir for _dir in tool_dir.iterdir() if _dir.is_dir()][0]\n",
    "slicer_bin = slicer_data_dir.joinpath(\"Slicer\")\n",
    "# slicer_python_bin = slicer_data_dir.joinpath(\"bin/PythonSlicer\")\n",
    "\n",
    "slicer_script = Path(THIS_SCRIPT_DIR, \"data_conversion.py\")"
   ]
  },
  {
   "cell_type": "code",
   "execution_count": 11,
   "metadata": {},
   "outputs": [
    {
     "name": "stdout",
     "output_type": "stream",
     "text": [
      "Slicer: cannot connect to X server :99\n",
      "/share/data_supergrover1/weihsbach/miniconda3/envs/misc/x86_64-conda_cos6-linux-gnu/sysroot/usr/bin/xvfb-run: 186: kill: No such process\n",
      "\n"
     ]
    }
   ],
   "source": [
    "XVFB_LIB_PATH = \"/share/data_supergrover1/weihsbach/miniconda3/envs/misc/lib\"\n",
    "XVFB_PATH = \"/share/data_supergrover1/weihsbach/miniconda3/envs/misc/x86_64-conda_cos6-linux-gnu/sysroot/usr/bin/xvfb-run\"\n",
    "XVFB_BASE_PATH = \"/share/data_supergrover1/weihsbach/miniconda3/envs/misc/x86_64-conda_cos6-linux-gnu/sysroot/usr/bin\"\n",
    "# os.environ['PATH'] = os.environ['PATH']+\":\"+XVFB_BASE_PATH\n",
    "# os.environ['LD_LIBRARY_PATH'] = os.environ['LD_LIBRARY_PATH']+\":\"+XVFB_LIB_PATH\n",
    "\n",
    "! {XVFB_PATH} -e xvfb.log {slicer_bin}  #-v --python-script {slicer_script}"
   ]
  },
  {
   "cell_type": "code",
   "execution_count": 53,
   "metadata": {},
   "outputs": [
    {
     "name": "stdout",
     "output_type": "stream",
     "text": [
      "Usage: xvfb-run [OPTION ...] COMMAND\n",
      "Run COMMAND (usually an X client) in a virtual X server environment.\n",
      "Options:\n",
      "-a        --auto-servernum          try to get a free server number, starting at\n",
      "                                    --server-num (deprecated, use --auto-display\n",
      "                                    instead)\n",
      "-d        --auto-display            use the X server to find a display number\n",
      "                                    automatically\n",
      "-e FILE   --error-file=FILE         file used to store xauth errors and Xvfb\n",
      "                                    output (default: /dev/null)\n",
      "-f FILE   --auth-file=FILE          file used to store auth cookie\n",
      "                                    (default: ./.Xauthority)\n",
      "-h        --help                    display this usage message and exit\n",
      "-n NUM    --server-num=NUM          server number to use (default: 99)\n",
      "-l        --listen-tcp              enable TCP port listening in the X server\n",
      "-p PROTO  --xauth-protocol=PROTO    X authority protocol name to use\n",
      "                                    (default: xauth command's default)\n",
      "-s ARGS   --server-args=ARGS        arguments (other than server number and\n",
      "                                    \"-nolisten tcp\") to pass to the Xvfb server\n",
      "                                    (default: \"-screen 0 640x480x8\")\n",
      "-w DELAY  --wait=DELAY              delay in seconds to wait for Xvfb to start\n",
      "                                    before running COMMAND (default: 3)\n"
     ]
    }
   ],
   "source": [
    "!{XVFB_PATH} --help"
   ]
  },
  {
   "cell_type": "code",
   "execution_count": null,
   "metadata": {},
   "outputs": [],
   "source": []
  }
 ],
 "metadata": {
  "interpreter": {
   "hash": "06ba18e7235aac9e9578e5cb0339dda8530a2db7f5b95196862af1240ab4b857"
  },
  "kernelspec": {
   "display_name": "Python 3.9.5 ('.venv': poetry)",
   "language": "python",
   "name": "python3"
  },
  "language_info": {
   "codemirror_mode": {
    "name": "ipython",
    "version": 3
   },
   "file_extension": ".py",
   "mimetype": "text/x-python",
   "name": "python",
   "nbconvert_exporter": "python",
   "pygments_lexer": "ipython3",
   "version": "3.9.5"
  },
  "orig_nbformat": 4
 },
 "nbformat": 4,
 "nbformat_minor": 2
}
