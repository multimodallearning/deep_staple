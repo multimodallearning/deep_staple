{
 "cells": [
  {
   "cell_type": "code",
   "execution_count": 1,
   "metadata": {},
   "outputs": [],
   "source": [
    "from pathlib import Path\n",
    "import tarfile\n",
    "import os\n",
    "import subprocess\n",
    "import shlex\n",
    "import json\n",
    "\n",
    "from curriculum_deeplab.utils import get_script_dir\n",
    "THIS_SCRIPT_DIR = get_script_dir()"
   ]
  },
  {
   "cell_type": "markdown",
   "metadata": {},
   "source": [
    "### Download TCIA data"
   ]
  },
  {
   "cell_type": "code",
   "execution_count": 6,
   "metadata": {},
   "outputs": [
    {
     "name": "stdout",
     "output_type": "stream",
     "text": [
      "  % Total    % Received % Xferd  Average Speed   Time    Time     Time  Current\n",
      "                                 Dload  Upload   Total   Spent    Left  Speed\n",
      "100  120k  100  120k    0     0  77820      0  0:00:01  0:00:01 --:--:-- 77998\n",
      "  % Total    % Received % Xferd  Average Speed   Time    Time     Time  Current\n",
      "                                 Dload  Upload   Total   Spent    Left  Speed\n",
      "100 15.9M  100 15.9M    0     0   333k      0  0:00:48  0:00:48 --:--:--  294k   0  0:00:45  0:00:18  0:00:27  273k0:00:49  0:00:49 --:--:--  271k\n"
     ]
    }
   ],
   "source": [
    "# Download TCIA manifest file \n",
    "# https://wiki.cancerimagingarchive.net/pages/viewpage.action?pageId=70229053\n",
    "TCIA_DATA_DIR = Path(THIS_SCRIPT_DIR, \"tmp/tcia_data\")\n",
    "TCIA_DATA_CONVENIENT_DIR = Path(THIS_SCRIPT_DIR, \"tmp/tcia_data_convenient\")\n",
    "TCIA_DATA_BASIC_PREPROCESSING_DIR = Path(THIS_SCRIPT_DIR, \"tmp/tcia_data_preprocessed\")\n",
    "CROSSMODA_DATALOADER_DIR = Path(THIS_SCRIPT_DIR, \"tmp/crossmoda_data_dataloader\")\n",
    "\n",
    "tcia_file_path = TCIA_DATA_DIR.joinpath(\"VS.tcia\")\n",
    "tcia_contours_path = TCIA_DATA_DIR.joinpath(\"Vestibular-Schwannoma-SEG_contours_Mar_2021.zip\")\n",
    "# tcia_reg_matrices_path = TCIA_DATA_DIR.joinpath(\"Vestibular-Schwannoma-SEG_matrices_Mar_2021.zip\")\n",
    "TCIA_DATA_DIR.mkdir(parents=True, exist_ok=True)\n",
    "TCIA_DATA_CONVENIENT_DIR.mkdir(parents=True, exist_ok=True)\n",
    "TCIA_DATA_BASIC_PREPROCESSING_DIR.mkdir(parents=True, exist_ok=True)\n",
    "CROSSMODA_DATALOADER_DIR.mkdir(parents=True, exist_ok=True)\n",
    "\n",
    "URL_TCIA = '\"https://wiki.cancerimagingarchive.net/download/attachments/70229053/Vestibular-Schwannoma-SEG%20Feb%202021%20manifest.tcia?api=v2\"'\n",
    "URL_TCIA_CONTOURS = '\"https://wiki.cancerimagingarchive.net/download/attachments/70229053/Vestibular-Schwannoma-SEG%20contours%20Mar%202021.zip?api=v2\"'\n",
    "# URL_TCIA_REGISTION_MATRICES = '\"https://wiki.cancerimagingarchive.net/download/attachments/70229053/Vestibular-Schwannoma-SEG_matrices%20Mar%202021.zip?api=v2\"'\n",
    "\n",
    "!curl {URL_TCIA} -o {tcia_file_path}\n",
    "!curl {URL_TCIA_CONTOURS} -o {tcia_contours_path}\n",
    "# !curl {URL_TCIA_REGISTION_MATRICES} -o {tcia_reg_matrices_path}"
   ]
  },
  {
   "cell_type": "code",
   "execution_count": 28,
   "metadata": {},
   "outputs": [
    {
     "ename": "ValueError",
     "evalue": "TCIA token could not be fetched. Please check your credentials.",
     "output_type": "error",
     "traceback": [
      "\u001b[0;31m---------------------------------------------------------------------------\u001b[0m",
      "\u001b[0;31mKeyError\u001b[0m                                  Traceback (most recent call last)",
      "\u001b[0;32m/tmp/ipykernel_26591/202066241.py\u001b[0m in \u001b[0;36mrequest_token\u001b[0;34m(username, password, client_id, client_secret)\u001b[0m\n\u001b[1;32m     17\u001b[0m     \u001b[0;32mtry\u001b[0m\u001b[0;34m:\u001b[0m\u001b[0;34m\u001b[0m\u001b[0;34m\u001b[0m\u001b[0m\n\u001b[0;32m---> 18\u001b[0;31m         \u001b[0mtoken\u001b[0m \u001b[0;34m=\u001b[0m \u001b[0mjson\u001b[0m\u001b[0;34m.\u001b[0m\u001b[0mloads\u001b[0m\u001b[0;34m(\u001b[0m\u001b[0mquery_output\u001b[0m\u001b[0;34m)\u001b[0m\u001b[0;34m[\u001b[0m\u001b[0;34m'access_token'\u001b[0m\u001b[0;34m]\u001b[0m\u001b[0;34m\u001b[0m\u001b[0;34m\u001b[0m\u001b[0m\n\u001b[0m\u001b[1;32m     19\u001b[0m     \u001b[0;32mexcept\u001b[0m \u001b[0;34m(\u001b[0m\u001b[0mjson\u001b[0m\u001b[0;34m.\u001b[0m\u001b[0mJSONDecodeError\u001b[0m\u001b[0;34m,\u001b[0m \u001b[0mKeyError\u001b[0m\u001b[0;34m)\u001b[0m\u001b[0;34m:\u001b[0m\u001b[0;34m\u001b[0m\u001b[0;34m\u001b[0m\u001b[0m\n",
      "\u001b[0;31mKeyError\u001b[0m: 'access_token'",
      "\nDuring handling of the above exception, another exception occurred:\n",
      "\u001b[0;31mValueError\u001b[0m                                Traceback (most recent call last)",
      "\u001b[0;32m/tmp/ipykernel_26591/202066241.py\u001b[0m in \u001b[0;36m<module>\u001b[0;34m\u001b[0m\n\u001b[1;32m     45\u001b[0m \u001b[0;31m# all_series_ids = [\"1.3.6.1.4.1.9590.100.1.2.374115997511889073021386151921807063992\"]\u001b[0m\u001b[0;34m\u001b[0m\u001b[0;34m\u001b[0m\u001b[0;34m\u001b[0m\u001b[0m\n\u001b[1;32m     46\u001b[0m \u001b[0;34m\u001b[0m\u001b[0m\n\u001b[0;32m---> 47\u001b[0;31m \u001b[0mtoken\u001b[0m \u001b[0;34m=\u001b[0m \u001b[0mrequest_token\u001b[0m\u001b[0;34m(\u001b[0m\u001b[0minput\u001b[0m\u001b[0;34m(\u001b[0m\u001b[0;34m\"Enter TCIA username\"\u001b[0m\u001b[0;34m)\u001b[0m\u001b[0;34m,\u001b[0m \u001b[0minput\u001b[0m\u001b[0;34m(\u001b[0m\u001b[0;34m\"Enter TCIA password\"\u001b[0m\u001b[0;34m)\u001b[0m\u001b[0;34m,\u001b[0m \u001b[0minput\u001b[0m\u001b[0;34m(\u001b[0m\u001b[0;34m\"Enter TCIA client_id from helpdesk\"\u001b[0m\u001b[0;34m)\u001b[0m\u001b[0;34m,\u001b[0m \u001b[0minput\u001b[0m\u001b[0;34m(\u001b[0m\u001b[0;34m\"Enter TCIA client_secret from helpdesk\"\u001b[0m\u001b[0;34m)\u001b[0m\u001b[0;34m)\u001b[0m\u001b[0;34m\u001b[0m\u001b[0;34m\u001b[0m\u001b[0m\n\u001b[0m\u001b[1;32m     48\u001b[0m \u001b[0;34m\u001b[0m\u001b[0m\n\u001b[1;32m     49\u001b[0m \u001b[0;32mfor\u001b[0m \u001b[0msid\u001b[0m \u001b[0;32min\u001b[0m \u001b[0mall_series_ids\u001b[0m\u001b[0;34m:\u001b[0m\u001b[0;34m\u001b[0m\u001b[0;34m\u001b[0m\u001b[0m\n",
      "\u001b[0;32m/tmp/ipykernel_26591/202066241.py\u001b[0m in \u001b[0;36mrequest_token\u001b[0;34m(username, password, client_id, client_secret)\u001b[0m\n\u001b[1;32m     18\u001b[0m         \u001b[0mtoken\u001b[0m \u001b[0;34m=\u001b[0m \u001b[0mjson\u001b[0m\u001b[0;34m.\u001b[0m\u001b[0mloads\u001b[0m\u001b[0;34m(\u001b[0m\u001b[0mquery_output\u001b[0m\u001b[0;34m)\u001b[0m\u001b[0;34m[\u001b[0m\u001b[0;34m'access_token'\u001b[0m\u001b[0;34m]\u001b[0m\u001b[0;34m\u001b[0m\u001b[0;34m\u001b[0m\u001b[0m\n\u001b[1;32m     19\u001b[0m     \u001b[0;32mexcept\u001b[0m \u001b[0;34m(\u001b[0m\u001b[0mjson\u001b[0m\u001b[0;34m.\u001b[0m\u001b[0mJSONDecodeError\u001b[0m\u001b[0;34m,\u001b[0m \u001b[0mKeyError\u001b[0m\u001b[0;34m)\u001b[0m\u001b[0;34m:\u001b[0m\u001b[0;34m\u001b[0m\u001b[0;34m\u001b[0m\u001b[0m\n\u001b[0;32m---> 20\u001b[0;31m         \u001b[0;32mraise\u001b[0m \u001b[0mValueError\u001b[0m\u001b[0;34m(\u001b[0m\u001b[0;34m\"TCIA token could not be fetched. Please check your credentials.\"\u001b[0m\u001b[0;34m)\u001b[0m\u001b[0;34m\u001b[0m\u001b[0;34m\u001b[0m\u001b[0m\n\u001b[0m\u001b[1;32m     21\u001b[0m \u001b[0;34m\u001b[0m\u001b[0m\n\u001b[1;32m     22\u001b[0m     \u001b[0;32mreturn\u001b[0m \u001b[0mtoken\u001b[0m\u001b[0;34m\u001b[0m\u001b[0;34m\u001b[0m\u001b[0m\n",
      "\u001b[0;31mValueError\u001b[0m: TCIA token could not be fetched. Please check your credentials."
     ]
    }
   ],
   "source": [
    "# https://wiki.cancerimagingarchive.net/display/Public/NBIA+Advanced+REST+API+Guide\n",
    "import re\n",
    "import zipfile\n",
    "series_pattern = re.compile(r\"^[0-9\\.]+$\")\n",
    "def get_list_of_series(tcia_manifest_file_path):\n",
    "    series_ids = []\n",
    "    with open(tcia_manifest_file_path, 'r') as tcia_manifest_file:\n",
    "        for line in tcia_manifest_file:\n",
    "            for match in re.finditer(series_pattern, line.strip()):\n",
    "                series_ids.append(match.group())\n",
    "    return series_ids\n",
    "\n",
    "def request_token(username, password, client_id, client_secret):\n",
    "    request_token_address = f\"'username={username}&password={password}&client_id={client_id}&client_secret={client_secret}&grant_type=password'\"\n",
    "    \n",
    "    query_output = subprocess.check_output(shlex.split(f\"curl -s -d {request_token_address} -X POST -k 'https://services.cancerimagingarchive.net/nbia-api/oauth/token'\"))\n",
    "    try:\n",
    "        token = json.loads(query_output)['access_token']\n",
    "    except (json.JSONDecodeError, KeyError):\n",
    "        raise ValueError(\"TCIA token could not be fetched. Please check your credentials.\")\n",
    "\n",
    "    return token\n",
    "\n",
    "def get_metadata(token, series_id):\n",
    "    rest_download_address = f\"https://services.cancerimagingarchive.net/nbia-api/services/v1/getSeriesMetaData?SeriesInstanceUID={series_id}\"\n",
    "    authorization_request = f'\"Authorization:Bearer {token}\"'\n",
    "    query_output = subprocess.check_output(shlex.split(f\"curl -s -k {rest_download_address}\"))\n",
    "\n",
    "    try:\n",
    "        metadata = json.loads(query_output)[0]\n",
    "    except (json.JSONDecodeError):\n",
    "        return None\n",
    "\n",
    "    return metadata\n",
    "    # !curl -k {rest_download_address} --output {output_path}\n",
    "\n",
    "def download_restricted_data(token, series_id, output_file_path):\n",
    "    rest_download_address = f\"https://services.cancerimagingarchive.net/nbia-api/services/v1/getImage?SeriesInstanceUID={series_id}\"\n",
    "    output_file_path.parent.mkdir(parents=True, exist_ok=True)\n",
    "    authorization_request = f'\"Authorization:Bearer {token}\"'\n",
    "    !curl -H {authorization_request} -k {rest_download_address} --output {output_file_path}\n",
    "\n",
    "# https://wiki.cancerimagingarchive.net/plugins/personalaccesstokens/usertokens.action\n",
    "all_series_ids = [get_list_of_series(tcia_file_path)[0]]\n",
    "# all_series_ids = [\"1.3.6.1.4.1.9590.100.1.2.374115997511889073021386151921807063992\"]\n",
    "\n",
    "token = request_token(input(\"Enter TCIA username\"), input(\"Enter TCIA password\"), input(\"Enter TCIA client_id from helpdesk\"), input(\"Enter TCIA client_secret from helpdesk\"))\n",
    "\n",
    "for sid in all_series_ids:\n",
    "    metadata = get_metadata(token, sid)\n",
    "    if not metadata: continue\n",
    "\n",
    "    zip_data_path = tcia_data_path.joinpath(metadata['Subject ID'] + \".zip\")\n",
    "    try:\n",
    "        with zipfile.ZipFile(zip_data_path) as zf:\n",
    "            pass\n",
    "    except (FileNotFoundError, zipfile.BadZipfile):\n",
    "        download_restricted_data(token, sid, zip_data_path)\n",
    "    "
   ]
  },
  {
   "cell_type": "markdown",
   "metadata": {},
   "source": [
    "### Preprocessing step 1: Run VS_Seg convenient filenames preprocessing"
   ]
  },
  {
   "cell_type": "code",
   "execution_count": 18,
   "metadata": {},
   "outputs": [
    {
     "name": "stdout",
     "output_type": "stream",
     "text": [
      "zsh:1: permission denied: /Users/christianweihsbach/code/curriculum_deeplab/curriculum_deeplab/preprocessing/tools/VS_Seg/preprocessing/TCIA_data_convert_into_convenient_folder_structure.py\n"
     ]
    }
   ],
   "source": [
    "CONVENIENT_SCRIPT = Path(THIS_SCRIPT_DIR, \"./tools/VS_Seg/preprocessing/TCIA_data_convert_into_convenient_folder_structure.py\")\n",
    "!{CONVENIENT_SCRIPT} --input {TCIA_DATA_DIR} --output {TCIA_DATA_CONVENIENT_DIR}"
   ]
  },
  {
   "cell_type": "markdown",
   "metadata": {},
   "source": [
    "### Preprocessing step 2: Run VS_Seg Slicer.org preprocessing"
   ]
  },
  {
   "cell_type": "code",
   "execution_count": 4,
   "metadata": {},
   "outputs": [
    {
     "name": "stderr",
     "output_type": "stream",
     "text": [
      "#1 [internal] load build definition from Dockerfile\n",
      "#1 sha256:b7d9d8f0dd504a6250456e464ab5249be1b170b4a532299f0bf163369c0bc863\n",
      "#1 transferring dockerfile: 37B 0.0s done\n",
      "#1 DONE 0.0s\n",
      "\n",
      "#2 [internal] load .dockerignore\n",
      "#2 sha256:d6f35e316f0fd8ff0397ab6b699e210a17705b7cc714c71c89fb26e656984562\n",
      "#2 transferring context: 2B done\n",
      "#2 DONE 0.0s\n",
      "\n",
      "#3 [internal] load metadata for docker.io/stevepieper/x11:latest\n",
      "#3 sha256:c0789341f0873bc22b92299d0986138851e1fdf9c0d4ad5eb04f3910bd2a78a2\n",
      "#3 DONE 1.9s\n",
      "\n",
      "#4 [ 1/23] FROM docker.io/stevepieper/x11:latest@sha256:bcf1410f89f11e3c8693fa2e8d6b352da6c1938bf520895cf1d6340188d37999\n",
      "#4 sha256:de6b7259924fadff7cfb60df7a5b7074f93c5170c4a27b26f8682a1d0806eb21\n",
      "#4 DONE 0.0s\n",
      "\n",
      "#15 [internal] load build context\n",
      "#15 sha256:3e98f7893152e9d0b846a3a96d0f223aab270e77db811b276d9b2d6e8a586c87\n",
      "#15 transferring context: 1.12kB done\n",
      "#15 DONE 0.0s\n",
      "\n",
      "#12 [ 9/23] RUN alias python=python3\n",
      "#12 sha256:dd1858b9ac9c78b55073c416c92b7d6c115c455e660bc74ba049371af7529dc0\n",
      "#12 CACHED\n",
      "\n",
      "#24 [20/23] RUN chown -R researcher:researcher /home/researcher/.config\n",
      "#24 sha256:7d1ae21f5651ac50aaaf310e2afdf68d8e88d12f38f4d5a242afd3a6cb79c49f\n",
      "#24 CACHED\n",
      "\n",
      "#8 [ 5/23] RUN apt-get install -y libxcb-shape0 libxcb-xinerama0 libxcb-xinerama0-dev\n",
      "#8 sha256:38a117fbab613fd58554d580bbceb94a90c3701e651ac02652a7792bc4541ed3\n",
      "#8 CACHED\n",
      "\n",
      "#6 [ 3/23] RUN apt-get install -y libpulse-dev libnss3 libglu1-mesa\n",
      "#6 sha256:0a942843db9e6b3a389e9d11bcb8ce6676bf2fafd78c98e54578222c99bffa1a\n",
      "#6 CACHED\n",
      "\n",
      "#20 [16/23] RUN su researcher -c \"mkdir /home/researcher/Documents\"\n",
      "#20 sha256:428190039f275a947db33264eaa42892e1ade7e777038287cc6911b417eaba9e\n",
      "#20 CACHED\n",
      "\n",
      "#10 [ 7/23] RUN apt-get install libgomp1\n",
      "#10 sha256:13c1bc69f35296521d70ff75c914d52af38d303ce47d118390367c62a78cbf7b\n",
      "#10 CACHED\n",
      "\n",
      "#25 [21/23] RUN LNUM=$(sed -n '/launcher_item_app/=' /etc/tint2/panel.tint2rc | head -1) &&   sed -i \"${LNUM}ilauncher_item_app = /opt/slicer/slicer.desktop\" /etc/tint2/panel.tint2rc\n",
      "#25 sha256:2a5c6a7374ce48e1616ff4b35493c556c2aceb5728caf26ae055448d99fdaae5\n",
      "#25 CACHED\n",
      "\n",
      "#19 [15/23] RUN chmod -R a+w /opt/slicer\n",
      "#19 sha256:83543eb5301bda789dd3a811e88d127d13090e686b11f97e052ddeb7bcb4aa4e\n",
      "#19 CACHED\n",
      "\n",
      "#7 [ 4/23] RUN apt-get install -y libxcb-icccm4 libxcb-image0 libxcb-keysyms1 libxcb-render-util0 libxcb-xkb1 libxkbcommon-x11-0\n",
      "#7 sha256:220e42ad46b146a023b79a711c1349b5467f81368b5c717689a14243155147f3\n",
      "#7 CACHED\n",
      "\n",
      "#9 [ 6/23] RUN apt-get install -y libxcb-icccm4-dev libxcb-image0-dev libxcb-keysyms1-dev libxcb-randr0 libxcb-xkb-dev libxkbcommon-x11-dev\n",
      "#9 sha256:9339b4d290bddd62b30be5d1d3aa8ed5b3936b3bb2cbea468488421ad7d1bf4a\n",
      "#9 CACHED\n",
      "\n",
      "#14 [11/23] RUN SLICER_RT_URL=\"https://slicer-packages.kitware.com/api/v1/item/60ae37baae4540bf6a89e617/download\" &&   curl -k -v -s -L $SLICER_RT_URL -o /tmp/29738-linux-amd64-SlicerRT-gitce6eefe-2021-08-27.tar.gz\n",
      "#14 sha256:9758db96b3e5104970fd5570a12eed2448cc599c3a9439767ac91a53874ae2b1\n",
      "#14 CACHED\n",
      "\n",
      "#18 [14/23] COPY /usr /usr\n",
      "#18 sha256:f8dea32793060f12543e8c1b8172cb5db64e103d167e4c37852c3862d6291c6b\n",
      "#18 CACHED\n",
      "\n",
      "#16 [12/23] COPY /etc /etc\n",
      "#16 sha256:ccf3c86a3ff585e21ef6cc840aa12c4fb06214008439f358a4c8b0f6e1c6e92a\n",
      "#16 CACHED\n",
      "\n",
      "#21 [17/23] COPY /home/researcher/Documents /home/researcher/Documents\n",
      "#21 sha256:5d58bc4fa94dcc1de7edda2e16b171241a4c80f57cadfa18da78027bd6a358e3\n",
      "#21 CACHED\n",
      "\n",
      "#22 [18/23] RUN chown -R researcher:researcher /home/researcher/Documents\n",
      "#22 sha256:1b7f81259ee517122301492e1b631ce67cbcd03d9e882bb17654c713264bff7b\n",
      "#22 CACHED\n",
      "\n",
      "#23 [19/23] COPY /home/researcher/.config /home/researcher/.config\n",
      "#23 sha256:1cb7580aead95d56507ed4d07d09f5c04e47fd725679fca8169038197c9ec176\n",
      "#23 CACHED\n",
      "\n",
      "#5 [ 2/23] RUN apt-get install -y libglu1-mesa\n",
      "#5 sha256:5d4ca360158c9ae6f1423ef936523787499e03110aec93674f6ff5a85ee451ee\n",
      "#5 CACHED\n",
      "\n",
      "#11 [ 8/23] RUN apt-get install xvfb\n",
      "#11 sha256:25218a4fe6735758cfbd0feea78b65a6cb3777447be702b6aa3ed6f8dcc320b8\n",
      "#11 CACHED\n",
      "\n",
      "#17 [13/23] COPY /opt /opt\n",
      "#17 sha256:703d3ca83ef99da03e5817ba77fcfa3b3aea5874fb08245f61df3ae9089e3028\n",
      "#17 CACHED\n",
      "\n",
      "#13 [10/23] RUN SLICER_URL=\"https://download.slicer.org/bitstream/60add706ae4540bf6a89bf98\" &&   curl -k -v -s -L $SLICER_URL | tar xz -C /tmp &&   mv /tmp/Slicer* /opt/slicer\n",
      "#13 sha256:83bfd21761698d5b3a331350e769856be7255bfbce222d3a592e40eb1a09bcbc\n",
      "#13 CACHED\n",
      "\n",
      "#26 [22/23] RUN echo \"bash /tmp/shared/startup.sh\" > /home/researcher/.xinitrc\n",
      "#26 sha256:972fb0b2d514a805ba3e954e0cf221c4aedfc487da6ca6a75a89c95cd32c96db\n",
      "#26 CACHED\n",
      "\n",
      "#27 [23/23] RUN startx &\n",
      "#27 sha256:28db7a1f41632480bd2fc1b27068e85082f16301092f909c86540829592e1740\n",
      "#27 CACHED\n",
      "\n",
      "#28 exporting to image\n",
      "#28 sha256:e8c613e07b0b7ff33893b694f7759a10d42e180f2b4dc349fb57dc6b71dcab00\n",
      "#28 exporting layers done\n",
      "#28 writing image sha256:59165160fe815c57179e84efeb1c17aaed227934eff9c68f52aa7dbb3cdf0cb0 done\n",
      "#28 naming to docker.io/deep_staple/slicer:latest done\n",
      "#28 DONE 0.0s\n"
     ]
    },
    {
     "name": "stdout",
     "output_type": "stream",
     "text": [
      "\n",
      "Use 'docker scan' to run Snyk tests against images to find vulnerabilities and learn how to fix them\n"
     ]
    },
    {
     "data": {
      "text/plain": [
       "0"
      ]
     },
     "execution_count": 4,
     "metadata": {},
     "output_type": "execute_result"
    }
   ],
   "source": [
    "# Build Slicer.org docker\n",
    "build_dir = Path(THIS_SCRIPT_DIR, \"tools/SlicerDockers\")\n",
    "subprocess.call(build_dir.joinpath(\"build.sh\"), cwd=build_dir)"
   ]
  },
  {
   "cell_type": "code",
   "execution_count": 14,
   "metadata": {},
   "outputs": [
    {
     "name": "stdout",
     "output_type": "stream",
     "text": [
      "WARNING: The requested image's platform (linux/amd64) does not match the detected host platform (linux/arm64/v8) and no specific platform was requested\n",
      "2022-04-04 11:09:17,733 CRIT Supervisor running as root (no user in config file)\n",
      "2022-04-04 11:09:17,735 INFO Included extra file \"/etc/supervisord.d/easydav.conf\" during parsing\n",
      "2022-04-04 11:09:17,735 INFO Included extra file \"/etc/supervisord.d/gotty.conf\" during parsing\n",
      "2022-04-04 11:09:17,735 INFO Included extra file \"/etc/supervisord.d/nginx.conf\" during parsing\n",
      "2022-04-04 11:09:17,736 INFO Included extra file \"/etc/supervisord.d/websockify.conf\" during parsing\n",
      "2022-04-04 11:09:17,736 INFO Included extra file \"/etc/supervisord.d/x11vnc.conf\" during parsing\n",
      "2022-04-04 11:09:17,736 INFO Included extra file \"/etc/supervisord.d/xdummy.conf\" during parsing\n",
      "2022-04-04 11:09:17,736 INFO Included extra file \"/etc/supervisord.d/xinitrc.conf\" during parsing\n",
      "2022-04-04 11:09:17,739 INFO Creating socket unix:///var/run/easydav.sock\n",
      "2022-04-04 11:09:17,740 INFO Closing socket unix:///var/run/easydav.sock\n",
      "2022-04-04 11:09:17,759 INFO RPC interface 'supervisor' initialized\n",
      "2022-04-04 11:09:17,759 CRIT Server 'unix_http_server' running without any HTTP authentication checking\n",
      "2022-04-04 11:09:17,760 INFO supervisord started with pid 1\n",
      "2022-04-04 11:09:18,778 INFO spawned: 'websockify' with pid 15\n",
      "2022-04-04 11:09:18,790 INFO spawned: 'nginx' with pid 17\n",
      "2022-04-04 11:09:18,800 INFO spawned: 'gotty' with pid 19\n",
      "2022-04-04 11:09:18,801 INFO Creating socket unix:///var/run/easydav.sock\n",
      "2022-04-04 11:09:18,809 INFO spawned: 'easydav' with pid 21\n",
      "2022-04-04 11:09:18,815 INFO spawned: 'x11vnc' with pid 23\n",
      "2022-04-04 11:09:18,820 INFO spawned: 'xdummy' with pid 25\n",
      "2022-04-04 11:09:18,827 INFO spawned: 'xinitrc' with pid 26\n",
      "2022-04-04 11:09:18,868 INFO success: xinitrc entered RUNNING state, process has stayed up for > than 0 seconds (startsecs)\n",
      "2022-04-04 11:09:18,881 INFO exited: gotty (exit status 2; not expected)\n",
      "2022-04-04 11:09:18,913 INFO exited: xinitrc (exit status 0; expected)\n",
      "2022-04-04 11:09:19,064 INFO exited: x11vnc (exit status 1; not expected)\n",
      "2022-04-04 11:09:19,831 INFO success: websockify entered RUNNING state, process has stayed up for > than 1 seconds (startsecs)\n",
      "2022-04-04 11:09:19,831 INFO success: nginx entered RUNNING state, process has stayed up for > than 1 seconds (startsecs)\n",
      "2022-04-04 11:09:19,831 INFO success: easydav entered RUNNING state, process has stayed up for > than 1 seconds (startsecs)\n",
      "2022-04-04 11:09:19,831 INFO success: xdummy entered RUNNING state, process has stayed up for > than 1 seconds (startsecs)\n",
      "2022-04-04 11:09:20,846 INFO spawned: 'gotty' with pid 105\n",
      "2022-04-04 11:09:20,857 INFO spawned: 'x11vnc' with pid 107\n",
      "2022-04-04 11:09:20,911 INFO exited: gotty (exit status 2; not expected)\n",
      "2022-04-04 11:09:22,113 INFO success: x11vnc entered RUNNING state, process has stayed up for > than 1 seconds (startsecs)\n",
      "2022-04-04 11:09:23,119 INFO spawned: 'gotty' with pid 122\n",
      "2022-04-04 11:09:23,147 INFO exited: gotty (exit status 2; not expected)\n",
      "2022-04-04 11:09:26,177 INFO spawned: 'gotty' with pid 125\n",
      "2022-04-04 11:09:26,244 INFO exited: gotty (exit status 2; not expected)\n",
      "2022-04-04 11:09:27,247 INFO gave up: gotty entered FATAL state, too many start retries too quickly\n",
      "2022-04-04 11:14:47,587 WARN received SIGTERM indicating exit request\n",
      "2022-04-04 11:14:47,588 INFO waiting for websockify, nginx, easydav, x11vnc, xdummy to die\n",
      "2022-04-04 11:14:48,107 INFO reaped unknown pid 131\n",
      "2022-04-04 11:14:48,108 INFO reaped unknown pid 171\n",
      "2022-04-04 11:14:48,288 INFO exited: x11vnc (exit status 3; not expected)\n",
      "2022-04-04 11:14:48,398 INFO reaped unknown pid 175\n",
      "2022-04-04 11:14:49,098 INFO reaped unknown pid 128\n",
      "2022-04-04 11:14:49,103 INFO stopped: xdummy (exit status 1)\n",
      "2022-04-04 11:14:50,120 INFO stopped: easydav (terminated by SIGTERM)\n",
      "2022-04-04 11:14:50,121 INFO Closing socket unix:///var/run/easydav.sock\n",
      "2022-04-04 11:14:50,126 INFO stopped: nginx (terminated by SIGKILL)\n",
      "2022-04-04 11:14:50,205 INFO stopped: websockify (exit status 0)\n"
     ]
    }
   ],
   "source": [
    "SHARED_DIR = Path(THIS_SCRIPT_DIR, \"tools/docker_shared\")\n",
    "SHARED_INPUT_DIR = TCIA_DATA_CONVENIENT_DIR\n",
    "SHARED_INPUT_DIR = Path(\"/Users/christianweihsbach/tcia_mangling_tmp/tcia_crossmoda_001_250_convenient\") # TODO remove\n",
    "SHARED_OUTPUT_DIR = TCIA_DATA_BASIC_PREPROCESSING_DIR\n",
    "\n",
    "SLICER_PREPROCESSING_SCRIPT_PATH = Path(THIS_SCRIPT_DIR, \"./tools/VS_Seg/preprocessing/data_conversion.py\")\n",
    "!cp {SLICER_PREPROCESSING_SCRIPT_PATH} {SHARED_DIR}\n",
    "\n",
    "# Run docker container and script. \n",
    "# Running this script will take time. Connect to localhost:8080/ to see process\n",
    "# Run built docker file\n",
    "docker_cmd = f'docker run -v {SHARED_DIR}:/tmp/shared -v {SHARED_INPUT_DIR}:/tmp/shared_input -v {SHARED_OUTPUT_DIR}:/tmp/shared_output -p 8080:8080 --rm -it deep_staple/slicer'\n",
    "!{docker_cmd}"
   ]
  },
  {
   "cell_type": "markdown",
   "metadata": {},
   "source": [
    "### Preprocessing step 3: Prepare dataloader file structure"
   ]
  },
  {
   "cell_type": "code",
   "execution_count": 23,
   "metadata": {},
   "outputs": [
    {
     "name": "stdout",
     "output_type": "stream",
     "text": [
      "100%|███████████████████████████████████████| 1434/1434 [06:49<00:00,  3.50it/s]\n"
     ]
    }
   ],
   "source": [
    "TCIA_TO_CROSSMODA_SCRIPT = Path(THIS_SCRIPT_DIR, \"./tools/dataloader_preparation/tcia_to_crossmoda.py\")\n",
    "\n",
    "run_cmd = f\"{TCIA_TO_CROSSMODA_SCRIPT} --input {TCIA_DATA_BASIC_PREPROCESSING_DIR} --output {CROSSMODA_DATALOADER_DIR}\"\n",
    "!python {run_cmd}"
   ]
  },
  {
   "cell_type": "markdown",
   "metadata": {},
   "source": [
    "### Preprocessing step 4: Add dataloader data levels l1 to l4"
   ]
  },
  {
   "cell_type": "code",
   "execution_count": null,
   "metadata": {},
   "outputs": [],
   "source": [
    "BUILD_LEVELS_SCRIPT = Path(THIS_SCIPTS_DIR, \"build_levels.py\")\n",
    "\n",
    "!{BUILD_LEVELS_SCRIPT} --input {}"
   ]
  }
 ],
 "metadata": {
  "interpreter": {
   "hash": "06ba18e7235aac9e9578e5cb0339dda8530a2db7f5b95196862af1240ab4b857"
  },
  "kernelspec": {
   "display_name": "Python 3.9.5 ('.venv': poetry)",
   "language": "python",
   "name": "python3"
  },
  "language_info": {
   "codemirror_mode": {
    "name": "ipython",
    "version": 3
   },
   "file_extension": ".py",
   "mimetype": "text/x-python",
   "name": "python",
   "nbconvert_exporter": "python",
   "pygments_lexer": "ipython3",
   "version": "3.9.10"
  },
  "orig_nbformat": 4
 },
 "nbformat": 4,
 "nbformat_minor": 2
}
