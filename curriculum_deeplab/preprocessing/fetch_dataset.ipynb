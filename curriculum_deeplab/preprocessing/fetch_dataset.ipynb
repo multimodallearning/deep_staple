{
 "cells": [
  {
   "cell_type": "code",
   "execution_count": 2,
   "metadata": {},
   "outputs": [],
   "source": [
    "from pathlib import Path\n",
    "import tarfile\n",
    "import os\n",
    "import subprocess\n",
    "import shlex\n",
    "import json\n",
    "\n",
    "from curriculum_deeplab.utils import get_script_dir\n",
    "THIS_SCRIPT_DIR = get_script_dir()"
   ]
  },
  {
   "cell_type": "code",
   "execution_count": 5,
   "metadata": {},
   "outputs": [],
   "source": [
    "# Download slic3er:\n",
    "# https://download.slicer.org/\n",
    "\n",
    "URL_SLICER_LINUX = \"https://slicer-packages.kitware.com/api/v1/item/60add706ae4540bf6a89bf98/download\"\n",
    "tool_path = Path(THIS_SCRIPT_DIR, \"tmp/tools\")\n",
    "slicer_tar_path = Path(tool_path, \"slicer.tar.gz\")\n",
    "slicer_tar_path.parent.mkdir(parents=True, exist_ok=True)\n",
    "!wget {URL_SLICER_LINUX} -O {slicer_tar_path}"
   ]
  },
  {
   "cell_type": "markdown",
   "metadata": {},
   "source": [
    "### Download TCIA data"
   ]
  },
  {
   "cell_type": "code",
   "execution_count": 20,
   "metadata": {},
   "outputs": [
    {
     "name": "stdout",
     "output_type": "stream",
     "text": [
      "zsh:1: no matches found: https://wiki.cancerimagingarchive.net/download/attachments/70229053/Vestibular-Schwannoma-SEG%20Feb%202021%20manifest.tcia?api=v2\n"
     ]
    }
   ],
   "source": [
    "# Download TCIA manifest file \n",
    "# https://wiki.cancerimagingarchive.net/pages/viewpage.action?pageId=70229053\n",
    "TCIA_DATA_DIR = Path(THIS_SCRIPT_DIR, \"tmp/tcia_data\")\n",
    "TCIA_DATA_CONVENIENT_DIR = Path(THIS_SCRIPT_DIR, \"tmp/tcia_data_convenient\")\n",
    "TCIA_DATA_BASIC_PREPROCESSING_DIR = Path(THIS_SCRIPT_DIR, \"tmp/tcia_data_preprocessed\")\n",
    "CROSSMODA_DATALOADER_DIR = Path(THIS_SCRIPT_DIR, \"tmp/crossmoda_data_dataloader\")\n",
    "\n",
    "tcia_file_path = TCIA_DATA_DIR.joinpath(\"VS.tcia\")\n",
    "TCIA_DATA_DIR.mkdir(parents=True, exist_ok=True)\n",
    "TCIA_DATA_CONVENIENT_DIR.mkdir(parents=True, exist_ok=True)\n",
    "TCIA_DATA_BASIC_PREPROCESSING_DIR.mkdir(parents=True, exist_ok=True)\n",
    "TCIA_DATALOADER_DIR.mkdir(parents=True, exist_ok=True)\n",
    "\n",
    "URL_TCIA = \"https://wiki.cancerimagingarchive.net/download/attachments/70229053/Vestibular-Schwannoma-SEG%20Feb%202021%20manifest.tcia?api=v2\"\n",
    "\n",
    "!wget {URL_TCIA} -O {tcia_file_path}"
   ]
  },
  {
   "cell_type": "code",
   "execution_count": 28,
   "metadata": {},
   "outputs": [
    {
     "ename": "ValueError",
     "evalue": "TCIA token could not be fetched. Please check your credentials.",
     "output_type": "error",
     "traceback": [
      "\u001b[0;31m---------------------------------------------------------------------------\u001b[0m",
      "\u001b[0;31mKeyError\u001b[0m                                  Traceback (most recent call last)",
      "\u001b[0;32m/tmp/ipykernel_26591/202066241.py\u001b[0m in \u001b[0;36mrequest_token\u001b[0;34m(username, password, client_id, client_secret)\u001b[0m\n\u001b[1;32m     17\u001b[0m     \u001b[0;32mtry\u001b[0m\u001b[0;34m:\u001b[0m\u001b[0;34m\u001b[0m\u001b[0;34m\u001b[0m\u001b[0m\n\u001b[0;32m---> 18\u001b[0;31m         \u001b[0mtoken\u001b[0m \u001b[0;34m=\u001b[0m \u001b[0mjson\u001b[0m\u001b[0;34m.\u001b[0m\u001b[0mloads\u001b[0m\u001b[0;34m(\u001b[0m\u001b[0mquery_output\u001b[0m\u001b[0;34m)\u001b[0m\u001b[0;34m[\u001b[0m\u001b[0;34m'access_token'\u001b[0m\u001b[0;34m]\u001b[0m\u001b[0;34m\u001b[0m\u001b[0;34m\u001b[0m\u001b[0m\n\u001b[0m\u001b[1;32m     19\u001b[0m     \u001b[0;32mexcept\u001b[0m \u001b[0;34m(\u001b[0m\u001b[0mjson\u001b[0m\u001b[0;34m.\u001b[0m\u001b[0mJSONDecodeError\u001b[0m\u001b[0;34m,\u001b[0m \u001b[0mKeyError\u001b[0m\u001b[0;34m)\u001b[0m\u001b[0;34m:\u001b[0m\u001b[0;34m\u001b[0m\u001b[0;34m\u001b[0m\u001b[0m\n",
      "\u001b[0;31mKeyError\u001b[0m: 'access_token'",
      "\nDuring handling of the above exception, another exception occurred:\n",
      "\u001b[0;31mValueError\u001b[0m                                Traceback (most recent call last)",
      "\u001b[0;32m/tmp/ipykernel_26591/202066241.py\u001b[0m in \u001b[0;36m<module>\u001b[0;34m\u001b[0m\n\u001b[1;32m     45\u001b[0m \u001b[0;31m# all_series_ids = [\"1.3.6.1.4.1.9590.100.1.2.374115997511889073021386151921807063992\"]\u001b[0m\u001b[0;34m\u001b[0m\u001b[0;34m\u001b[0m\u001b[0;34m\u001b[0m\u001b[0m\n\u001b[1;32m     46\u001b[0m \u001b[0;34m\u001b[0m\u001b[0m\n\u001b[0;32m---> 47\u001b[0;31m \u001b[0mtoken\u001b[0m \u001b[0;34m=\u001b[0m \u001b[0mrequest_token\u001b[0m\u001b[0;34m(\u001b[0m\u001b[0minput\u001b[0m\u001b[0;34m(\u001b[0m\u001b[0;34m\"Enter TCIA username\"\u001b[0m\u001b[0;34m)\u001b[0m\u001b[0;34m,\u001b[0m \u001b[0minput\u001b[0m\u001b[0;34m(\u001b[0m\u001b[0;34m\"Enter TCIA password\"\u001b[0m\u001b[0;34m)\u001b[0m\u001b[0;34m,\u001b[0m \u001b[0minput\u001b[0m\u001b[0;34m(\u001b[0m\u001b[0;34m\"Enter TCIA client_id from helpdesk\"\u001b[0m\u001b[0;34m)\u001b[0m\u001b[0;34m,\u001b[0m \u001b[0minput\u001b[0m\u001b[0;34m(\u001b[0m\u001b[0;34m\"Enter TCIA client_secret from helpdesk\"\u001b[0m\u001b[0;34m)\u001b[0m\u001b[0;34m)\u001b[0m\u001b[0;34m\u001b[0m\u001b[0;34m\u001b[0m\u001b[0m\n\u001b[0m\u001b[1;32m     48\u001b[0m \u001b[0;34m\u001b[0m\u001b[0m\n\u001b[1;32m     49\u001b[0m \u001b[0;32mfor\u001b[0m \u001b[0msid\u001b[0m \u001b[0;32min\u001b[0m \u001b[0mall_series_ids\u001b[0m\u001b[0;34m:\u001b[0m\u001b[0;34m\u001b[0m\u001b[0;34m\u001b[0m\u001b[0m\n",
      "\u001b[0;32m/tmp/ipykernel_26591/202066241.py\u001b[0m in \u001b[0;36mrequest_token\u001b[0;34m(username, password, client_id, client_secret)\u001b[0m\n\u001b[1;32m     18\u001b[0m         \u001b[0mtoken\u001b[0m \u001b[0;34m=\u001b[0m \u001b[0mjson\u001b[0m\u001b[0;34m.\u001b[0m\u001b[0mloads\u001b[0m\u001b[0;34m(\u001b[0m\u001b[0mquery_output\u001b[0m\u001b[0;34m)\u001b[0m\u001b[0;34m[\u001b[0m\u001b[0;34m'access_token'\u001b[0m\u001b[0;34m]\u001b[0m\u001b[0;34m\u001b[0m\u001b[0;34m\u001b[0m\u001b[0m\n\u001b[1;32m     19\u001b[0m     \u001b[0;32mexcept\u001b[0m \u001b[0;34m(\u001b[0m\u001b[0mjson\u001b[0m\u001b[0;34m.\u001b[0m\u001b[0mJSONDecodeError\u001b[0m\u001b[0;34m,\u001b[0m \u001b[0mKeyError\u001b[0m\u001b[0;34m)\u001b[0m\u001b[0;34m:\u001b[0m\u001b[0;34m\u001b[0m\u001b[0;34m\u001b[0m\u001b[0m\n\u001b[0;32m---> 20\u001b[0;31m         \u001b[0;32mraise\u001b[0m \u001b[0mValueError\u001b[0m\u001b[0;34m(\u001b[0m\u001b[0;34m\"TCIA token could not be fetched. Please check your credentials.\"\u001b[0m\u001b[0;34m)\u001b[0m\u001b[0;34m\u001b[0m\u001b[0;34m\u001b[0m\u001b[0m\n\u001b[0m\u001b[1;32m     21\u001b[0m \u001b[0;34m\u001b[0m\u001b[0m\n\u001b[1;32m     22\u001b[0m     \u001b[0;32mreturn\u001b[0m \u001b[0mtoken\u001b[0m\u001b[0;34m\u001b[0m\u001b[0;34m\u001b[0m\u001b[0m\n",
      "\u001b[0;31mValueError\u001b[0m: TCIA token could not be fetched. Please check your credentials."
     ]
    }
   ],
   "source": [
    "# https://wiki.cancerimagingarchive.net/display/Public/NBIA+Advanced+REST+API+Guide\n",
    "import re\n",
    "import zipfile\n",
    "series_pattern = re.compile(r\"^[0-9\\.]+$\")\n",
    "def get_list_of_series(tcia_manifest_file_path):\n",
    "    series_ids = []\n",
    "    with open(tcia_manifest_file_path, 'r') as tcia_manifest_file:\n",
    "        for line in tcia_manifest_file:\n",
    "            for match in re.finditer(series_pattern, line.strip()):\n",
    "                series_ids.append(match.group())\n",
    "    return series_ids\n",
    "\n",
    "def request_token(username, password, client_id, client_secret):\n",
    "    request_token_address = f\"'username={username}&password={password}&client_id={client_id}&client_secret={client_secret}&grant_type=password'\"\n",
    "    \n",
    "    query_output = subprocess.check_output(shlex.split(f\"curl -s -d {request_token_address} -X POST -k 'https://services.cancerimagingarchive.net/nbia-api/oauth/token'\"))\n",
    "    try:\n",
    "        token = json.loads(query_output)['access_token']\n",
    "    except (json.JSONDecodeError, KeyError):\n",
    "        raise ValueError(\"TCIA token could not be fetched. Please check your credentials.\")\n",
    "\n",
    "    return token\n",
    "\n",
    "def get_metadata(token, series_id):\n",
    "    rest_download_address = f\"https://services.cancerimagingarchive.net/nbia-api/services/v1/getSeriesMetaData?SeriesInstanceUID={series_id}\"\n",
    "    authorization_request = f'\"Authorization:Bearer {token}\"'\n",
    "    query_output = subprocess.check_output(shlex.split(f\"curl -s -k {rest_download_address}\"))\n",
    "\n",
    "    try:\n",
    "        metadata = json.loads(query_output)[0]\n",
    "    except (json.JSONDecodeError):\n",
    "        return None\n",
    "\n",
    "    return metadata\n",
    "    # !curl -k {rest_download_address} --output {output_path}\n",
    "\n",
    "def download_restricted_data(token, series_id, output_file_path):\n",
    "    rest_download_address = f\"https://services.cancerimagingarchive.net/nbia-api/services/v1/getImage?SeriesInstanceUID={series_id}\"\n",
    "    output_file_path.parent.mkdir(parents=True, exist_ok=True)\n",
    "    authorization_request = f'\"Authorization:Bearer {token}\"'\n",
    "    !curl -H {authorization_request} -k {rest_download_address} --output {output_file_path}\n",
    "\n",
    "# https://wiki.cancerimagingarchive.net/plugins/personalaccesstokens/usertokens.action\n",
    "all_series_ids = [get_list_of_series(tcia_file_path)[0]]\n",
    "# all_series_ids = [\"1.3.6.1.4.1.9590.100.1.2.374115997511889073021386151921807063992\"]\n",
    "\n",
    "token = request_token(input(\"Enter TCIA username\"), input(\"Enter TCIA password\"), input(\"Enter TCIA client_id from helpdesk\"), input(\"Enter TCIA client_secret from helpdesk\"))\n",
    "\n",
    "for sid in all_series_ids:\n",
    "    metadata = get_metadata(token, sid)\n",
    "    if not metadata: continue\n",
    "\n",
    "    zip_data_path = tcia_data_path.joinpath(metadata['Subject ID'] + \".zip\")\n",
    "    try:\n",
    "        with zipfile.ZipFile(zip_data_path) as zf:\n",
    "            pass\n",
    "    except (FileNotFoundError, zipfile.BadZipfile):\n",
    "        download_restricted_data(token, sid, zip_data_path)\n",
    "    "
   ]
  },
  {
   "cell_type": "code",
   "execution_count": 51,
   "metadata": {},
   "outputs": [
    {
     "name": "stdout",
     "output_type": "stream",
     "text": [
      "{\"error\":\"unauthorized\",\"error_description\":\"An Authentication object was not found in the SecurityContext\"}"
     ]
    }
   ],
   "source": [
    "!curl -d \"username=nbia_guest\" -X POST -k https://services.cancerimagingarchive.net/nbia-api/oauth/token"
   ]
  },
  {
   "cell_type": "markdown",
   "metadata": {},
   "source": [
    "### Preprocessing step 1: Run VS_Seg convenient filenames preprocessing"
   ]
  },
  {
   "cell_type": "code",
   "execution_count": 18,
   "metadata": {},
   "outputs": [
    {
     "name": "stdout",
     "output_type": "stream",
     "text": [
      "zsh:1: permission denied: /Users/christianweihsbach/code/curriculum_deeplab/curriculum_deeplab/preprocessing/tools/VS_Seg/preprocessing/TCIA_data_convert_into_convenient_folder_structure.py\n"
     ]
    }
   ],
   "source": [
    "CONVENIENT_SCRIPT = Path(THIS_SCRIPT_DIR, \"./tools/VS_Seg/preprocessing/TCIA_data_convert_into_convenient_folder_structure.py\")\n",
    "!{CONVENIENT_SCRIPT} --input {TCIA_DATA_DIR} --output {TCIA_DATA_CONVENIENT_DIR}"
   ]
  },
  {
   "cell_type": "markdown",
   "metadata": {},
   "source": [
    "### Preprocessing step 2: Run VS_Seg Slicer.org preprocessing"
   ]
  },
  {
   "cell_type": "code",
   "execution_count": 5,
   "metadata": {},
   "outputs": [
    {
     "name": "stderr",
     "output_type": "stream",
     "text": [
      "#1 [internal] load build definition from Dockerfile\n",
      "#1 sha256:095a2df15bc08459aa6ccb273d84699c70689e2dab96546cfa81ba4bc2bff98e\n",
      "#1 transferring dockerfile: 37B 0.0s done\n",
      "#1 DONE 0.0s\n",
      "\n",
      "#2 [internal] load .dockerignore\n",
      "#2 sha256:728344ba77264fc9f27da86c811ee5e48c0ff8331e62c778dda09c5e8401d6f1\n",
      "#2 transferring context: 2B done\n",
      "#2 DONE 0.0s\n",
      "\n",
      "#3 [internal] load metadata for docker.io/stevepieper/x11:latest\n",
      "#3 sha256:c0789341f0873bc22b92299d0986138851e1fdf9c0d4ad5eb04f3910bd2a78a2\n",
      "#3 DONE 1.7s\n",
      "\n",
      "#4 [ 1/23] FROM docker.io/stevepieper/x11:latest@sha256:bcf1410f89f11e3c8693fa2e8d6b352da6c1938bf520895cf1d6340188d37999\n",
      "#4 sha256:de6b7259924fadff7cfb60df7a5b7074f93c5170c4a27b26f8682a1d0806eb21\n",
      "#4 DONE 0.0s\n",
      "\n",
      "#15 [internal] load build context\n",
      "#15 sha256:95290becd431d80f48c6db54fb182a3fd541ffc7056a7c29383e9b27927078c2\n",
      "#15 transferring context: 1.82kB done\n",
      "#15 DONE 0.0s\n",
      "\n",
      "#16 [12/23] COPY /etc /etc\n",
      "#16 sha256:0233c2edfddb2a21ccba409e88196a3c8351e9ccaeb2a705f62566bbeba9f3d2\n",
      "#16 CACHED\n",
      "\n",
      "#21 [17/23] COPY /home/researcher/Documents /home/researcher/Documents\n",
      "#21 sha256:1b033e1a2c2b5f4b392ff57e3bbe53ea45db149ef7fd1cd5cff0317ffeb5174e\n",
      "#21 CACHED\n",
      "\n",
      "#14 [11/23] RUN SLICER_RT_URL=\"https://slicer-packages.kitware.com/api/v1/item/60ae37baae4540bf6a89e617/download\" &&   curl -k -v -s -L $SLICER_RT_URL -o /tmp/29738-linux-amd64-SlicerRT-gitce6eefe-2021-08-27.tar.gz\n",
      "#14 sha256:9758db96b3e5104970fd5570a12eed2448cc599c3a9439767ac91a53874ae2b1\n",
      "#14 CACHED\n",
      "\n",
      "#11 [ 8/23] RUN apt-get install xvfb\n",
      "#11 sha256:25218a4fe6735758cfbd0feea78b65a6cb3777447be702b6aa3ed6f8dcc320b8\n",
      "#11 CACHED\n",
      "\n",
      "#13 [10/23] RUN SLICER_URL=\"https://download.slicer.org/bitstream/60add706ae4540bf6a89bf98\" &&   curl -k -v -s -L $SLICER_URL | tar xz -C /tmp &&   mv /tmp/Slicer* /opt/slicer\n",
      "#13 sha256:83bfd21761698d5b3a331350e769856be7255bfbce222d3a592e40eb1a09bcbc\n",
      "#13 CACHED\n",
      "\n",
      "#25 [21/23] RUN LNUM=$(sed -n '/launcher_item_app/=' /etc/tint2/panel.tint2rc | head -1) &&   sed -i \"${LNUM}ilauncher_item_app = /opt/slicer/slicer.desktop\" /etc/tint2/panel.tint2rc\n",
      "#25 sha256:843bb9d4eded6f441d22e89dd9836623ceb8cb5f28efa3f3d97d9d375156dc12\n",
      "#25 CACHED\n",
      "\n",
      "#22 [18/23] RUN chown -R researcher:researcher /home/researcher/Documents\n",
      "#22 sha256:18704fc0cb7d5cebcd0b7ece575d137c80c08136748b1b5043bfc79b47475949\n",
      "#22 CACHED\n",
      "\n",
      "#23 [19/23] COPY /home/researcher/.config /home/researcher/.config\n",
      "#23 sha256:117e64309d9a4544f7ad03ca018bb120618cb975c051a4d7d9c062c086d7878c\n",
      "#23 CACHED\n",
      "\n",
      "#19 [15/23] RUN chmod -R a+w /opt/slicer\n",
      "#19 sha256:a8e9b31c8611ed07ef699a373f4c9b177073e965113935d0951a46b77ea15e57\n",
      "#19 CACHED\n",
      "\n",
      "#8 [ 5/23] RUN apt-get install -y libxcb-shape0 libxcb-xinerama0 libxcb-xinerama0-dev\n",
      "#8 sha256:38a117fbab613fd58554d580bbceb94a90c3701e651ac02652a7792bc4541ed3\n",
      "#8 CACHED\n",
      "\n",
      "#6 [ 3/23] RUN apt-get install -y libpulse-dev libnss3 libglu1-mesa\n",
      "#6 sha256:0a942843db9e6b3a389e9d11bcb8ce6676bf2fafd78c98e54578222c99bffa1a\n",
      "#6 CACHED\n",
      "\n",
      "#9 [ 6/23] RUN apt-get install -y libxcb-icccm4-dev libxcb-image0-dev libxcb-keysyms1-dev libxcb-randr0 libxcb-xkb-dev libxkbcommon-x11-dev\n",
      "#9 sha256:9339b4d290bddd62b30be5d1d3aa8ed5b3936b3bb2cbea468488421ad7d1bf4a\n",
      "#9 CACHED\n",
      "\n",
      "#10 [ 7/23] RUN apt-get install libgomp1\n",
      "#10 sha256:13c1bc69f35296521d70ff75c914d52af38d303ce47d118390367c62a78cbf7b\n",
      "#10 CACHED\n",
      "\n",
      "#5 [ 2/23] RUN apt-get install -y libglu1-mesa\n",
      "#5 sha256:5d4ca360158c9ae6f1423ef936523787499e03110aec93674f6ff5a85ee451ee\n",
      "#5 CACHED\n",
      "\n",
      "#7 [ 4/23] RUN apt-get install -y libxcb-icccm4 libxcb-image0 libxcb-keysyms1 libxcb-render-util0 libxcb-xkb1 libxkbcommon-x11-0\n",
      "#7 sha256:220e42ad46b146a023b79a711c1349b5467f81368b5c717689a14243155147f3\n",
      "#7 CACHED\n",
      "\n",
      "#12 [ 9/23] RUN alias python=python3\n",
      "#12 sha256:dd1858b9ac9c78b55073c416c92b7d6c115c455e660bc74ba049371af7529dc0\n",
      "#12 CACHED\n",
      "\n",
      "#18 [14/23] COPY /usr /usr\n",
      "#18 sha256:d64b682fdc0b8c91e6816e7ba4c27d9bcca71267ed1bc1aa38ab15eba30b8b45\n",
      "#18 CACHED\n",
      "\n",
      "#20 [16/23] RUN su researcher -c \"mkdir /home/researcher/Documents\"\n",
      "#20 sha256:d63fab374332a1c7db0d9364f2c662f766077d8869111b3fff1b97a7002e7bed\n",
      "#20 CACHED\n",
      "\n",
      "#17 [13/23] COPY /opt /opt\n",
      "#17 sha256:cbece703edeabfb17b545a04ee731bd1bdecad12a0a29f651e2c4e41520c73af\n",
      "#17 CACHED\n",
      "\n",
      "#26 [22/23] RUN echo \"bash /tmp/shared/startup.sh\" > /home/researcher/.xinitrc\n",
      "#26 sha256:26e5af637bd88fcea0e821de5dd35d52c26a879ad5dc98643b1cf729d41164f2\n",
      "#26 CACHED\n",
      "\n",
      "#24 [20/23] RUN chown -R researcher:researcher /home/researcher/.config\n",
      "#24 sha256:73d98e9363fc8da8e59d66149f97cfc734127270ce220187b38be63ece105bd5\n",
      "#24 CACHED\n",
      "\n",
      "#27 [23/23] RUN startx &\n",
      "#27 sha256:1443185f33b4b2cb30ef40563b781f5c86a6665e7372c5e28aeddc4358217aad\n",
      "#27 CACHED\n",
      "\n",
      "#28 exporting to image\n",
      "#28 sha256:e8c613e07b0b7ff33893b694f7759a10d42e180f2b4dc349fb57dc6b71dcab00\n",
      "#28 exporting layers done\n",
      "#28 writing image sha256:59165160fe815c57179e84efeb1c17aaed227934eff9c68f52aa7dbb3cdf0cb0 done\n",
      "#28 naming to docker.io/deep_staple/slicer:latest done\n",
      "#28 DONE 0.0s\n"
     ]
    },
    {
     "name": "stdout",
     "output_type": "stream",
     "text": [
      "\n",
      "Use 'docker scan' to run Snyk tests against images to find vulnerabilities and learn how to fix them\n"
     ]
    }
   ],
   "source": [
    "# Build Slicer.org docker\n",
    "build_dir = Path(THIS_SCRIPT_DIR, \"tools/SlicerDockers\")\n",
    "subprocess.call(build_dir.joinpath(\"build.sh\"), cwd=build_dir)"
   ]
  },
  {
   "cell_type": "code",
   "execution_count": 21,
   "metadata": {},
   "outputs": [
    {
     "name": "stdout",
     "output_type": "stream",
     "text": [
      "WARNING: The requested image's platform (linux/amd64) does not match the detected host platform (linux/arm64/v8) and no specific platform was requested\n",
      "2022-04-03 21:35:25,843 CRIT Supervisor running as root (no user in config file)\n",
      "2022-04-03 21:35:25,845 INFO Included extra file \"/etc/supervisord.d/easydav.conf\" during parsing\n",
      "2022-04-03 21:35:25,845 INFO Included extra file \"/etc/supervisord.d/gotty.conf\" during parsing\n",
      "2022-04-03 21:35:25,845 INFO Included extra file \"/etc/supervisord.d/nginx.conf\" during parsing\n",
      "2022-04-03 21:35:25,846 INFO Included extra file \"/etc/supervisord.d/websockify.conf\" during parsing\n",
      "2022-04-03 21:35:25,846 INFO Included extra file \"/etc/supervisord.d/x11vnc.conf\" during parsing\n",
      "2022-04-03 21:35:25,846 INFO Included extra file \"/etc/supervisord.d/xdummy.conf\" during parsing\n",
      "2022-04-03 21:35:25,846 INFO Included extra file \"/etc/supervisord.d/xinitrc.conf\" during parsing\n",
      "2022-04-03 21:35:25,849 INFO Creating socket unix:///var/run/easydav.sock\n",
      "2022-04-03 21:35:25,850 INFO Closing socket unix:///var/run/easydav.sock\n",
      "2022-04-03 21:35:25,869 INFO RPC interface 'supervisor' initialized\n",
      "2022-04-03 21:35:25,869 CRIT Server 'unix_http_server' running without any HTTP authentication checking\n",
      "2022-04-03 21:35:25,870 INFO supervisord started with pid 1\n",
      "2022-04-03 21:35:26,881 INFO spawned: 'websockify' with pid 15\n",
      "2022-04-03 21:35:26,890 INFO spawned: 'nginx' with pid 17\n",
      "2022-04-03 21:35:26,899 INFO spawned: 'gotty' with pid 19\n",
      "2022-04-03 21:35:26,903 INFO Creating socket unix:///var/run/easydav.sock\n",
      "2022-04-03 21:35:26,913 INFO spawned: 'easydav' with pid 21\n",
      "2022-04-03 21:35:26,920 INFO spawned: 'x11vnc' with pid 22\n",
      "2022-04-03 21:35:26,927 INFO spawned: 'xdummy' with pid 24\n",
      "2022-04-03 21:35:26,934 INFO spawned: 'xinitrc' with pid 26\n",
      "2022-04-03 21:35:26,962 INFO success: xinitrc entered RUNNING state, process has stayed up for > than 0 seconds (startsecs)\n",
      "2022-04-03 21:35:26,992 INFO exited: gotty (exit status 2; not expected)\n",
      "2022-04-03 21:35:27,039 INFO exited: xinitrc (exit status 0; expected)\n",
      "2022-04-03 21:35:27,219 INFO exited: x11vnc (exit status 1; not expected)\n",
      "2022-04-03 21:35:27,983 INFO success: websockify entered RUNNING state, process has stayed up for > than 1 seconds (startsecs)\n",
      "2022-04-03 21:35:27,983 INFO success: nginx entered RUNNING state, process has stayed up for > than 1 seconds (startsecs)\n",
      "2022-04-03 21:35:27,983 INFO success: easydav entered RUNNING state, process has stayed up for > than 1 seconds (startsecs)\n",
      "2022-04-03 21:35:27,984 INFO success: xdummy entered RUNNING state, process has stayed up for > than 1 seconds (startsecs)\n",
      "2022-04-03 21:35:28,999 INFO spawned: 'gotty' with pid 103\n",
      "2022-04-03 21:35:29,006 INFO spawned: 'x11vnc' with pid 105\n",
      "2022-04-03 21:35:29,049 INFO exited: gotty (exit status 2; not expected)\n",
      "2022-04-03 21:35:30,256 INFO success: x11vnc entered RUNNING state, process has stayed up for > than 1 seconds (startsecs)\n",
      "2022-04-03 21:35:31,271 INFO spawned: 'gotty' with pid 120\n",
      "2022-04-03 21:35:31,334 INFO exited: gotty (exit status 2; not expected)\n",
      "2022-04-03 21:35:34,363 INFO spawned: 'gotty' with pid 123\n",
      "2022-04-03 21:35:34,418 INFO exited: gotty (exit status 2; not expected)\n",
      "2022-04-03 21:35:35,425 INFO gave up: gotty entered FATAL state, too many start retries too quickly\n",
      "^C\n",
      "2022-04-03 21:35:43,367 WARN received SIGINT indicating exit request\n",
      "2022-04-03 21:35:43,368 INFO waiting for websockify, nginx, easydav, x11vnc, xdummy to die\n"
     ]
    }
   ],
   "source": [
    "SHARED_DIR = Path(THIS_SCRIPT_DIR, \"tools/docker_shared\")\n",
    "SHARED_INPUT_DIR = TCIA_DATA_CONVENIENT_DIR\n",
    "SHARED_OUTPUT_DIR = TCIA_DATA_BASIC_PREPROCESSING_DIR\n",
    "\n",
    "SLICER_PREPROCESSING_SCRIPT_PATH = Path(THIS_SCRIPT_DIR, \"./tools/VS_Seg/preprocessing/data_conversion.py\")\n",
    "!cp {SLICER_PREPROCESSING_SCRIPT_PATH} {SHARED_DIR}\n",
    "\n",
    "# Run built docker file\n",
    "docker_cmd = f'docker run -v {shared_dir}:/tmp/shared -v {SHARED_INPUT_DIR}:/tmp/shared_input -v {SHARED_OUTPUT_DIR}:/tmp/shared_output -p 8080:8080 --rm -it deep_staple/slicer'\n",
    "!{docker_cmd}"
   ]
  },
  {
   "cell_type": "markdown",
   "metadata": {},
   "source": [
    "### Preprocessing step 3: Prepare dataloader file structure"
   ]
  },
  {
   "cell_type": "code",
   "execution_count": null,
   "metadata": {},
   "outputs": [],
   "source": [
    "TCIA_TO_CROSSMODA_SCRIPT = Path(THIS_SCRIPT_DIR, \"./tools/dataloader_preparation/tcia_to_crossmoda.py\")\n",
    "\n",
    "!{TCIA_TO_CROSSMODA_SCRIPT} --input {TCIA_DATA_BASIC_PREPROCESSING_DIR} --output {CROSSMODA_DATALOADER_DIR}"
   ]
  },
  {
   "cell_type": "markdown",
   "metadata": {},
   "source": [
    "### Preprocessing step 4: Add dataloader data levels l1 to l4"
   ]
  },
  {
   "cell_type": "code",
   "execution_count": null,
   "metadata": {},
   "outputs": [],
   "source": [
    "BUILD_LEVELS_SCRIPT = Path(THIS_SCIPTS_DIR, \"build_levels.py\")\n",
    "\n",
    "!{BUILD_LEVELS_SCRIPT} --input {}"
   ]
  }
 ],
 "metadata": {
  "interpreter": {
   "hash": "06ba18e7235aac9e9578e5cb0339dda8530a2db7f5b95196862af1240ab4b857"
  },
  "kernelspec": {
   "display_name": "Python 3.9.5 ('.venv': poetry)",
   "language": "python",
   "name": "python3"
  },
  "language_info": {
   "codemirror_mode": {
    "name": "ipython",
    "version": 3
   },
   "file_extension": ".py",
   "mimetype": "text/x-python",
   "name": "python",
   "nbconvert_exporter": "python",
   "pygments_lexer": "ipython3",
   "version": "3.9.10"
  },
  "orig_nbformat": 4
 },
 "nbformat": 4,
 "nbformat_minor": 2
}
